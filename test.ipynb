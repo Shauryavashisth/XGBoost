{
 "cells": [
  {
   "cell_type": "code",
   "execution_count": 1,
   "metadata": {},
   "outputs": [],
   "source": [
    "#Importing main library"
   ]
  },
  {
   "cell_type": "code",
   "execution_count": 2,
   "metadata": {},
   "outputs": [],
   "source": [
    "import pandas as pd\n",
    "import numpy as np\n",
    "import seaborn as sns\n",
    "import matplotlib.pyplot as plt"
   ]
  },
  {
   "cell_type": "code",
   "execution_count": 3,
   "metadata": {},
   "outputs": [],
   "source": [
    "data = pd.read_csv(\"D:\\Study\\BA\\TEST\\musk_csv.csv\")"
   ]
  },
  {
   "cell_type": "code",
   "execution_count": 4,
   "metadata": {},
   "outputs": [],
   "source": [
    "#looking into the data"
   ]
  },
  {
   "cell_type": "code",
   "execution_count": 5,
   "metadata": {},
   "outputs": [
    {
     "data": {
      "text/html": [
       "<div>\n",
       "<style scoped>\n",
       "    .dataframe tbody tr th:only-of-type {\n",
       "        vertical-align: middle;\n",
       "    }\n",
       "\n",
       "    .dataframe tbody tr th {\n",
       "        vertical-align: top;\n",
       "    }\n",
       "\n",
       "    .dataframe thead th {\n",
       "        text-align: right;\n",
       "    }\n",
       "</style>\n",
       "<table border=\"1\" class=\"dataframe\">\n",
       "  <thead>\n",
       "    <tr style=\"text-align: right;\">\n",
       "      <th></th>\n",
       "      <th>ID</th>\n",
       "      <th>f1</th>\n",
       "      <th>f2</th>\n",
       "      <th>f3</th>\n",
       "      <th>f4</th>\n",
       "      <th>f5</th>\n",
       "      <th>f6</th>\n",
       "      <th>f7</th>\n",
       "      <th>f8</th>\n",
       "      <th>f9</th>\n",
       "      <th>...</th>\n",
       "      <th>f158</th>\n",
       "      <th>f159</th>\n",
       "      <th>f160</th>\n",
       "      <th>f161</th>\n",
       "      <th>f162</th>\n",
       "      <th>f163</th>\n",
       "      <th>f164</th>\n",
       "      <th>f165</th>\n",
       "      <th>f166</th>\n",
       "      <th>class</th>\n",
       "    </tr>\n",
       "  </thead>\n",
       "  <tbody>\n",
       "    <tr>\n",
       "      <th>count</th>\n",
       "      <td>6598.00000</td>\n",
       "      <td>6598.000000</td>\n",
       "      <td>6598.000000</td>\n",
       "      <td>6598.000000</td>\n",
       "      <td>6598.000000</td>\n",
       "      <td>6598.000000</td>\n",
       "      <td>6598.000000</td>\n",
       "      <td>6598.000000</td>\n",
       "      <td>6598.000000</td>\n",
       "      <td>6598.000000</td>\n",
       "      <td>...</td>\n",
       "      <td>6598.000000</td>\n",
       "      <td>6598.000000</td>\n",
       "      <td>6598.000000</td>\n",
       "      <td>6598.000000</td>\n",
       "      <td>6598.000000</td>\n",
       "      <td>6598.000000</td>\n",
       "      <td>6598.000000</td>\n",
       "      <td>6598.000000</td>\n",
       "      <td>6598.000000</td>\n",
       "      <td>6598.000000</td>\n",
       "    </tr>\n",
       "    <tr>\n",
       "      <th>mean</th>\n",
       "      <td>3299.50000</td>\n",
       "      <td>58.945135</td>\n",
       "      <td>-119.128524</td>\n",
       "      <td>-73.146560</td>\n",
       "      <td>-0.628372</td>\n",
       "      <td>-103.533495</td>\n",
       "      <td>18.359806</td>\n",
       "      <td>-14.108821</td>\n",
       "      <td>-1.858290</td>\n",
       "      <td>-86.003031</td>\n",
       "      <td>...</td>\n",
       "      <td>-184.798272</td>\n",
       "      <td>-75.795696</td>\n",
       "      <td>-26.073204</td>\n",
       "      <td>64.616702</td>\n",
       "      <td>112.037739</td>\n",
       "      <td>201.760230</td>\n",
       "      <td>-47.488330</td>\n",
       "      <td>-150.259927</td>\n",
       "      <td>41.770233</td>\n",
       "      <td>0.154138</td>\n",
       "    </tr>\n",
       "    <tr>\n",
       "      <th>std</th>\n",
       "      <td>1904.82287</td>\n",
       "      <td>53.249007</td>\n",
       "      <td>90.813375</td>\n",
       "      <td>67.956235</td>\n",
       "      <td>80.444617</td>\n",
       "      <td>64.387559</td>\n",
       "      <td>80.593655</td>\n",
       "      <td>115.315673</td>\n",
       "      <td>90.372537</td>\n",
       "      <td>108.326676</td>\n",
       "      <td>...</td>\n",
       "      <td>107.819514</td>\n",
       "      <td>127.861271</td>\n",
       "      <td>69.727964</td>\n",
       "      <td>100.861935</td>\n",
       "      <td>72.835040</td>\n",
       "      <td>59.526751</td>\n",
       "      <td>55.069365</td>\n",
       "      <td>76.019023</td>\n",
       "      <td>94.116085</td>\n",
       "      <td>0.361108</td>\n",
       "    </tr>\n",
       "    <tr>\n",
       "      <th>min</th>\n",
       "      <td>1.00000</td>\n",
       "      <td>-31.000000</td>\n",
       "      <td>-199.000000</td>\n",
       "      <td>-167.000000</td>\n",
       "      <td>-114.000000</td>\n",
       "      <td>-118.000000</td>\n",
       "      <td>-183.000000</td>\n",
       "      <td>-171.000000</td>\n",
       "      <td>-225.000000</td>\n",
       "      <td>-245.000000</td>\n",
       "      <td>...</td>\n",
       "      <td>-328.000000</td>\n",
       "      <td>-219.000000</td>\n",
       "      <td>-136.000000</td>\n",
       "      <td>-120.000000</td>\n",
       "      <td>-69.000000</td>\n",
       "      <td>73.000000</td>\n",
       "      <td>-289.000000</td>\n",
       "      <td>-428.000000</td>\n",
       "      <td>-471.000000</td>\n",
       "      <td>0.000000</td>\n",
       "    </tr>\n",
       "    <tr>\n",
       "      <th>25%</th>\n",
       "      <td>1650.25000</td>\n",
       "      <td>37.000000</td>\n",
       "      <td>-193.000000</td>\n",
       "      <td>-137.000000</td>\n",
       "      <td>-70.000000</td>\n",
       "      <td>-117.000000</td>\n",
       "      <td>-28.000000</td>\n",
       "      <td>-159.000000</td>\n",
       "      <td>-85.000000</td>\n",
       "      <td>-217.000000</td>\n",
       "      <td>...</td>\n",
       "      <td>-272.000000</td>\n",
       "      <td>-205.000000</td>\n",
       "      <td>-70.000000</td>\n",
       "      <td>-18.000000</td>\n",
       "      <td>71.000000</td>\n",
       "      <td>166.000000</td>\n",
       "      <td>-68.000000</td>\n",
       "      <td>-179.000000</td>\n",
       "      <td>-9.000000</td>\n",
       "      <td>0.000000</td>\n",
       "    </tr>\n",
       "    <tr>\n",
       "      <th>50%</th>\n",
       "      <td>3299.50000</td>\n",
       "      <td>44.000000</td>\n",
       "      <td>-149.000000</td>\n",
       "      <td>-99.000000</td>\n",
       "      <td>-25.000000</td>\n",
       "      <td>-117.000000</td>\n",
       "      <td>33.000000</td>\n",
       "      <td>27.000000</td>\n",
       "      <td>19.000000</td>\n",
       "      <td>-40.000000</td>\n",
       "      <td>...</td>\n",
       "      <td>-234.000000</td>\n",
       "      <td>-131.000000</td>\n",
       "      <td>-21.000000</td>\n",
       "      <td>61.500000</td>\n",
       "      <td>107.000000</td>\n",
       "      <td>191.000000</td>\n",
       "      <td>-60.000000</td>\n",
       "      <td>-150.000000</td>\n",
       "      <td>27.000000</td>\n",
       "      <td>0.000000</td>\n",
       "    </tr>\n",
       "    <tr>\n",
       "      <th>75%</th>\n",
       "      <td>4948.75000</td>\n",
       "      <td>53.000000</td>\n",
       "      <td>-95.000000</td>\n",
       "      <td>-19.000000</td>\n",
       "      <td>42.000000</td>\n",
       "      <td>-116.000000</td>\n",
       "      <td>74.000000</td>\n",
       "      <td>57.000000</td>\n",
       "      <td>61.000000</td>\n",
       "      <td>-21.000000</td>\n",
       "      <td>...</td>\n",
       "      <td>-80.000000</td>\n",
       "      <td>52.000000</td>\n",
       "      <td>9.000000</td>\n",
       "      <td>149.000000</td>\n",
       "      <td>129.000000</td>\n",
       "      <td>215.000000</td>\n",
       "      <td>-45.000000</td>\n",
       "      <td>-120.000000</td>\n",
       "      <td>119.000000</td>\n",
       "      <td>0.000000</td>\n",
       "    </tr>\n",
       "    <tr>\n",
       "      <th>max</th>\n",
       "      <td>6598.00000</td>\n",
       "      <td>292.000000</td>\n",
       "      <td>95.000000</td>\n",
       "      <td>81.000000</td>\n",
       "      <td>161.000000</td>\n",
       "      <td>325.000000</td>\n",
       "      <td>200.000000</td>\n",
       "      <td>220.000000</td>\n",
       "      <td>320.000000</td>\n",
       "      <td>147.000000</td>\n",
       "      <td>...</td>\n",
       "      <td>94.000000</td>\n",
       "      <td>179.000000</td>\n",
       "      <td>192.000000</td>\n",
       "      <td>411.000000</td>\n",
       "      <td>355.000000</td>\n",
       "      <td>625.000000</td>\n",
       "      <td>295.000000</td>\n",
       "      <td>168.000000</td>\n",
       "      <td>367.000000</td>\n",
       "      <td>1.000000</td>\n",
       "    </tr>\n",
       "  </tbody>\n",
       "</table>\n",
       "<p>8 rows × 168 columns</p>\n",
       "</div>"
      ],
      "text/plain": [
       "               ID           f1           f2           f3           f4  \\\n",
       "count  6598.00000  6598.000000  6598.000000  6598.000000  6598.000000   \n",
       "mean   3299.50000    58.945135  -119.128524   -73.146560    -0.628372   \n",
       "std    1904.82287    53.249007    90.813375    67.956235    80.444617   \n",
       "min       1.00000   -31.000000  -199.000000  -167.000000  -114.000000   \n",
       "25%    1650.25000    37.000000  -193.000000  -137.000000   -70.000000   \n",
       "50%    3299.50000    44.000000  -149.000000   -99.000000   -25.000000   \n",
       "75%    4948.75000    53.000000   -95.000000   -19.000000    42.000000   \n",
       "max    6598.00000   292.000000    95.000000    81.000000   161.000000   \n",
       "\n",
       "                f5           f6           f7           f8           f9  ...  \\\n",
       "count  6598.000000  6598.000000  6598.000000  6598.000000  6598.000000  ...   \n",
       "mean   -103.533495    18.359806   -14.108821    -1.858290   -86.003031  ...   \n",
       "std      64.387559    80.593655   115.315673    90.372537   108.326676  ...   \n",
       "min    -118.000000  -183.000000  -171.000000  -225.000000  -245.000000  ...   \n",
       "25%    -117.000000   -28.000000  -159.000000   -85.000000  -217.000000  ...   \n",
       "50%    -117.000000    33.000000    27.000000    19.000000   -40.000000  ...   \n",
       "75%    -116.000000    74.000000    57.000000    61.000000   -21.000000  ...   \n",
       "max     325.000000   200.000000   220.000000   320.000000   147.000000  ...   \n",
       "\n",
       "              f158         f159         f160         f161         f162  \\\n",
       "count  6598.000000  6598.000000  6598.000000  6598.000000  6598.000000   \n",
       "mean   -184.798272   -75.795696   -26.073204    64.616702   112.037739   \n",
       "std     107.819514   127.861271    69.727964   100.861935    72.835040   \n",
       "min    -328.000000  -219.000000  -136.000000  -120.000000   -69.000000   \n",
       "25%    -272.000000  -205.000000   -70.000000   -18.000000    71.000000   \n",
       "50%    -234.000000  -131.000000   -21.000000    61.500000   107.000000   \n",
       "75%     -80.000000    52.000000     9.000000   149.000000   129.000000   \n",
       "max      94.000000   179.000000   192.000000   411.000000   355.000000   \n",
       "\n",
       "              f163         f164         f165         f166        class  \n",
       "count  6598.000000  6598.000000  6598.000000  6598.000000  6598.000000  \n",
       "mean    201.760230   -47.488330  -150.259927    41.770233     0.154138  \n",
       "std      59.526751    55.069365    76.019023    94.116085     0.361108  \n",
       "min      73.000000  -289.000000  -428.000000  -471.000000     0.000000  \n",
       "25%     166.000000   -68.000000  -179.000000    -9.000000     0.000000  \n",
       "50%     191.000000   -60.000000  -150.000000    27.000000     0.000000  \n",
       "75%     215.000000   -45.000000  -120.000000   119.000000     0.000000  \n",
       "max     625.000000   295.000000   168.000000   367.000000     1.000000  \n",
       "\n",
       "[8 rows x 168 columns]"
      ]
     },
     "execution_count": 5,
     "metadata": {},
     "output_type": "execute_result"
    }
   ],
   "source": [
    "data.describe()"
   ]
  },
  {
   "cell_type": "code",
   "execution_count": 6,
   "metadata": {},
   "outputs": [
    {
     "data": {
      "text/html": [
       "<div>\n",
       "<style scoped>\n",
       "    .dataframe tbody tr th:only-of-type {\n",
       "        vertical-align: middle;\n",
       "    }\n",
       "\n",
       "    .dataframe tbody tr th {\n",
       "        vertical-align: top;\n",
       "    }\n",
       "\n",
       "    .dataframe thead th {\n",
       "        text-align: right;\n",
       "    }\n",
       "</style>\n",
       "<table border=\"1\" class=\"dataframe\">\n",
       "  <thead>\n",
       "    <tr style=\"text-align: right;\">\n",
       "      <th></th>\n",
       "      <th>ID</th>\n",
       "      <th>molecule_name</th>\n",
       "      <th>conformation_name</th>\n",
       "      <th>f1</th>\n",
       "      <th>f2</th>\n",
       "      <th>f3</th>\n",
       "      <th>f4</th>\n",
       "      <th>f5</th>\n",
       "      <th>f6</th>\n",
       "      <th>f7</th>\n",
       "      <th>...</th>\n",
       "      <th>f158</th>\n",
       "      <th>f159</th>\n",
       "      <th>f160</th>\n",
       "      <th>f161</th>\n",
       "      <th>f162</th>\n",
       "      <th>f163</th>\n",
       "      <th>f164</th>\n",
       "      <th>f165</th>\n",
       "      <th>f166</th>\n",
       "      <th>class</th>\n",
       "    </tr>\n",
       "  </thead>\n",
       "  <tbody>\n",
       "    <tr>\n",
       "      <th>0</th>\n",
       "      <td>1</td>\n",
       "      <td>MUSK-211</td>\n",
       "      <td>211_1+1</td>\n",
       "      <td>46</td>\n",
       "      <td>-108</td>\n",
       "      <td>-60</td>\n",
       "      <td>-69</td>\n",
       "      <td>-117</td>\n",
       "      <td>49</td>\n",
       "      <td>38</td>\n",
       "      <td>...</td>\n",
       "      <td>-308</td>\n",
       "      <td>52</td>\n",
       "      <td>-7</td>\n",
       "      <td>39</td>\n",
       "      <td>126</td>\n",
       "      <td>156</td>\n",
       "      <td>-50</td>\n",
       "      <td>-112</td>\n",
       "      <td>96</td>\n",
       "      <td>1</td>\n",
       "    </tr>\n",
       "    <tr>\n",
       "      <th>1</th>\n",
       "      <td>2</td>\n",
       "      <td>MUSK-211</td>\n",
       "      <td>211_1+10</td>\n",
       "      <td>41</td>\n",
       "      <td>-188</td>\n",
       "      <td>-145</td>\n",
       "      <td>22</td>\n",
       "      <td>-117</td>\n",
       "      <td>-6</td>\n",
       "      <td>57</td>\n",
       "      <td>...</td>\n",
       "      <td>-59</td>\n",
       "      <td>-2</td>\n",
       "      <td>52</td>\n",
       "      <td>103</td>\n",
       "      <td>136</td>\n",
       "      <td>169</td>\n",
       "      <td>-61</td>\n",
       "      <td>-136</td>\n",
       "      <td>79</td>\n",
       "      <td>1</td>\n",
       "    </tr>\n",
       "    <tr>\n",
       "      <th>2</th>\n",
       "      <td>3</td>\n",
       "      <td>MUSK-211</td>\n",
       "      <td>211_1+11</td>\n",
       "      <td>46</td>\n",
       "      <td>-194</td>\n",
       "      <td>-145</td>\n",
       "      <td>28</td>\n",
       "      <td>-117</td>\n",
       "      <td>73</td>\n",
       "      <td>57</td>\n",
       "      <td>...</td>\n",
       "      <td>-134</td>\n",
       "      <td>-154</td>\n",
       "      <td>57</td>\n",
       "      <td>143</td>\n",
       "      <td>142</td>\n",
       "      <td>165</td>\n",
       "      <td>-67</td>\n",
       "      <td>-145</td>\n",
       "      <td>39</td>\n",
       "      <td>1</td>\n",
       "    </tr>\n",
       "    <tr>\n",
       "      <th>3</th>\n",
       "      <td>4</td>\n",
       "      <td>MUSK-211</td>\n",
       "      <td>211_1+12</td>\n",
       "      <td>41</td>\n",
       "      <td>-188</td>\n",
       "      <td>-145</td>\n",
       "      <td>22</td>\n",
       "      <td>-117</td>\n",
       "      <td>-7</td>\n",
       "      <td>57</td>\n",
       "      <td>...</td>\n",
       "      <td>-60</td>\n",
       "      <td>-4</td>\n",
       "      <td>52</td>\n",
       "      <td>104</td>\n",
       "      <td>136</td>\n",
       "      <td>168</td>\n",
       "      <td>-60</td>\n",
       "      <td>-135</td>\n",
       "      <td>80</td>\n",
       "      <td>1</td>\n",
       "    </tr>\n",
       "    <tr>\n",
       "      <th>4</th>\n",
       "      <td>5</td>\n",
       "      <td>MUSK-211</td>\n",
       "      <td>211_1+13</td>\n",
       "      <td>41</td>\n",
       "      <td>-188</td>\n",
       "      <td>-145</td>\n",
       "      <td>22</td>\n",
       "      <td>-117</td>\n",
       "      <td>-7</td>\n",
       "      <td>57</td>\n",
       "      <td>...</td>\n",
       "      <td>-60</td>\n",
       "      <td>-4</td>\n",
       "      <td>52</td>\n",
       "      <td>104</td>\n",
       "      <td>137</td>\n",
       "      <td>168</td>\n",
       "      <td>-60</td>\n",
       "      <td>-135</td>\n",
       "      <td>80</td>\n",
       "      <td>1</td>\n",
       "    </tr>\n",
       "  </tbody>\n",
       "</table>\n",
       "<p>5 rows × 170 columns</p>\n",
       "</div>"
      ],
      "text/plain": [
       "   ID molecule_name conformation_name  f1   f2   f3  f4   f5  f6  f7  ...  \\\n",
       "0   1      MUSK-211           211_1+1  46 -108  -60 -69 -117  49  38  ...   \n",
       "1   2      MUSK-211          211_1+10  41 -188 -145  22 -117  -6  57  ...   \n",
       "2   3      MUSK-211          211_1+11  46 -194 -145  28 -117  73  57  ...   \n",
       "3   4      MUSK-211          211_1+12  41 -188 -145  22 -117  -7  57  ...   \n",
       "4   5      MUSK-211          211_1+13  41 -188 -145  22 -117  -7  57  ...   \n",
       "\n",
       "   f158  f159  f160  f161  f162  f163  f164  f165  f166  class  \n",
       "0  -308    52    -7    39   126   156   -50  -112    96      1  \n",
       "1   -59    -2    52   103   136   169   -61  -136    79      1  \n",
       "2  -134  -154    57   143   142   165   -67  -145    39      1  \n",
       "3   -60    -4    52   104   136   168   -60  -135    80      1  \n",
       "4   -60    -4    52   104   137   168   -60  -135    80      1  \n",
       "\n",
       "[5 rows x 170 columns]"
      ]
     },
     "execution_count": 6,
     "metadata": {},
     "output_type": "execute_result"
    }
   ],
   "source": [
    "data.head()"
   ]
  },
  {
   "cell_type": "code",
   "execution_count": 7,
   "metadata": {},
   "outputs": [
    {
     "name": "stdout",
     "output_type": "stream",
     "text": [
      "<class 'pandas.core.frame.DataFrame'>\n",
      "RangeIndex: 6598 entries, 0 to 6597\n",
      "Columns: 170 entries, ID to class\n",
      "dtypes: int64(168), object(2)\n",
      "memory usage: 8.6+ MB\n"
     ]
    }
   ],
   "source": [
    "data.info()"
   ]
  },
  {
   "cell_type": "code",
   "execution_count": 8,
   "metadata": {},
   "outputs": [
    {
     "data": {
      "text/plain": [
       "ID                   6598\n",
       "molecule_name         102\n",
       "conformation_name    6598\n",
       "f1                    202\n",
       "f2                    260\n",
       "                     ... \n",
       "f163                  292\n",
       "f164                  172\n",
       "f165                  352\n",
       "f166                  385\n",
       "class                   2\n",
       "Length: 170, dtype: int64"
      ]
     },
     "execution_count": 8,
     "metadata": {},
     "output_type": "execute_result"
    }
   ],
   "source": [
    "data.nunique()"
   ]
  },
  {
   "cell_type": "code",
   "execution_count": 9,
   "metadata": {},
   "outputs": [],
   "source": [
    "#delete the variable which dose not seems to be needed"
   ]
  },
  {
   "cell_type": "code",
   "execution_count": 10,
   "metadata": {},
   "outputs": [],
   "source": [
    "data = data.drop(['ID','molecule_name','conformation_name'],axis=1)"
   ]
  },
  {
   "cell_type": "code",
   "execution_count": 11,
   "metadata": {},
   "outputs": [],
   "source": [
    "#finding out the Outliers"
   ]
  },
  {
   "cell_type": "code",
   "execution_count": 12,
   "metadata": {},
   "outputs": [],
   "source": [
    "object = ['object']\n",
    "cat = data.select_dtypes(object)"
   ]
  },
  {
   "cell_type": "code",
   "execution_count": 13,
   "metadata": {},
   "outputs": [
    {
     "data": {
      "text/plain": [
       "Index([], dtype='object')"
      ]
     },
     "execution_count": 13,
     "metadata": {},
     "output_type": "execute_result"
    }
   ],
   "source": [
    "cat.columns"
   ]
  },
  {
   "cell_type": "code",
   "execution_count": 14,
   "metadata": {},
   "outputs": [
    {
     "name": "stdout",
     "output_type": "stream",
     "text": [
      "<class 'pandas.core.frame.DataFrame'>\n",
      "RangeIndex: 6598 entries, 0 to 6597\n",
      "Columns: 167 entries, f1 to class\n",
      "dtypes: int64(167)\n",
      "memory usage: 8.4 MB\n"
     ]
    }
   ],
   "source": [
    "data.info()"
   ]
  },
  {
   "cell_type": "code",
   "execution_count": 15,
   "metadata": {},
   "outputs": [
    {
     "data": {
      "text/plain": [
       "<matplotlib.axes._subplots.AxesSubplot at 0x1b253e49130>"
      ]
     },
     "execution_count": 15,
     "metadata": {},
     "output_type": "execute_result"
    },
    {
     "data": {
      "image/png": "[encoded data removed]",
      "text/plain": [
       "<Figure size 2160x576 with 1 Axes>"
      ]
     },
     "metadata": {
      "needs_background": "light"
     },
     "output_type": "display_data"
    }
   ],
   "source": [
    "data.boxplot(figsize=(30,8))"
   ]
  },
  {
   "cell_type": "code",
   "execution_count": 16,
   "metadata": {},
   "outputs": [],
   "source": [
    "#Fixing of Outlier"
   ]
  },
  {
   "cell_type": "code",
   "execution_count": 17,
   "metadata": {},
   "outputs": [],
   "source": [
    "data1 = data.drop('class',axis=1)"
   ]
  },
  {
   "cell_type": "code",
   "execution_count": 18,
   "metadata": {},
   "outputs": [],
   "source": [
    "#outlier Treatment\n",
    "Q1 = data1.quantile(0.25)\n",
    "Q3 = data1.quantile(0.75)\n",
    "IQR = Q3 - Q1"
   ]
  },
  {
   "cell_type": "code",
   "execution_count": 19,
   "metadata": {},
   "outputs": [],
   "source": [
    "lower_limit = Q1 - 1.5*IQR\n",
    "upper_limit = Q3 + 1.5*IQR"
   ]
  },
  {
   "cell_type": "code",
   "execution_count": 20,
   "metadata": {},
   "outputs": [],
   "source": [
    "dataclean = data1[(data1>lower_limit)&(data1<upper_limit)]"
   ]
  },
  {
   "cell_type": "code",
   "execution_count": 21,
   "metadata": {},
   "outputs": [
    {
     "data": {
      "text/plain": [
       "<matplotlib.axes._subplots.AxesSubplot at 0x1b256ac0ac0>"
      ]
     },
     "execution_count": 21,
     "metadata": {},
     "output_type": "execute_result"
    },
    {
     "data": {
      "image/png": "[encoded data removed]",
      "text/plain": [
       "<Figure size 2160x576 with 1 Axes>"
      ]
     },
     "metadata": {
      "needs_background": "light"
     },
     "output_type": "display_data"
    }
   ],
   "source": [
    "dataclean.boxplot(figsize=(30,8))"
   ]
  },
  {
   "cell_type": "code",
   "execution_count": 22,
   "metadata": {},
   "outputs": [],
   "source": [
    "target = data[\"class\"]\n",
    "final = dataclean.join(target)"
   ]
  },
  {
   "cell_type": "code",
   "execution_count": 23,
   "metadata": {},
   "outputs": [
    {
     "name": "stdout",
     "output_type": "stream",
     "text": [
      "<class 'pandas.core.frame.DataFrame'>\n",
      "RangeIndex: 6598 entries, 0 to 6597\n",
      "Columns: 167 entries, f1 to class\n",
      "dtypes: float64(96), int64(71)\n",
      "memory usage: 8.4 MB\n"
     ]
    }
   ],
   "source": [
    "final.info()"
   ]
  },
  {
   "cell_type": "code",
   "execution_count": 24,
   "metadata": {},
   "outputs": [],
   "source": [
    "#making model"
   ]
  },
  {
   "cell_type": "code",
   "execution_count": 25,
   "metadata": {},
   "outputs": [],
   "source": [
    "X = final.drop(columns='class',axis=1)\n",
    "Y = final.iloc[:,-1:]"
   ]
  },
  {
   "cell_type": "code",
   "execution_count": 26,
   "metadata": {},
   "outputs": [],
   "source": [
    "#X = data1.drop(['class'],axis=1)\n",
    "#Y = data1['class']"
   ]
  },
  {
   "cell_type": "code",
   "execution_count": 27,
   "metadata": {},
   "outputs": [
    {
     "data": {
      "text/plain": [
       "((6598, 166), (6598, 1))"
      ]
     },
     "execution_count": 27,
     "metadata": {},
     "output_type": "execute_result"
    }
   ],
   "source": [
    "X.shape,Y.shape"
   ]
  },
  {
   "cell_type": "code",
   "execution_count": 28,
   "metadata": {},
   "outputs": [],
   "source": [
    "from sklearn.model_selection import train_test_split\n",
    "x_train, x_test, y_train, y_test = train_test_split(X,Y, test_size=0.2)"
   ]
  },
  {
   "cell_type": "code",
   "execution_count": 29,
   "metadata": {},
   "outputs": [
    {
     "data": {
      "text/plain": [
       "((5278, 166), (1320, 166), (5278, 1), (1320, 1))"
      ]
     },
     "execution_count": 29,
     "metadata": {},
     "output_type": "execute_result"
    }
   ],
   "source": [
    "x_train.shape, x_test.shape, y_train.shape, y_test.shape"
   ]
  },
  {
   "cell_type": "code",
   "execution_count": 30,
   "metadata": {},
   "outputs": [],
   "source": [
    "#setting Hyper-parameters"
   ]
  },
  {
   "cell_type": "code",
   "execution_count": 31,
   "metadata": {},
   "outputs": [],
   "source": [
    "params={\n",
    "    \"n_estimators\"  : [100,200,300],\n",
    "    \"max_depth\"     : [4,6,8,10],\n",
    "    \"learning_rate\"  : [0.05, 0.10, 0.15, 0.20, 0.25, 0.30],\n",
    " \"min_child_weight\" : [ 1, 3, 5, 7],\n",
    " \"gamma\"            : [ 0.0, 0.1, 0.2 , 0.3, 0.4 ],\n",
    " \"colsample_bytree\" : [ 0.3, 0.4, 0.5 , 0.7 ]   \n",
    "}"
   ]
  },
  {
   "cell_type": "code",
   "execution_count": 32,
   "metadata": {},
   "outputs": [],
   "source": [
    "from sklearn.model_selection import RandomizedSearchCV\n",
    "from xgboost import XGBClassifier"
   ]
  },
  {
   "cell_type": "code",
   "execution_count": 33,
   "metadata": {},
   "outputs": [],
   "source": [
    "classifier=XGBClassifier()"
   ]
  },
  {
   "cell_type": "code",
   "execution_count": 34,
   "metadata": {},
   "outputs": [],
   "source": [
    "random_search=RandomizedSearchCV(classifier,param_distributions=params)"
   ]
  },
  {
   "cell_type": "code",
   "execution_count": 35,
   "metadata": {},
   "outputs": [
    {
     "name": "stderr",
     "output_type": "stream",
     "text": [
      "C:\\Users\\Shaurya\\anaconda3\\lib\\site-packages\\sklearn\\utils\\validation.py:73: DataConversionWarning: A column-vector y was passed when a 1d array was expected. Please change the shape of y to (n_samples, ), for example using ravel().\n",
      "  return f(**kwargs)\n"
     ]
    },
    {
     "data": {
      "text/plain": [
       "RandomizedSearchCV(estimator=XGBClassifier(base_score=None, booster=None,\n",
       "                                           colsample_bylevel=None,\n",
       "                                           colsample_bynode=None,\n",
       "                                           colsample_bytree=None, gamma=None,\n",
       "                                           gpu_id=None, importance_type='gain',\n",
       "                                           interaction_constraints=None,\n",
       "                                           learning_rate=None,\n",
       "                                           max_delta_step=None, max_depth=None,\n",
       "                                           min_child_weight=None, missing=nan,\n",
       "                                           monotone_constraints=None,\n",
       "                                           n_estimators=100, n_job...\n",
       "                                           random_state=None, reg_alpha=None,\n",
       "                                           reg_lambda=None,\n",
       "                                           scale_pos_weight=None,\n",
       "                                           subsample=None, tree_method=None,\n",
       "                                           validate_parameters=None,\n",
       "                                           verbosity=None),\n",
       "                   param_distributions={'colsample_bytree': [0.3, 0.4, 0.5,\n",
       "                                                             0.7],\n",
       "                                        'gamma': [0.0, 0.1, 0.2, 0.3, 0.4],\n",
       "                                        'learning_rate': [0.05, 0.1, 0.15, 0.2,\n",
       "                                                          0.25, 0.3],\n",
       "                                        'max_depth': [4, 6, 8, 10],\n",
       "                                        'min_child_weight': [1, 3, 5, 7],\n",
       "                                        'n_estimators': [100, 200, 300]})"
      ]
     },
     "execution_count": 35,
     "metadata": {},
     "output_type": "execute_result"
    }
   ],
   "source": [
    "random_search.fit(x_train,y_train)"
   ]
  },
  {
   "cell_type": "code",
   "execution_count": 36,
   "metadata": {},
   "outputs": [
    {
     "data": {
      "text/plain": [
       "XGBClassifier(base_score=0.5, booster='gbtree', colsample_bylevel=1,\n",
       "              colsample_bynode=1, colsample_bytree=0.5, gamma=0.0, gpu_id=-1,\n",
       "              importance_type='gain', interaction_constraints='',\n",
       "              learning_rate=0.1, max_delta_step=0, max_depth=4,\n",
       "              min_child_weight=3, missing=nan, monotone_constraints='()',\n",
       "              n_estimators=300, n_jobs=0, num_parallel_tree=1, random_state=0,\n",
       "              reg_alpha=0, reg_lambda=1, scale_pos_weight=1, subsample=1,\n",
       "              tree_method='exact', validate_parameters=1, verbosity=None)"
      ]
     },
     "execution_count": 36,
     "metadata": {},
     "output_type": "execute_result"
    }
   ],
   "source": [
    "random_search.best_estimator_"
   ]
  },
  {
   "cell_type": "code",
   "execution_count": 37,
   "metadata": {},
   "outputs": [
    {
     "data": {
      "text/plain": [
       "{'n_estimators': 300,\n",
       " 'min_child_weight': 3,\n",
       " 'max_depth': 4,\n",
       " 'learning_rate': 0.1,\n",
       " 'gamma': 0.0,\n",
       " 'colsample_bytree': 0.5}"
      ]
     },
     "execution_count": 37,
     "metadata": {},
     "output_type": "execute_result"
    }
   ],
   "source": [
    "random_search.best_params_"
   ]
  },
  {
   "cell_type": "code",
   "execution_count": 38,
   "metadata": {},
   "outputs": [],
   "source": [
    "#applying best variables"
   ]
  },
  {
   "cell_type": "code",
   "execution_count": 39,
   "metadata": {},
   "outputs": [],
   "source": [
    "classifier=XGBClassifier(\n",
    "n_estimators=300,\n",
    "min_child_weight=3, \n",
    "max_depth=4, \n",
    "learning_rate=0.1,\n",
    "gamma=0.0, \n",
    "colsample_bytree=0.5)"
   ]
  },
  {
   "cell_type": "code",
   "execution_count": 40,
   "metadata": {},
   "outputs": [
    {
     "name": "stdout",
     "output_type": "stream",
     "text": [
      "[0]\tvalidation_0-error:0.07711\tvalidation_0-logloss:0.62129\tvalidation_1-error:0.07803\tvalidation_1-logloss:0.62175\n",
      "[1]\tvalidation_0-error:0.06915\tvalidation_0-logloss:0.56044\tvalidation_1-error:0.07197\tvalidation_1-logloss:0.56192\n",
      "[2]\tvalidation_0-error:0.06556\tvalidation_0-logloss:0.50872\tvalidation_1-error:0.06818\tvalidation_1-logloss:0.51088\n",
      "[3]\tvalidation_0-error:0.06328\tvalidation_0-logloss:0.46653\tvalidation_1-error:0.06591\tvalidation_1-logloss:0.47023\n",
      "[4]\tvalidation_0-error:0.06196\tvalidation_0-logloss:0.43123\tvalidation_1-error:0.06591\tvalidation_1-logloss:0.43576\n",
      "[5]\tvalidation_0-error:0.05930\tvalidation_0-logloss:0.39677\tvalidation_1-error:0.06591\tvalidation_1-logloss:0.40324\n",
      "[6]\tvalidation_0-error:0.05514\tvalidation_0-logloss:0.36792\tvalidation_1-error:0.06212\tvalidation_1-logloss:0.37550\n",
      "[7]\tvalidation_0-error:0.05476\tvalidation_0-logloss:0.34296\tvalidation_1-error:0.06515\tvalidation_1-logloss:0.35141\n",
      "[8]\tvalidation_0-error:0.05400\tvalidation_0-logloss:0.32111\tvalidation_1-error:0.06061\tvalidation_1-logloss:0.33115\n",
      "[9]\tvalidation_0-error:0.04945\tvalidation_0-logloss:0.30062\tvalidation_1-error:0.05985\tvalidation_1-logloss:0.31280\n",
      "[10]\tvalidation_0-error:0.04737\tvalidation_0-logloss:0.28171\tvalidation_1-error:0.05606\tvalidation_1-logloss:0.29519\n",
      "[11]\tvalidation_0-error:0.04850\tvalidation_0-logloss:0.26864\tvalidation_1-error:0.05985\tvalidation_1-logloss:0.28256\n",
      "[12]\tvalidation_0-error:0.04831\tvalidation_0-logloss:0.25247\tvalidation_1-error:0.06212\tvalidation_1-logloss:0.26838\n",
      "[13]\tvalidation_0-error:0.04737\tvalidation_0-logloss:0.24101\tvalidation_1-error:0.06288\tvalidation_1-logloss:0.25757\n",
      "[14]\tvalidation_0-error:0.04490\tvalidation_0-logloss:0.22806\tvalidation_1-error:0.05985\tvalidation_1-logloss:0.24643\n",
      "[15]\tvalidation_0-error:0.04433\tvalidation_0-logloss:0.21680\tvalidation_1-error:0.05909\tvalidation_1-logloss:0.23525\n",
      "[16]\tvalidation_0-error:0.04301\tvalidation_0-logloss:0.20715\tvalidation_1-error:0.05833\tvalidation_1-logloss:0.22591\n",
      "[17]\tvalidation_0-error:0.04225\tvalidation_0-logloss:0.19915\tvalidation_1-error:0.05758\tvalidation_1-logloss:0.21818\n",
      "[18]\tvalidation_0-error:0.04093\tvalidation_0-logloss:0.19170\tvalidation_1-error:0.05682\tvalidation_1-logloss:0.21114\n",
      "[19]\tvalidation_0-error:0.04093\tvalidation_0-logloss:0.18475\tvalidation_1-error:0.05833\tvalidation_1-logloss:0.20443\n",
      "[20]\tvalidation_0-error:0.03884\tvalidation_0-logloss:0.17809\tvalidation_1-error:0.05606\tvalidation_1-logloss:0.19797\n",
      "[21]\tvalidation_0-error:0.04036\tvalidation_0-logloss:0.17280\tvalidation_1-error:0.05606\tvalidation_1-logloss:0.19363\n",
      "[22]\tvalidation_0-error:0.04093\tvalidation_0-logloss:0.16811\tvalidation_1-error:0.05606\tvalidation_1-logloss:0.18926\n",
      "[23]\tvalidation_0-error:0.03979\tvalidation_0-logloss:0.16350\tvalidation_1-error:0.05530\tvalidation_1-logloss:0.18480\n",
      "[24]\tvalidation_0-error:0.03676\tvalidation_0-logloss:0.15887\tvalidation_1-error:0.05455\tvalidation_1-logloss:0.18084\n",
      "[25]\tvalidation_0-error:0.03751\tvalidation_0-logloss:0.15471\tvalidation_1-error:0.05227\tvalidation_1-logloss:0.17648\n",
      "[26]\tvalidation_0-error:0.03562\tvalidation_0-logloss:0.15038\tvalidation_1-error:0.05227\tvalidation_1-logloss:0.17241\n",
      "[27]\tvalidation_0-error:0.03467\tvalidation_0-logloss:0.14628\tvalidation_1-error:0.05227\tvalidation_1-logloss:0.16864\n",
      "[28]\tvalidation_0-error:0.03391\tvalidation_0-logloss:0.14259\tvalidation_1-error:0.05151\tvalidation_1-logloss:0.16551\n",
      "[29]\tvalidation_0-error:0.03448\tvalidation_0-logloss:0.13900\tvalidation_1-error:0.05227\tvalidation_1-logloss:0.16223\n",
      "[30]\tvalidation_0-error:0.03372\tvalidation_0-logloss:0.13572\tvalidation_1-error:0.05227\tvalidation_1-logloss:0.15959\n",
      "[31]\tvalidation_0-error:0.03391\tvalidation_0-logloss:0.13283\tvalidation_1-error:0.05151\tvalidation_1-logloss:0.15659\n",
      "[32]\tvalidation_0-error:0.03316\tvalidation_0-logloss:0.13011\tvalidation_1-error:0.05151\tvalidation_1-logloss:0.15480\n",
      "[33]\tvalidation_0-error:0.03316\tvalidation_0-logloss:0.12709\tvalidation_1-error:0.05000\tvalidation_1-logloss:0.15149\n",
      "[34]\tvalidation_0-error:0.03278\tvalidation_0-logloss:0.12492\tvalidation_1-error:0.05000\tvalidation_1-logloss:0.15005\n",
      "[35]\tvalidation_0-error:0.03183\tvalidation_0-logloss:0.12260\tvalidation_1-error:0.04849\tvalidation_1-logloss:0.14795\n",
      "[36]\tvalidation_0-error:0.03126\tvalidation_0-logloss:0.11999\tvalidation_1-error:0.04773\tvalidation_1-logloss:0.14568\n",
      "[37]\tvalidation_0-error:0.03050\tvalidation_0-logloss:0.11754\tvalidation_1-error:0.04773\tvalidation_1-logloss:0.14361\n",
      "[38]\tvalidation_0-error:0.02956\tvalidation_0-logloss:0.11608\tvalidation_1-error:0.04773\tvalidation_1-logloss:0.14230\n",
      "[39]\tvalidation_0-error:0.02880\tvalidation_0-logloss:0.11368\tvalidation_1-error:0.04773\tvalidation_1-logloss:0.13992\n",
      "[40]\tvalidation_0-error:0.02880\tvalidation_0-logloss:0.11155\tvalidation_1-error:0.04621\tvalidation_1-logloss:0.13787\n",
      "[41]\tvalidation_0-error:0.02880\tvalidation_0-logloss:0.11011\tvalidation_1-error:0.04773\tvalidation_1-logloss:0.13671\n",
      "[42]\tvalidation_0-error:0.02842\tvalidation_0-logloss:0.10854\tvalidation_1-error:0.04773\tvalidation_1-logloss:0.13545\n",
      "[43]\tvalidation_0-error:0.02823\tvalidation_0-logloss:0.10700\tvalidation_1-error:0.04697\tvalidation_1-logloss:0.13413\n",
      "[44]\tvalidation_0-error:0.02747\tvalidation_0-logloss:0.10523\tvalidation_1-error:0.04697\tvalidation_1-logloss:0.13269\n",
      "[45]\tvalidation_0-error:0.02709\tvalidation_0-logloss:0.10364\tvalidation_1-error:0.04546\tvalidation_1-logloss:0.13178\n",
      "[46]\tvalidation_0-error:0.02615\tvalidation_0-logloss:0.10205\tvalidation_1-error:0.04621\tvalidation_1-logloss:0.13011\n",
      "[47]\tvalidation_0-error:0.02596\tvalidation_0-logloss:0.10048\tvalidation_1-error:0.04621\tvalidation_1-logloss:0.12836\n",
      "[48]\tvalidation_0-error:0.02520\tvalidation_0-logloss:0.09931\tvalidation_1-error:0.04394\tvalidation_1-logloss:0.12720\n",
      "[49]\tvalidation_0-error:0.02425\tvalidation_0-logloss:0.09758\tvalidation_1-error:0.04470\tvalidation_1-logloss:0.12571\n",
      "[50]\tvalidation_0-error:0.02387\tvalidation_0-logloss:0.09620\tvalidation_1-error:0.04470\tvalidation_1-logloss:0.12465\n",
      "[51]\tvalidation_0-error:0.02425\tvalidation_0-logloss:0.09492\tvalidation_1-error:0.04242\tvalidation_1-logloss:0.12318\n",
      "[52]\tvalidation_0-error:0.02387\tvalidation_0-logloss:0.09371\tvalidation_1-error:0.04318\tvalidation_1-logloss:0.12224\n",
      "[53]\tvalidation_0-error:0.02330\tvalidation_0-logloss:0.09224\tvalidation_1-error:0.04318\tvalidation_1-logloss:0.12065\n",
      "[54]\tvalidation_0-error:0.02349\tvalidation_0-logloss:0.09094\tvalidation_1-error:0.04470\tvalidation_1-logloss:0.11932\n",
      "[55]\tvalidation_0-error:0.02198\tvalidation_0-logloss:0.08907\tvalidation_1-error:0.04318\tvalidation_1-logloss:0.11775\n",
      "[56]\tvalidation_0-error:0.02179\tvalidation_0-logloss:0.08774\tvalidation_1-error:0.04318\tvalidation_1-logloss:0.11635\n",
      "[57]\tvalidation_0-error:0.02103\tvalidation_0-logloss:0.08632\tvalidation_1-error:0.04318\tvalidation_1-logloss:0.11454\n",
      "[58]\tvalidation_0-error:0.02065\tvalidation_0-logloss:0.08500\tvalidation_1-error:0.04242\tvalidation_1-logloss:0.11286\n",
      "[59]\tvalidation_0-error:0.02046\tvalidation_0-logloss:0.08374\tvalidation_1-error:0.04242\tvalidation_1-logloss:0.11168\n",
      "[60]\tvalidation_0-error:0.02008\tvalidation_0-logloss:0.08255\tvalidation_1-error:0.04167\tvalidation_1-logloss:0.11051\n",
      "[61]\tvalidation_0-error:0.01989\tvalidation_0-logloss:0.08130\tvalidation_1-error:0.04242\tvalidation_1-logloss:0.10942\n",
      "[62]\tvalidation_0-error:0.01952\tvalidation_0-logloss:0.07981\tvalidation_1-error:0.04167\tvalidation_1-logloss:0.10779\n",
      "[63]\tvalidation_0-error:0.01895\tvalidation_0-logloss:0.07848\tvalidation_1-error:0.04167\tvalidation_1-logloss:0.10597\n",
      "[64]\tvalidation_0-error:0.01876\tvalidation_0-logloss:0.07780\tvalidation_1-error:0.04167\tvalidation_1-logloss:0.10551\n",
      "[65]\tvalidation_0-error:0.01857\tvalidation_0-logloss:0.07645\tvalidation_1-error:0.04015\tvalidation_1-logloss:0.10432\n",
      "[66]\tvalidation_0-error:0.01800\tvalidation_0-logloss:0.07562\tvalidation_1-error:0.03864\tvalidation_1-logloss:0.10369\n",
      "[67]\tvalidation_0-error:0.01781\tvalidation_0-logloss:0.07454\tvalidation_1-error:0.03788\tvalidation_1-logloss:0.10259\n",
      "[68]\tvalidation_0-error:0.01781\tvalidation_0-logloss:0.07399\tvalidation_1-error:0.03788\tvalidation_1-logloss:0.10183\n",
      "[69]\tvalidation_0-error:0.01743\tvalidation_0-logloss:0.07289\tvalidation_1-error:0.03712\tvalidation_1-logloss:0.10084\n",
      "[70]\tvalidation_0-error:0.01743\tvalidation_0-logloss:0.07203\tvalidation_1-error:0.03636\tvalidation_1-logloss:0.09983\n",
      "[71]\tvalidation_0-error:0.01705\tvalidation_0-logloss:0.07130\tvalidation_1-error:0.03485\tvalidation_1-logloss:0.09899\n",
      "[72]\tvalidation_0-error:0.01667\tvalidation_0-logloss:0.07034\tvalidation_1-error:0.03561\tvalidation_1-logloss:0.09789\n",
      "[73]\tvalidation_0-error:0.01667\tvalidation_0-logloss:0.06912\tvalidation_1-error:0.03485\tvalidation_1-logloss:0.09695\n",
      "[74]\tvalidation_0-error:0.01648\tvalidation_0-logloss:0.06810\tvalidation_1-error:0.03409\tvalidation_1-logloss:0.09601\n",
      "[75]\tvalidation_0-error:0.01591\tvalidation_0-logloss:0.06716\tvalidation_1-error:0.03333\tvalidation_1-logloss:0.09524\n",
      "[76]\tvalidation_0-error:0.01535\tvalidation_0-logloss:0.06632\tvalidation_1-error:0.03333\tvalidation_1-logloss:0.09472\n",
      "[77]\tvalidation_0-error:0.01516\tvalidation_0-logloss:0.06552\tvalidation_1-error:0.03258\tvalidation_1-logloss:0.09393\n",
      "[78]\tvalidation_0-error:0.01516\tvalidation_0-logloss:0.06506\tvalidation_1-error:0.03182\tvalidation_1-logloss:0.09357\n",
      "[79]\tvalidation_0-error:0.01516\tvalidation_0-logloss:0.06441\tvalidation_1-error:0.03030\tvalidation_1-logloss:0.09307\n",
      "[80]\tvalidation_0-error:0.01459\tvalidation_0-logloss:0.06353\tvalidation_1-error:0.03182\tvalidation_1-logloss:0.09251\n",
      "[81]\tvalidation_0-error:0.01383\tvalidation_0-logloss:0.06259\tvalidation_1-error:0.03030\tvalidation_1-logloss:0.09145\n",
      "[82]\tvalidation_0-error:0.01383\tvalidation_0-logloss:0.06206\tvalidation_1-error:0.03030\tvalidation_1-logloss:0.09097\n",
      "[83]\tvalidation_0-error:0.01345\tvalidation_0-logloss:0.06147\tvalidation_1-error:0.02954\tvalidation_1-logloss:0.09056\n",
      "[84]\tvalidation_0-error:0.01364\tvalidation_0-logloss:0.06066\tvalidation_1-error:0.02954\tvalidation_1-logloss:0.08973\n",
      "[85]\tvalidation_0-error:0.01326\tvalidation_0-logloss:0.06024\tvalidation_1-error:0.02879\tvalidation_1-logloss:0.08939\n",
      "[86]\tvalidation_0-error:0.01288\tvalidation_0-logloss:0.05913\tvalidation_1-error:0.02879\tvalidation_1-logloss:0.08846\n",
      "[87]\tvalidation_0-error:0.01288\tvalidation_0-logloss:0.05872\tvalidation_1-error:0.02879\tvalidation_1-logloss:0.08812\n",
      "[88]\tvalidation_0-error:0.01251\tvalidation_0-logloss:0.05821\tvalidation_1-error:0.02879\tvalidation_1-logloss:0.08744\n",
      "[89]\tvalidation_0-error:0.01213\tvalidation_0-logloss:0.05779\tvalidation_1-error:0.02803\tvalidation_1-logloss:0.08693\n",
      "[90]\tvalidation_0-error:0.01194\tvalidation_0-logloss:0.05730\tvalidation_1-error:0.02803\tvalidation_1-logloss:0.08671\n",
      "[91]\tvalidation_0-error:0.01137\tvalidation_0-logloss:0.05654\tvalidation_1-error:0.03030\tvalidation_1-logloss:0.08581\n",
      "[92]\tvalidation_0-error:0.01118\tvalidation_0-logloss:0.05604\tvalidation_1-error:0.02879\tvalidation_1-logloss:0.08539\n",
      "[93]\tvalidation_0-error:0.01175\tvalidation_0-logloss:0.05536\tvalidation_1-error:0.02803\tvalidation_1-logloss:0.08453\n",
      "[94]\tvalidation_0-error:0.01137\tvalidation_0-logloss:0.05482\tvalidation_1-error:0.02803\tvalidation_1-logloss:0.08400\n",
      "[95]\tvalidation_0-error:0.01118\tvalidation_0-logloss:0.05436\tvalidation_1-error:0.02803\tvalidation_1-logloss:0.08359\n",
      "[96]\tvalidation_0-error:0.01080\tvalidation_0-logloss:0.05393\tvalidation_1-error:0.02803\tvalidation_1-logloss:0.08305\n",
      "[97]\tvalidation_0-error:0.01042\tvalidation_0-logloss:0.05331\tvalidation_1-error:0.02803\tvalidation_1-logloss:0.08241\n",
      "[98]\tvalidation_0-error:0.01004\tvalidation_0-logloss:0.05286\tvalidation_1-error:0.02803\tvalidation_1-logloss:0.08204\n",
      "[99]\tvalidation_0-error:0.00966\tvalidation_0-logloss:0.05186\tvalidation_1-error:0.02727\tvalidation_1-logloss:0.08101\n",
      "[100]\tvalidation_0-error:0.00909\tvalidation_0-logloss:0.05126\tvalidation_1-error:0.02727\tvalidation_1-logloss:0.08032\n",
      "[101]\tvalidation_0-error:0.00890\tvalidation_0-logloss:0.05074\tvalidation_1-error:0.02576\tvalidation_1-logloss:0.07947\n",
      "[102]\tvalidation_0-error:0.00909\tvalidation_0-logloss:0.05029\tvalidation_1-error:0.02576\tvalidation_1-logloss:0.07899\n",
      "[103]\tvalidation_0-error:0.00928\tvalidation_0-logloss:0.04984\tvalidation_1-error:0.02803\tvalidation_1-logloss:0.07828\n",
      "[104]\tvalidation_0-error:0.00872\tvalidation_0-logloss:0.04943\tvalidation_1-error:0.02727\tvalidation_1-logloss:0.07785\n",
      "[105]\tvalidation_0-error:0.00872\tvalidation_0-logloss:0.04898\tvalidation_1-error:0.02576\tvalidation_1-logloss:0.07736\n",
      "[106]\tvalidation_0-error:0.00853\tvalidation_0-logloss:0.04854\tvalidation_1-error:0.02500\tvalidation_1-logloss:0.07679\n",
      "[107]\tvalidation_0-error:0.00853\tvalidation_0-logloss:0.04822\tvalidation_1-error:0.02576\tvalidation_1-logloss:0.07645\n",
      "[108]\tvalidation_0-error:0.00834\tvalidation_0-logloss:0.04776\tvalidation_1-error:0.02500\tvalidation_1-logloss:0.07614\n",
      "[109]\tvalidation_0-error:0.00834\tvalidation_0-logloss:0.04727\tvalidation_1-error:0.02500\tvalidation_1-logloss:0.07566\n",
      "[110]\tvalidation_0-error:0.00815\tvalidation_0-logloss:0.04657\tvalidation_1-error:0.02576\tvalidation_1-logloss:0.07480\n",
      "[111]\tvalidation_0-error:0.00796\tvalidation_0-logloss:0.04616\tvalidation_1-error:0.02576\tvalidation_1-logloss:0.07447\n",
      "[112]\tvalidation_0-error:0.00739\tvalidation_0-logloss:0.04576\tvalidation_1-error:0.02348\tvalidation_1-logloss:0.07404\n",
      "[113]\tvalidation_0-error:0.00758\tvalidation_0-logloss:0.04544\tvalidation_1-error:0.02348\tvalidation_1-logloss:0.07366\n",
      "[114]\tvalidation_0-error:0.00758\tvalidation_0-logloss:0.04483\tvalidation_1-error:0.02348\tvalidation_1-logloss:0.07295\n",
      "[115]\tvalidation_0-error:0.00739\tvalidation_0-logloss:0.04416\tvalidation_1-error:0.02348\tvalidation_1-logloss:0.07228\n",
      "[116]\tvalidation_0-error:0.00720\tvalidation_0-logloss:0.04382\tvalidation_1-error:0.02424\tvalidation_1-logloss:0.07203\n",
      "[117]\tvalidation_0-error:0.00682\tvalidation_0-logloss:0.04347\tvalidation_1-error:0.02348\tvalidation_1-logloss:0.07178\n",
      "[118]\tvalidation_0-error:0.00587\tvalidation_0-logloss:0.04293\tvalidation_1-error:0.02424\tvalidation_1-logloss:0.07129\n",
      "[119]\tvalidation_0-error:0.00587\tvalidation_0-logloss:0.04240\tvalidation_1-error:0.02273\tvalidation_1-logloss:0.07077\n",
      "[120]\tvalidation_0-error:0.00606\tvalidation_0-logloss:0.04203\tvalidation_1-error:0.02273\tvalidation_1-logloss:0.07041\n",
      "[121]\tvalidation_0-error:0.00530\tvalidation_0-logloss:0.04161\tvalidation_1-error:0.02273\tvalidation_1-logloss:0.06994\n",
      "[122]\tvalidation_0-error:0.00530\tvalidation_0-logloss:0.04120\tvalidation_1-error:0.02273\tvalidation_1-logloss:0.06951\n",
      "[123]\tvalidation_0-error:0.00530\tvalidation_0-logloss:0.04089\tvalidation_1-error:0.02424\tvalidation_1-logloss:0.06906\n",
      "[124]\tvalidation_0-error:0.00549\tvalidation_0-logloss:0.04050\tvalidation_1-error:0.02424\tvalidation_1-logloss:0.06848\n",
      "[125]\tvalidation_0-error:0.00549\tvalidation_0-logloss:0.04002\tvalidation_1-error:0.02424\tvalidation_1-logloss:0.06771\n",
      "[126]\tvalidation_0-error:0.00493\tvalidation_0-logloss:0.03964\tvalidation_1-error:0.02348\tvalidation_1-logloss:0.06734\n",
      "[127]\tvalidation_0-error:0.00474\tvalidation_0-logloss:0.03932\tvalidation_1-error:0.02424\tvalidation_1-logloss:0.06699\n",
      "[128]\tvalidation_0-error:0.00474\tvalidation_0-logloss:0.03893\tvalidation_1-error:0.02500\tvalidation_1-logloss:0.06657\n",
      "[129]\tvalidation_0-error:0.00474\tvalidation_0-logloss:0.03851\tvalidation_1-error:0.02424\tvalidation_1-logloss:0.06622\n",
      "[130]\tvalidation_0-error:0.00474\tvalidation_0-logloss:0.03827\tvalidation_1-error:0.02500\tvalidation_1-logloss:0.06585\n",
      "[131]\tvalidation_0-error:0.00455\tvalidation_0-logloss:0.03790\tvalidation_1-error:0.02273\tvalidation_1-logloss:0.06545\n",
      "[132]\tvalidation_0-error:0.00436\tvalidation_0-logloss:0.03767\tvalidation_1-error:0.02273\tvalidation_1-logloss:0.06503\n",
      "[133]\tvalidation_0-error:0.00436\tvalidation_0-logloss:0.03741\tvalidation_1-error:0.02197\tvalidation_1-logloss:0.06485\n",
      "[134]\tvalidation_0-error:0.00436\tvalidation_0-logloss:0.03708\tvalidation_1-error:0.02121\tvalidation_1-logloss:0.06460\n",
      "[135]\tvalidation_0-error:0.00417\tvalidation_0-logloss:0.03683\tvalidation_1-error:0.02273\tvalidation_1-logloss:0.06437\n",
      "[136]\tvalidation_0-error:0.00417\tvalidation_0-logloss:0.03639\tvalidation_1-error:0.02197\tvalidation_1-logloss:0.06398\n",
      "[137]\tvalidation_0-error:0.00417\tvalidation_0-logloss:0.03605\tvalidation_1-error:0.02197\tvalidation_1-logloss:0.06341\n",
      "[138]\tvalidation_0-error:0.00417\tvalidation_0-logloss:0.03581\tvalidation_1-error:0.02121\tvalidation_1-logloss:0.06334\n",
      "[139]\tvalidation_0-error:0.00417\tvalidation_0-logloss:0.03548\tvalidation_1-error:0.02197\tvalidation_1-logloss:0.06299\n",
      "[140]\tvalidation_0-error:0.00417\tvalidation_0-logloss:0.03529\tvalidation_1-error:0.02197\tvalidation_1-logloss:0.06265\n",
      "[141]\tvalidation_0-error:0.00398\tvalidation_0-logloss:0.03484\tvalidation_1-error:0.02197\tvalidation_1-logloss:0.06231\n",
      "[142]\tvalidation_0-error:0.00360\tvalidation_0-logloss:0.03457\tvalidation_1-error:0.02046\tvalidation_1-logloss:0.06198\n",
      "[143]\tvalidation_0-error:0.00360\tvalidation_0-logloss:0.03426\tvalidation_1-error:0.02121\tvalidation_1-logloss:0.06157\n",
      "[144]\tvalidation_0-error:0.00360\tvalidation_0-logloss:0.03394\tvalidation_1-error:0.02121\tvalidation_1-logloss:0.06140\n",
      "[145]\tvalidation_0-error:0.00322\tvalidation_0-logloss:0.03341\tvalidation_1-error:0.02273\tvalidation_1-logloss:0.06087\n",
      "[146]\tvalidation_0-error:0.00322\tvalidation_0-logloss:0.03315\tvalidation_1-error:0.02273\tvalidation_1-logloss:0.06067\n",
      "[147]\tvalidation_0-error:0.00322\tvalidation_0-logloss:0.03289\tvalidation_1-error:0.02197\tvalidation_1-logloss:0.06056\n",
      "[148]\tvalidation_0-error:0.00322\tvalidation_0-logloss:0.03252\tvalidation_1-error:0.02197\tvalidation_1-logloss:0.06008\n",
      "[149]\tvalidation_0-error:0.00284\tvalidation_0-logloss:0.03225\tvalidation_1-error:0.02121\tvalidation_1-logloss:0.05976\n",
      "[150]\tvalidation_0-error:0.00265\tvalidation_0-logloss:0.03191\tvalidation_1-error:0.02197\tvalidation_1-logloss:0.05940\n",
      "[151]\tvalidation_0-error:0.00265\tvalidation_0-logloss:0.03169\tvalidation_1-error:0.02197\tvalidation_1-logloss:0.05925\n",
      "[152]\tvalidation_0-error:0.00227\tvalidation_0-logloss:0.03153\tvalidation_1-error:0.02197\tvalidation_1-logloss:0.05919\n",
      "[153]\tvalidation_0-error:0.00246\tvalidation_0-logloss:0.03130\tvalidation_1-error:0.02197\tvalidation_1-logloss:0.05900\n",
      "[154]\tvalidation_0-error:0.00227\tvalidation_0-logloss:0.03108\tvalidation_1-error:0.02121\tvalidation_1-logloss:0.05882\n",
      "[155]\tvalidation_0-error:0.00227\tvalidation_0-logloss:0.03076\tvalidation_1-error:0.02121\tvalidation_1-logloss:0.05853\n",
      "[156]\tvalidation_0-error:0.00227\tvalidation_0-logloss:0.03051\tvalidation_1-error:0.02121\tvalidation_1-logloss:0.05824\n",
      "[157]\tvalidation_0-error:0.00227\tvalidation_0-logloss:0.03007\tvalidation_1-error:0.02121\tvalidation_1-logloss:0.05777\n",
      "[158]\tvalidation_0-error:0.00227\tvalidation_0-logloss:0.02990\tvalidation_1-error:0.02121\tvalidation_1-logloss:0.05758\n",
      "[159]\tvalidation_0-error:0.00227\tvalidation_0-logloss:0.02966\tvalidation_1-error:0.02046\tvalidation_1-logloss:0.05729\n",
      "[160]\tvalidation_0-error:0.00227\tvalidation_0-logloss:0.02936\tvalidation_1-error:0.02121\tvalidation_1-logloss:0.05712\n",
      "[161]\tvalidation_0-error:0.00189\tvalidation_0-logloss:0.02917\tvalidation_1-error:0.02121\tvalidation_1-logloss:0.05694\n",
      "[162]\tvalidation_0-error:0.00189\tvalidation_0-logloss:0.02898\tvalidation_1-error:0.02121\tvalidation_1-logloss:0.05666\n",
      "[163]\tvalidation_0-error:0.00189\tvalidation_0-logloss:0.02879\tvalidation_1-error:0.02121\tvalidation_1-logloss:0.05641\n",
      "[164]\tvalidation_0-error:0.00189\tvalidation_0-logloss:0.02858\tvalidation_1-error:0.02121\tvalidation_1-logloss:0.05623\n",
      "[165]\tvalidation_0-error:0.00189\tvalidation_0-logloss:0.02843\tvalidation_1-error:0.02197\tvalidation_1-logloss:0.05605\n",
      "[166]\tvalidation_0-error:0.00170\tvalidation_0-logloss:0.02829\tvalidation_1-error:0.02121\tvalidation_1-logloss:0.05591\n",
      "[167]\tvalidation_0-error:0.00152\tvalidation_0-logloss:0.02802\tvalidation_1-error:0.02121\tvalidation_1-logloss:0.05554\n",
      "[168]\tvalidation_0-error:0.00095\tvalidation_0-logloss:0.02761\tvalidation_1-error:0.02121\tvalidation_1-logloss:0.05480\n",
      "[169]\tvalidation_0-error:0.00076\tvalidation_0-logloss:0.02747\tvalidation_1-error:0.02121\tvalidation_1-logloss:0.05473\n",
      "[170]\tvalidation_0-error:0.00076\tvalidation_0-logloss:0.02729\tvalidation_1-error:0.02121\tvalidation_1-logloss:0.05461\n",
      "[171]\tvalidation_0-error:0.00057\tvalidation_0-logloss:0.02704\tvalidation_1-error:0.02121\tvalidation_1-logloss:0.05441\n",
      "[172]\tvalidation_0-error:0.00057\tvalidation_0-logloss:0.02678\tvalidation_1-error:0.02121\tvalidation_1-logloss:0.05428\n",
      "[173]\tvalidation_0-error:0.00076\tvalidation_0-logloss:0.02663\tvalidation_1-error:0.02046\tvalidation_1-logloss:0.05425\n",
      "[174]\tvalidation_0-error:0.00076\tvalidation_0-logloss:0.02644\tvalidation_1-error:0.02046\tvalidation_1-logloss:0.05394\n",
      "[175]\tvalidation_0-error:0.00057\tvalidation_0-logloss:0.02622\tvalidation_1-error:0.02046\tvalidation_1-logloss:0.05362\n",
      "[176]\tvalidation_0-error:0.00057\tvalidation_0-logloss:0.02600\tvalidation_1-error:0.01970\tvalidation_1-logloss:0.05331\n",
      "[177]\tvalidation_0-error:0.00057\tvalidation_0-logloss:0.02584\tvalidation_1-error:0.01970\tvalidation_1-logloss:0.05284\n",
      "[178]\tvalidation_0-error:0.00057\tvalidation_0-logloss:0.02566\tvalidation_1-error:0.02046\tvalidation_1-logloss:0.05265\n",
      "[179]\tvalidation_0-error:0.00057\tvalidation_0-logloss:0.02547\tvalidation_1-error:0.01894\tvalidation_1-logloss:0.05229\n",
      "[180]\tvalidation_0-error:0.00057\tvalidation_0-logloss:0.02532\tvalidation_1-error:0.02046\tvalidation_1-logloss:0.05216\n",
      "[181]\tvalidation_0-error:0.00057\tvalidation_0-logloss:0.02516\tvalidation_1-error:0.02046\tvalidation_1-logloss:0.05207\n",
      "[182]\tvalidation_0-error:0.00038\tvalidation_0-logloss:0.02492\tvalidation_1-error:0.01970\tvalidation_1-logloss:0.05178\n",
      "[183]\tvalidation_0-error:0.00038\tvalidation_0-logloss:0.02473\tvalidation_1-error:0.02046\tvalidation_1-logloss:0.05173\n",
      "[184]\tvalidation_0-error:0.00038\tvalidation_0-logloss:0.02451\tvalidation_1-error:0.02121\tvalidation_1-logloss:0.05150\n",
      "[185]\tvalidation_0-error:0.00038\tvalidation_0-logloss:0.02428\tvalidation_1-error:0.02046\tvalidation_1-logloss:0.05115\n",
      "[186]\tvalidation_0-error:0.00038\tvalidation_0-logloss:0.02403\tvalidation_1-error:0.02046\tvalidation_1-logloss:0.05079\n",
      "[187]\tvalidation_0-error:0.00038\tvalidation_0-logloss:0.02380\tvalidation_1-error:0.01970\tvalidation_1-logloss:0.05037\n",
      "[188]\tvalidation_0-error:0.00038\tvalidation_0-logloss:0.02364\tvalidation_1-error:0.01970\tvalidation_1-logloss:0.05010\n",
      "[189]\tvalidation_0-error:0.00038\tvalidation_0-logloss:0.02352\tvalidation_1-error:0.01818\tvalidation_1-logloss:0.04976\n",
      "[190]\tvalidation_0-error:0.00019\tvalidation_0-logloss:0.02334\tvalidation_1-error:0.01970\tvalidation_1-logloss:0.04959\n",
      "[191]\tvalidation_0-error:0.00019\tvalidation_0-logloss:0.02313\tvalidation_1-error:0.01970\tvalidation_1-logloss:0.04938\n",
      "[192]\tvalidation_0-error:0.00000\tvalidation_0-logloss:0.02300\tvalidation_1-error:0.01970\tvalidation_1-logloss:0.04911\n",
      "[193]\tvalidation_0-error:0.00000\tvalidation_0-logloss:0.02281\tvalidation_1-error:0.01818\tvalidation_1-logloss:0.04888\n",
      "[194]\tvalidation_0-error:0.00000\tvalidation_0-logloss:0.02261\tvalidation_1-error:0.01818\tvalidation_1-logloss:0.04856\n",
      "[195]\tvalidation_0-error:0.00000\tvalidation_0-logloss:0.02241\tvalidation_1-error:0.01818\tvalidation_1-logloss:0.04829\n",
      "[196]\tvalidation_0-error:0.00000\tvalidation_0-logloss:0.02225\tvalidation_1-error:0.01818\tvalidation_1-logloss:0.04808\n",
      "[197]\tvalidation_0-error:0.00000\tvalidation_0-logloss:0.02212\tvalidation_1-error:0.01894\tvalidation_1-logloss:0.04793\n",
      "[198]\tvalidation_0-error:0.00000\tvalidation_0-logloss:0.02193\tvalidation_1-error:0.01894\tvalidation_1-logloss:0.04768\n",
      "[199]\tvalidation_0-error:0.00000\tvalidation_0-logloss:0.02178\tvalidation_1-error:0.01894\tvalidation_1-logloss:0.04739\n",
      "[200]\tvalidation_0-error:0.00000\tvalidation_0-logloss:0.02162\tvalidation_1-error:0.01742\tvalidation_1-logloss:0.04716\n",
      "[201]\tvalidation_0-error:0.00000\tvalidation_0-logloss:0.02145\tvalidation_1-error:0.01667\tvalidation_1-logloss:0.04698\n",
      "[202]\tvalidation_0-error:0.00000\tvalidation_0-logloss:0.02122\tvalidation_1-error:0.01667\tvalidation_1-logloss:0.04700\n",
      "[203]\tvalidation_0-error:0.00000\tvalidation_0-logloss:0.02111\tvalidation_1-error:0.01667\tvalidation_1-logloss:0.04687\n",
      "[204]\tvalidation_0-error:0.00000\tvalidation_0-logloss:0.02097\tvalidation_1-error:0.01667\tvalidation_1-logloss:0.04677\n",
      "[205]\tvalidation_0-error:0.00000\tvalidation_0-logloss:0.02082\tvalidation_1-error:0.01591\tvalidation_1-logloss:0.04651\n",
      "[206]\tvalidation_0-error:0.00000\tvalidation_0-logloss:0.02067\tvalidation_1-error:0.01591\tvalidation_1-logloss:0.04625\n",
      "[207]\tvalidation_0-error:0.00000\tvalidation_0-logloss:0.02051\tvalidation_1-error:0.01591\tvalidation_1-logloss:0.04605\n",
      "[208]\tvalidation_0-error:0.00000\tvalidation_0-logloss:0.02033\tvalidation_1-error:0.01591\tvalidation_1-logloss:0.04585\n",
      "[209]\tvalidation_0-error:0.00000\tvalidation_0-logloss:0.02023\tvalidation_1-error:0.01515\tvalidation_1-logloss:0.04568\n",
      "[210]\tvalidation_0-error:0.00000\tvalidation_0-logloss:0.02013\tvalidation_1-error:0.01515\tvalidation_1-logloss:0.04562\n",
      "[211]\tvalidation_0-error:0.00000\tvalidation_0-logloss:0.01992\tvalidation_1-error:0.01591\tvalidation_1-logloss:0.04525\n",
      "[212]\tvalidation_0-error:0.00000\tvalidation_0-logloss:0.01960\tvalidation_1-error:0.01515\tvalidation_1-logloss:0.04476\n",
      "[213]\tvalidation_0-error:0.00000\tvalidation_0-logloss:0.01949\tvalidation_1-error:0.01515\tvalidation_1-logloss:0.04463\n",
      "[214]\tvalidation_0-error:0.00000\tvalidation_0-logloss:0.01937\tvalidation_1-error:0.01515\tvalidation_1-logloss:0.04446\n",
      "[215]\tvalidation_0-error:0.00000\tvalidation_0-logloss:0.01925\tvalidation_1-error:0.01591\tvalidation_1-logloss:0.04438\n",
      "[216]\tvalidation_0-error:0.00000\tvalidation_0-logloss:0.01915\tvalidation_1-error:0.01515\tvalidation_1-logloss:0.04423\n",
      "[217]\tvalidation_0-error:0.00000\tvalidation_0-logloss:0.01898\tvalidation_1-error:0.01439\tvalidation_1-logloss:0.04413\n",
      "[218]\tvalidation_0-error:0.00000\tvalidation_0-logloss:0.01878\tvalidation_1-error:0.01288\tvalidation_1-logloss:0.04376\n",
      "[219]\tvalidation_0-error:0.00000\tvalidation_0-logloss:0.01866\tvalidation_1-error:0.01364\tvalidation_1-logloss:0.04362\n",
      "[220]\tvalidation_0-error:0.00000\tvalidation_0-logloss:0.01856\tvalidation_1-error:0.01439\tvalidation_1-logloss:0.04357\n",
      "[221]\tvalidation_0-error:0.00000\tvalidation_0-logloss:0.01847\tvalidation_1-error:0.01364\tvalidation_1-logloss:0.04359\n",
      "[222]\tvalidation_0-error:0.00000\tvalidation_0-logloss:0.01837\tvalidation_1-error:0.01364\tvalidation_1-logloss:0.04338\n",
      "[223]\tvalidation_0-error:0.00000\tvalidation_0-logloss:0.01828\tvalidation_1-error:0.01364\tvalidation_1-logloss:0.04331\n",
      "[224]\tvalidation_0-error:0.00000\tvalidation_0-logloss:0.01814\tvalidation_1-error:0.01288\tvalidation_1-logloss:0.04312\n",
      "[225]\tvalidation_0-error:0.00000\tvalidation_0-logloss:0.01802\tvalidation_1-error:0.01288\tvalidation_1-logloss:0.04294\n",
      "[226]\tvalidation_0-error:0.00000\tvalidation_0-logloss:0.01792\tvalidation_1-error:0.01439\tvalidation_1-logloss:0.04288\n",
      "[227]\tvalidation_0-error:0.00000\tvalidation_0-logloss:0.01783\tvalidation_1-error:0.01364\tvalidation_1-logloss:0.04277\n",
      "[228]\tvalidation_0-error:0.00000\tvalidation_0-logloss:0.01776\tvalidation_1-error:0.01364\tvalidation_1-logloss:0.04262\n",
      "[229]\tvalidation_0-error:0.00000\tvalidation_0-logloss:0.01769\tvalidation_1-error:0.01439\tvalidation_1-logloss:0.04266\n",
      "[230]\tvalidation_0-error:0.00000\tvalidation_0-logloss:0.01755\tvalidation_1-error:0.01288\tvalidation_1-logloss:0.04239\n",
      "[231]\tvalidation_0-error:0.00000\tvalidation_0-logloss:0.01745\tvalidation_1-error:0.01364\tvalidation_1-logloss:0.04232\n",
      "[232]\tvalidation_0-error:0.00000\tvalidation_0-logloss:0.01736\tvalidation_1-error:0.01288\tvalidation_1-logloss:0.04216\n",
      "[233]\tvalidation_0-error:0.00000\tvalidation_0-logloss:0.01723\tvalidation_1-error:0.01364\tvalidation_1-logloss:0.04204\n",
      "[234]\tvalidation_0-error:0.00000\tvalidation_0-logloss:0.01714\tvalidation_1-error:0.01439\tvalidation_1-logloss:0.04204\n",
      "[235]\tvalidation_0-error:0.00000\tvalidation_0-logloss:0.01706\tvalidation_1-error:0.01364\tvalidation_1-logloss:0.04193\n",
      "[236]\tvalidation_0-error:0.00000\tvalidation_0-logloss:0.01689\tvalidation_1-error:0.01364\tvalidation_1-logloss:0.04179\n",
      "[237]\tvalidation_0-error:0.00000\tvalidation_0-logloss:0.01679\tvalidation_1-error:0.01288\tvalidation_1-logloss:0.04169\n",
      "[238]\tvalidation_0-error:0.00000\tvalidation_0-logloss:0.01668\tvalidation_1-error:0.01364\tvalidation_1-logloss:0.04158\n",
      "[239]\tvalidation_0-error:0.00000\tvalidation_0-logloss:0.01662\tvalidation_1-error:0.01288\tvalidation_1-logloss:0.04143\n",
      "[240]\tvalidation_0-error:0.00000\tvalidation_0-logloss:0.01648\tvalidation_1-error:0.01288\tvalidation_1-logloss:0.04124\n",
      "[241]\tvalidation_0-error:0.00000\tvalidation_0-logloss:0.01629\tvalidation_1-error:0.01288\tvalidation_1-logloss:0.04105\n",
      "[242]\tvalidation_0-error:0.00000\tvalidation_0-logloss:0.01616\tvalidation_1-error:0.01288\tvalidation_1-logloss:0.04093\n",
      "[243]\tvalidation_0-error:0.00000\tvalidation_0-logloss:0.01610\tvalidation_1-error:0.01288\tvalidation_1-logloss:0.04067\n",
      "[244]\tvalidation_0-error:0.00000\tvalidation_0-logloss:0.01601\tvalidation_1-error:0.01136\tvalidation_1-logloss:0.04055\n",
      "[245]\tvalidation_0-error:0.00000\tvalidation_0-logloss:0.01592\tvalidation_1-error:0.01288\tvalidation_1-logloss:0.04049\n",
      "[246]\tvalidation_0-error:0.00000\tvalidation_0-logloss:0.01576\tvalidation_1-error:0.01136\tvalidation_1-logloss:0.04020\n",
      "[247]\tvalidation_0-error:0.00000\tvalidation_0-logloss:0.01560\tvalidation_1-error:0.01212\tvalidation_1-logloss:0.03989\n",
      "[248]\tvalidation_0-error:0.00000\tvalidation_0-logloss:0.01551\tvalidation_1-error:0.01212\tvalidation_1-logloss:0.03975\n",
      "[249]\tvalidation_0-error:0.00000\tvalidation_0-logloss:0.01541\tvalidation_1-error:0.01136\tvalidation_1-logloss:0.03964\n",
      "[250]\tvalidation_0-error:0.00000\tvalidation_0-logloss:0.01522\tvalidation_1-error:0.01136\tvalidation_1-logloss:0.03933\n",
      "[251]\tvalidation_0-error:0.00000\tvalidation_0-logloss:0.01501\tvalidation_1-error:0.01136\tvalidation_1-logloss:0.03885\n",
      "[252]\tvalidation_0-error:0.00000\tvalidation_0-logloss:0.01491\tvalidation_1-error:0.01136\tvalidation_1-logloss:0.03877\n",
      "[253]\tvalidation_0-error:0.00000\tvalidation_0-logloss:0.01485\tvalidation_1-error:0.01061\tvalidation_1-logloss:0.03861\n",
      "[254]\tvalidation_0-error:0.00000\tvalidation_0-logloss:0.01475\tvalidation_1-error:0.01061\tvalidation_1-logloss:0.03839\n",
      "[255]\tvalidation_0-error:0.00000\tvalidation_0-logloss:0.01469\tvalidation_1-error:0.01061\tvalidation_1-logloss:0.03824\n",
      "[256]\tvalidation_0-error:0.00000\tvalidation_0-logloss:0.01460\tvalidation_1-error:0.01061\tvalidation_1-logloss:0.03813\n",
      "[257]\tvalidation_0-error:0.00000\tvalidation_0-logloss:0.01447\tvalidation_1-error:0.01061\tvalidation_1-logloss:0.03791\n",
      "[258]\tvalidation_0-error:0.00000\tvalidation_0-logloss:0.01442\tvalidation_1-error:0.01061\tvalidation_1-logloss:0.03795\n",
      "[259]\tvalidation_0-error:0.00000\tvalidation_0-logloss:0.01434\tvalidation_1-error:0.01061\tvalidation_1-logloss:0.03789\n",
      "[260]\tvalidation_0-error:0.00000\tvalidation_0-logloss:0.01427\tvalidation_1-error:0.00985\tvalidation_1-logloss:0.03778\n",
      "[261]\tvalidation_0-error:0.00000\tvalidation_0-logloss:0.01416\tvalidation_1-error:0.00985\tvalidation_1-logloss:0.03752\n",
      "[262]\tvalidation_0-error:0.00000\tvalidation_0-logloss:0.01410\tvalidation_1-error:0.01061\tvalidation_1-logloss:0.03745\n",
      "[263]\tvalidation_0-error:0.00000\tvalidation_0-logloss:0.01402\tvalidation_1-error:0.01061\tvalidation_1-logloss:0.03722\n",
      "[264]\tvalidation_0-error:0.00000\tvalidation_0-logloss:0.01382\tvalidation_1-error:0.01061\tvalidation_1-logloss:0.03693\n",
      "[265]\tvalidation_0-error:0.00000\tvalidation_0-logloss:0.01374\tvalidation_1-error:0.01061\tvalidation_1-logloss:0.03678\n",
      "[266]\tvalidation_0-error:0.00000\tvalidation_0-logloss:0.01365\tvalidation_1-error:0.01061\tvalidation_1-logloss:0.03663\n",
      "[267]\tvalidation_0-error:0.00000\tvalidation_0-logloss:0.01358\tvalidation_1-error:0.00985\tvalidation_1-logloss:0.03650\n",
      "[268]\tvalidation_0-error:0.00000\tvalidation_0-logloss:0.01346\tvalidation_1-error:0.00985\tvalidation_1-logloss:0.03645\n",
      "[269]\tvalidation_0-error:0.00000\tvalidation_0-logloss:0.01335\tvalidation_1-error:0.00985\tvalidation_1-logloss:0.03629\n",
      "[270]\tvalidation_0-error:0.00000\tvalidation_0-logloss:0.01325\tvalidation_1-error:0.00909\tvalidation_1-logloss:0.03608\n",
      "[271]\tvalidation_0-error:0.00000\tvalidation_0-logloss:0.01315\tvalidation_1-error:0.00909\tvalidation_1-logloss:0.03586\n",
      "[272]\tvalidation_0-error:0.00000\tvalidation_0-logloss:0.01304\tvalidation_1-error:0.00985\tvalidation_1-logloss:0.03582\n",
      "[273]\tvalidation_0-error:0.00000\tvalidation_0-logloss:0.01299\tvalidation_1-error:0.00909\tvalidation_1-logloss:0.03574\n",
      "[274]\tvalidation_0-error:0.00000\tvalidation_0-logloss:0.01292\tvalidation_1-error:0.00909\tvalidation_1-logloss:0.03562\n",
      "[275]\tvalidation_0-error:0.00000\tvalidation_0-logloss:0.01287\tvalidation_1-error:0.00909\tvalidation_1-logloss:0.03558\n",
      "[276]\tvalidation_0-error:0.00000\tvalidation_0-logloss:0.01278\tvalidation_1-error:0.00909\tvalidation_1-logloss:0.03538\n",
      "[277]\tvalidation_0-error:0.00000\tvalidation_0-logloss:0.01263\tvalidation_1-error:0.00909\tvalidation_1-logloss:0.03512\n",
      "[278]\tvalidation_0-error:0.00000\tvalidation_0-logloss:0.01255\tvalidation_1-error:0.00909\tvalidation_1-logloss:0.03508\n",
      "[279]\tvalidation_0-error:0.00000\tvalidation_0-logloss:0.01244\tvalidation_1-error:0.00833\tvalidation_1-logloss:0.03491\n",
      "[280]\tvalidation_0-error:0.00000\tvalidation_0-logloss:0.01235\tvalidation_1-error:0.00833\tvalidation_1-logloss:0.03468\n",
      "[281]\tvalidation_0-error:0.00000\tvalidation_0-logloss:0.01226\tvalidation_1-error:0.00833\tvalidation_1-logloss:0.03460\n",
      "[282]\tvalidation_0-error:0.00000\tvalidation_0-logloss:0.01222\tvalidation_1-error:0.00833\tvalidation_1-logloss:0.03453\n",
      "[283]\tvalidation_0-error:0.00000\tvalidation_0-logloss:0.01212\tvalidation_1-error:0.00833\tvalidation_1-logloss:0.03446\n",
      "[284]\tvalidation_0-error:0.00000\tvalidation_0-logloss:0.01205\tvalidation_1-error:0.00833\tvalidation_1-logloss:0.03447\n",
      "[285]\tvalidation_0-error:0.00000\tvalidation_0-logloss:0.01201\tvalidation_1-error:0.00833\tvalidation_1-logloss:0.03447\n",
      "[286]\tvalidation_0-error:0.00000\tvalidation_0-logloss:0.01194\tvalidation_1-error:0.00833\tvalidation_1-logloss:0.03438\n",
      "[287]\tvalidation_0-error:0.00000\tvalidation_0-logloss:0.01189\tvalidation_1-error:0.00833\tvalidation_1-logloss:0.03426\n",
      "[288]\tvalidation_0-error:0.00000\tvalidation_0-logloss:0.01181\tvalidation_1-error:0.00758\tvalidation_1-logloss:0.03412\n",
      "[289]\tvalidation_0-error:0.00000\tvalidation_0-logloss:0.01173\tvalidation_1-error:0.00833\tvalidation_1-logloss:0.03404\n",
      "[290]\tvalidation_0-error:0.00000\tvalidation_0-logloss:0.01167\tvalidation_1-error:0.00833\tvalidation_1-logloss:0.03398\n",
      "[291]\tvalidation_0-error:0.00000\tvalidation_0-logloss:0.01163\tvalidation_1-error:0.00833\tvalidation_1-logloss:0.03400\n",
      "[292]\tvalidation_0-error:0.00000\tvalidation_0-logloss:0.01156\tvalidation_1-error:0.00833\tvalidation_1-logloss:0.03381\n",
      "[293]\tvalidation_0-error:0.00000\tvalidation_0-logloss:0.01150\tvalidation_1-error:0.00833\tvalidation_1-logloss:0.03369\n",
      "[294]\tvalidation_0-error:0.00000\tvalidation_0-logloss:0.01139\tvalidation_1-error:0.00758\tvalidation_1-logloss:0.03352\n",
      "[295]\tvalidation_0-error:0.00000\tvalidation_0-logloss:0.01132\tvalidation_1-error:0.00758\tvalidation_1-logloss:0.03342\n",
      "[296]\tvalidation_0-error:0.00000\tvalidation_0-logloss:0.01127\tvalidation_1-error:0.00758\tvalidation_1-logloss:0.03327\n",
      "[297]\tvalidation_0-error:0.00000\tvalidation_0-logloss:0.01121\tvalidation_1-error:0.00758\tvalidation_1-logloss:0.03311\n",
      "[298]\tvalidation_0-error:0.00000\tvalidation_0-logloss:0.01111\tvalidation_1-error:0.00682\tvalidation_1-logloss:0.03299\n",
      "[299]\tvalidation_0-error:0.00000\tvalidation_0-logloss:0.01104\tvalidation_1-error:0.00682\tvalidation_1-logloss:0.03279\n"
     ]
    },
    {
     "data": {
      "text/plain": [
       "XGBClassifier(base_score=0.5, booster='gbtree', colsample_bylevel=1,\n",
       "              colsample_bynode=1, colsample_bytree=0.5, gamma=0.0, gpu_id=-1,\n",
       "              importance_type='gain', interaction_constraints='',\n",
       "              learning_rate=0.1, max_delta_step=0, max_depth=4,\n",
       "              min_child_weight=3, missing=nan, monotone_constraints='()',\n",
       "              n_estimators=300, n_jobs=0, num_parallel_tree=1, random_state=0,\n",
       "              reg_alpha=0, reg_lambda=1, scale_pos_weight=1, subsample=1,\n",
       "              tree_method='exact', validate_parameters=1, verbosity=None)"
      ]
     },
     "execution_count": 40,
     "metadata": {},
     "output_type": "execute_result"
    }
   ],
   "source": [
    "model = classifier\n",
    "eval_set = [(x_train, y_train), (x_test, y_test)]\n",
    "model.fit(x_train, y_train, eval_metric=[\"error\", \"logloss\"], eval_set=eval_set)"
   ]
  },
  {
   "cell_type": "code",
   "execution_count": 41,
   "metadata": {},
   "outputs": [],
   "source": [
    "result = model.predict(x_test)"
   ]
  },
  {
   "cell_type": "code",
   "execution_count": 42,
   "metadata": {},
   "outputs": [],
   "source": [
    "from sklearn.metrics import accuracy_score"
   ]
  },
  {
   "cell_type": "code",
   "execution_count": 43,
   "metadata": {},
   "outputs": [],
   "source": [
    "accuracy = accuracy_score(result, y_test)"
   ]
  },
  {
   "cell_type": "code",
   "execution_count": 44,
   "metadata": {},
   "outputs": [
    {
     "data": {
      "text/plain": [
       "0.9931818181818182"
      ]
     },
     "execution_count": 44,
     "metadata": {},
     "output_type": "execute_result"
    }
   ],
   "source": [
    "accuracy"
   ]
  },
  {
   "cell_type": "code",
   "execution_count": 45,
   "metadata": {},
   "outputs": [],
   "source": [
    "scoretrain = model.score(x_train,y_train)"
   ]
  },
  {
   "cell_type": "code",
   "execution_count": 46,
   "metadata": {},
   "outputs": [
    {
     "data": {
      "text/plain": [
       "1.0"
      ]
     },
     "execution_count": 46,
     "metadata": {},
     "output_type": "execute_result"
    }
   ],
   "source": [
    "scoretrain"
   ]
  },
  {
   "cell_type": "code",
   "execution_count": 47,
   "metadata": {},
   "outputs": [],
   "source": [
    "scoretest = model.score(x_test,y_test)"
   ]
  },
  {
   "cell_type": "code",
   "execution_count": 48,
   "metadata": {},
   "outputs": [
    {
     "data": {
      "text/plain": [
       "0.9931818181818182"
      ]
     },
     "execution_count": 48,
     "metadata": {},
     "output_type": "execute_result"
    }
   ],
   "source": [
    "scoretest"
   ]
  },
  {
   "cell_type": "code",
   "execution_count": 49,
   "metadata": {},
   "outputs": [
    {
     "data": {
      "text/plain": [
       "<sklearn.metrics._plot.roc_curve.RocCurveDisplay at 0x1b25bf92f40>"
      ]
     },
     "execution_count": 49,
     "metadata": {},
     "output_type": "execute_result"
    },
    {
     "data": {
      "image/png": "[encoded data removed]",
      "text/plain": [
       "<Figure size 432x288 with 1 Axes>"
      ]
     },
     "metadata": {
      "needs_background": "light"
     },
     "output_type": "display_data"
    }
   ],
   "source": [
    "#Ploting Area under the Curve\n",
    "from sklearn.metrics import plot_roc_curve\n",
    "xgbgraph = plot_roc_curve(model, x_test, y_test)\n",
    "xgbgraph"
   ]
  },
  {
   "cell_type": "code",
   "execution_count": 50,
   "metadata": {},
   "outputs": [],
   "source": [
    "from sklearn.metrics import confusion_matrix"
   ]
  },
  {
   "cell_type": "code",
   "execution_count": 51,
   "metadata": {},
   "outputs": [],
   "source": [
    "cm = confusion_matrix(y_test,result)"
   ]
  },
  {
   "cell_type": "code",
   "execution_count": 52,
   "metadata": {},
   "outputs": [
    {
     "data": {
      "text/plain": [
       "array([[1115,    1],\n",
       "       [   8,  196]], dtype=int64)"
      ]
     },
     "execution_count": 52,
     "metadata": {},
     "output_type": "execute_result"
    }
   ],
   "source": [
    "cm"
   ]
  },
  {
   "cell_type": "code",
   "execution_count": 53,
   "metadata": {},
   "outputs": [
    {
     "data": {
      "image/png": "[encoded data removed]",
      "text/plain": [
       "<Figure size 864x864 with 1 Axes>"
      ]
     },
     "metadata": {
      "needs_background": "light"
     },
     "output_type": "display_data"
    }
   ],
   "source": [
    "    # retrieve performance metrics\n",
    "    results = model.evals_result()\n",
    "    epochs = len(results['validation_0']['error'])\n",
    "    x_axis = range(0, epochs)\n",
    "    \n",
    "    # plot log loss\n",
    "    fig, ax = plt.subplots(figsize=(12,12))\n",
    "    ax.plot(x_axis, results['validation_0']['logloss'], label='Train')\n",
    "    ax.plot(x_axis, results['validation_1']['logloss'], label='Test')\n",
    "    ax.legend()\n",
    "    \n",
    "    plt.ylabel('Log Loss')\n",
    "    plt.title('XGBoost Log Loss')\n",
    "    plt.show()"
   ]
  },
  {
   "cell_type": "code",
   "execution_count": 54,
   "metadata": {},
   "outputs": [
    {
     "data": {
      "image/png": "[encoded data removed]",
      "text/plain": [
       "<Figure size 864x864 with 1 Axes>"
      ]
     },
     "metadata": {
      "needs_background": "light"
     },
     "output_type": "display_data"
    }
   ],
   "source": [
    "    # plot classification error\n",
    "    fig, ax = plt.subplots(figsize=(12,12))\n",
    "    ax.plot(x_axis, results['validation_0']['error'], label='Train')\n",
    "    ax.plot(x_axis, results['validation_1']['error'], label='Test')\n",
    "    ax.legend()\n",
    "    \n",
    "    plt.ylabel('Classification Error')\n",
    "    plt.title('XGBoost Classification Error')\n",
    "    plt.show()"
   ]
  },
  {
   "cell_type": "code",
   "execution_count": null,
   "metadata": {},
   "outputs": [],
   "source": []
  }
 ],
 "metadata": {
  "kernelspec": {
   "display_name": "Python 3",
   "language": "python",
   "name": "python3"
  },
  "language_info": {
   "codemirror_mode": {
    "name": "ipython",
    "version": 3
   },
   "file_extension": ".py",
   "mimetype": "text/x-python",
   "name": "python",
   "nbconvert_exporter": "python",
   "pygments_lexer": "ipython3",
   "version": "3.8.3"
  }
 },
 "nbformat": 4,
 "nbformat_minor": 4
}
