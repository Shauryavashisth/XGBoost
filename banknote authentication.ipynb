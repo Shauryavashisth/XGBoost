{
 "cells": [
  {
   "cell_type": "code",
   "execution_count": 1,
   "metadata": {},
   "outputs": [],
   "source": [
    "#Importing main library"
   ]
  },
  {
   "cell_type": "code",
   "execution_count": 2,
   "metadata": {},
   "outputs": [],
   "source": [
    "import pandas as pd\n",
    "import numpy as np\n",
    "import seaborn as sns\n",
    "import matplotlib.pyplot as plt"
   ]
  },
  {
   "cell_type": "code",
   "execution_count": 3,
   "metadata": {},
   "outputs": [],
   "source": [
    "data = pd.read_table('D:\\Study\\BA\\TEST\\data_banknote_authentication.txt',sep=',',header=0,names=['VOWTI','SOWTI','KOWTI','EOI','class'])"
   ]
  },
  {
   "cell_type": "code",
   "execution_count": 4,
   "metadata": {},
   "outputs": [],
   "source": [
    "#looking into the data"
   ]
  },
  {
   "cell_type": "code",
   "execution_count": 5,
   "metadata": {},
   "outputs": [
    {
     "data": {
      "text/html": [
       "<div>\n",
       "<style scoped>\n",
       "    .dataframe tbody tr th:only-of-type {\n",
       "        vertical-align: middle;\n",
       "    }\n",
       "\n",
       "    .dataframe tbody tr th {\n",
       "        vertical-align: top;\n",
       "    }\n",
       "\n",
       "    .dataframe thead th {\n",
       "        text-align: right;\n",
       "    }\n",
       "</style>\n",
       "<table border=\"1\" class=\"dataframe\">\n",
       "  <thead>\n",
       "    <tr style=\"text-align: right;\">\n",
       "      <th></th>\n",
       "      <th>VOWTI</th>\n",
       "      <th>SOWTI</th>\n",
       "      <th>KOWTI</th>\n",
       "      <th>EOI</th>\n",
       "      <th>class</th>\n",
       "    </tr>\n",
       "  </thead>\n",
       "  <tbody>\n",
       "    <tr>\n",
       "      <th>count</th>\n",
       "      <td>1371.000000</td>\n",
       "      <td>1371.000000</td>\n",
       "      <td>1371.000000</td>\n",
       "      <td>1371.000000</td>\n",
       "      <td>1371.000000</td>\n",
       "    </tr>\n",
       "    <tr>\n",
       "      <th>mean</th>\n",
       "      <td>0.431410</td>\n",
       "      <td>1.917434</td>\n",
       "      <td>1.400694</td>\n",
       "      <td>-1.192200</td>\n",
       "      <td>0.444931</td>\n",
       "    </tr>\n",
       "    <tr>\n",
       "      <th>std</th>\n",
       "      <td>2.842494</td>\n",
       "      <td>5.868359</td>\n",
       "      <td>4.310105</td>\n",
       "      <td>2.101683</td>\n",
       "      <td>0.497139</td>\n",
       "    </tr>\n",
       "    <tr>\n",
       "      <th>min</th>\n",
       "      <td>-7.042100</td>\n",
       "      <td>-13.773100</td>\n",
       "      <td>-5.286100</td>\n",
       "      <td>-8.548200</td>\n",
       "      <td>0.000000</td>\n",
       "    </tr>\n",
       "    <tr>\n",
       "      <th>25%</th>\n",
       "      <td>-1.774700</td>\n",
       "      <td>-1.711300</td>\n",
       "      <td>-1.553350</td>\n",
       "      <td>-2.417000</td>\n",
       "      <td>0.000000</td>\n",
       "    </tr>\n",
       "    <tr>\n",
       "      <th>50%</th>\n",
       "      <td>0.495710</td>\n",
       "      <td>2.313400</td>\n",
       "      <td>0.616630</td>\n",
       "      <td>-0.586650</td>\n",
       "      <td>0.000000</td>\n",
       "    </tr>\n",
       "    <tr>\n",
       "      <th>75%</th>\n",
       "      <td>2.814650</td>\n",
       "      <td>6.813100</td>\n",
       "      <td>3.181600</td>\n",
       "      <td>0.394810</td>\n",
       "      <td>1.000000</td>\n",
       "    </tr>\n",
       "    <tr>\n",
       "      <th>max</th>\n",
       "      <td>6.824800</td>\n",
       "      <td>12.951600</td>\n",
       "      <td>17.927400</td>\n",
       "      <td>2.449500</td>\n",
       "      <td>1.000000</td>\n",
       "    </tr>\n",
       "  </tbody>\n",
       "</table>\n",
       "</div>"
      ],
      "text/plain": [
       "             VOWTI        SOWTI        KOWTI          EOI        class\n",
       "count  1371.000000  1371.000000  1371.000000  1371.000000  1371.000000\n",
       "mean      0.431410     1.917434     1.400694    -1.192200     0.444931\n",
       "std       2.842494     5.868359     4.310105     2.101683     0.497139\n",
       "min      -7.042100   -13.773100    -5.286100    -8.548200     0.000000\n",
       "25%      -1.774700    -1.711300    -1.553350    -2.417000     0.000000\n",
       "50%       0.495710     2.313400     0.616630    -0.586650     0.000000\n",
       "75%       2.814650     6.813100     3.181600     0.394810     1.000000\n",
       "max       6.824800    12.951600    17.927400     2.449500     1.000000"
      ]
     },
     "execution_count": 5,
     "metadata": {},
     "output_type": "execute_result"
    }
   ],
   "source": [
    "data.describe()"
   ]
  },
  {
   "cell_type": "code",
   "execution_count": 6,
   "metadata": {},
   "outputs": [
    {
     "data": {
      "text/html": [
       "<div>\n",
       "<style scoped>\n",
       "    .dataframe tbody tr th:only-of-type {\n",
       "        vertical-align: middle;\n",
       "    }\n",
       "\n",
       "    .dataframe tbody tr th {\n",
       "        vertical-align: top;\n",
       "    }\n",
       "\n",
       "    .dataframe thead th {\n",
       "        text-align: right;\n",
       "    }\n",
       "</style>\n",
       "<table border=\"1\" class=\"dataframe\">\n",
       "  <thead>\n",
       "    <tr style=\"text-align: right;\">\n",
       "      <th></th>\n",
       "      <th>VOWTI</th>\n",
       "      <th>SOWTI</th>\n",
       "      <th>KOWTI</th>\n",
       "      <th>EOI</th>\n",
       "      <th>class</th>\n",
       "    </tr>\n",
       "  </thead>\n",
       "  <tbody>\n",
       "    <tr>\n",
       "      <th>0</th>\n",
       "      <td>4.54590</td>\n",
       "      <td>8.1674</td>\n",
       "      <td>-2.4586</td>\n",
       "      <td>-1.46210</td>\n",
       "      <td>0</td>\n",
       "    </tr>\n",
       "    <tr>\n",
       "      <th>1</th>\n",
       "      <td>3.86600</td>\n",
       "      <td>-2.6383</td>\n",
       "      <td>1.9242</td>\n",
       "      <td>0.10645</td>\n",
       "      <td>0</td>\n",
       "    </tr>\n",
       "    <tr>\n",
       "      <th>2</th>\n",
       "      <td>3.45660</td>\n",
       "      <td>9.5228</td>\n",
       "      <td>-4.0112</td>\n",
       "      <td>-3.59440</td>\n",
       "      <td>0</td>\n",
       "    </tr>\n",
       "    <tr>\n",
       "      <th>3</th>\n",
       "      <td>0.32924</td>\n",
       "      <td>-4.4552</td>\n",
       "      <td>4.5718</td>\n",
       "      <td>-0.98880</td>\n",
       "      <td>0</td>\n",
       "    </tr>\n",
       "    <tr>\n",
       "      <th>4</th>\n",
       "      <td>4.36840</td>\n",
       "      <td>9.6718</td>\n",
       "      <td>-3.9606</td>\n",
       "      <td>-3.16250</td>\n",
       "      <td>0</td>\n",
       "    </tr>\n",
       "  </tbody>\n",
       "</table>\n",
       "</div>"
      ],
      "text/plain": [
       "     VOWTI   SOWTI   KOWTI      EOI  class\n",
       "0  4.54590  8.1674 -2.4586 -1.46210      0\n",
       "1  3.86600 -2.6383  1.9242  0.10645      0\n",
       "2  3.45660  9.5228 -4.0112 -3.59440      0\n",
       "3  0.32924 -4.4552  4.5718 -0.98880      0\n",
       "4  4.36840  9.6718 -3.9606 -3.16250      0"
      ]
     },
     "execution_count": 6,
     "metadata": {},
     "output_type": "execute_result"
    }
   ],
   "source": [
    "data.head()"
   ]
  },
  {
   "cell_type": "code",
   "execution_count": 7,
   "metadata": {},
   "outputs": [
    {
     "name": "stdout",
     "output_type": "stream",
     "text": [
      "<class 'pandas.core.frame.DataFrame'>\n",
      "RangeIndex: 1371 entries, 0 to 1370\n",
      "Data columns (total 5 columns):\n",
      " #   Column  Non-Null Count  Dtype  \n",
      "---  ------  --------------  -----  \n",
      " 0   VOWTI   1371 non-null   float64\n",
      " 1   SOWTI   1371 non-null   float64\n",
      " 2   KOWTI   1371 non-null   float64\n",
      " 3   EOI     1371 non-null   float64\n",
      " 4   class   1371 non-null   int64  \n",
      "dtypes: float64(4), int64(1)\n",
      "memory usage: 53.7 KB\n"
     ]
    }
   ],
   "source": [
    "data.info()"
   ]
  },
  {
   "cell_type": "code",
   "execution_count": 8,
   "metadata": {},
   "outputs": [
    {
     "data": {
      "text/plain": [
       "VOWTI    1337\n",
       "SOWTI    1255\n",
       "KOWTI    1269\n",
       "EOI      1156\n",
       "class       2\n",
       "dtype: int64"
      ]
     },
     "execution_count": 8,
     "metadata": {},
     "output_type": "execute_result"
    }
   ],
   "source": [
    "data.nunique()"
   ]
  },
  {
   "cell_type": "code",
   "execution_count": 9,
   "metadata": {},
   "outputs": [],
   "source": [
    "#finding out the Outliers"
   ]
  },
  {
   "cell_type": "code",
   "execution_count": 10,
   "metadata": {},
   "outputs": [],
   "source": [
    "object = ['object']\n",
    "cat = data.select_dtypes(object)"
   ]
  },
  {
   "cell_type": "code",
   "execution_count": 11,
   "metadata": {},
   "outputs": [
    {
     "data": {
      "text/plain": [
       "Index([], dtype='object')"
      ]
     },
     "execution_count": 11,
     "metadata": {},
     "output_type": "execute_result"
    }
   ],
   "source": [
    "cat.columns"
   ]
  },
  {
   "cell_type": "code",
   "execution_count": 12,
   "metadata": {},
   "outputs": [
    {
     "name": "stdout",
     "output_type": "stream",
     "text": [
      "<class 'pandas.core.frame.DataFrame'>\n",
      "RangeIndex: 1371 entries, 0 to 1370\n",
      "Data columns (total 5 columns):\n",
      " #   Column  Non-Null Count  Dtype  \n",
      "---  ------  --------------  -----  \n",
      " 0   VOWTI   1371 non-null   float64\n",
      " 1   SOWTI   1371 non-null   float64\n",
      " 2   KOWTI   1371 non-null   float64\n",
      " 3   EOI     1371 non-null   float64\n",
      " 4   class   1371 non-null   int64  \n",
      "dtypes: float64(4), int64(1)\n",
      "memory usage: 53.7 KB\n"
     ]
    }
   ],
   "source": [
    "data.info()"
   ]
  },
  {
   "cell_type": "code",
   "execution_count": 13,
   "metadata": {},
   "outputs": [
    {
     "data": {
      "text/plain": [
       "<matplotlib.axes._subplots.AxesSubplot at 0x127430213d0>"
      ]
     },
     "execution_count": 13,
     "metadata": {},
     "output_type": "execute_result"
    },
    {
     "data": {
      "image/png": "[encoded data removed]",
      "text/plain": [
       "<Figure size 2160x576 with 1 Axes>"
      ]
     },
     "metadata": {
      "needs_background": "light"
     },
     "output_type": "display_data"
    }
   ],
   "source": [
    "data.boxplot(figsize=(30,8))"
   ]
  },
  {
   "cell_type": "code",
   "execution_count": 14,
   "metadata": {},
   "outputs": [],
   "source": [
    "#Fixing of Outlier"
   ]
  },
  {
   "cell_type": "code",
   "execution_count": 15,
   "metadata": {},
   "outputs": [],
   "source": [
    "data1 = data.drop('class',axis=1)"
   ]
  },
  {
   "cell_type": "code",
   "execution_count": 16,
   "metadata": {},
   "outputs": [],
   "source": [
    "min=data1['KOWTI'].quantile(0.05)\n",
    "max=data1['KOWTI'].quantile(0.95)\n",
    "new=np.where(data1['KOWTI']<min,min,data1['KOWTI'])\n",
    "data1.KOWTI=new\n",
    "new=np.where(data1['KOWTI']>max,max,data1['KOWTI'])\n",
    "data1.KOWTI=new"
   ]
  },
  {
   "cell_type": "code",
   "execution_count": 17,
   "metadata": {},
   "outputs": [],
   "source": [
    "min=data1['EOI'].quantile(0.05)\n",
    "max=data1['EOI'].quantile(0.95)\n",
    "new=np.where(data1['EOI']<min,min,data1['EOI'])\n",
    "data1.EOI=new\n",
    "new=np.where(data1['EOI']>max,max,data1['EOI'])\n",
    "data1.EOI=new"
   ]
  },
  {
   "cell_type": "code",
   "execution_count": 18,
   "metadata": {},
   "outputs": [
    {
     "data": {
      "text/plain": [
       "<matplotlib.axes._subplots.AxesSubplot at 0x127437bd550>"
      ]
     },
     "execution_count": 18,
     "metadata": {},
     "output_type": "execute_result"
    },
    {
     "data": {
      "image/png": "[encoded data removed]",
      "text/plain": [
       "<Figure size 2160x576 with 1 Axes>"
      ]
     },
     "metadata": {
      "needs_background": "light"
     },
     "output_type": "display_data"
    }
   ],
   "source": [
    "data1.boxplot(figsize=(30,8))"
   ]
  },
  {
   "cell_type": "code",
   "execution_count": 19,
   "metadata": {},
   "outputs": [],
   "source": [
    "target = data[\"class\"]\n",
    "final = data1.join(target)"
   ]
  },
  {
   "cell_type": "code",
   "execution_count": 20,
   "metadata": {},
   "outputs": [
    {
     "name": "stdout",
     "output_type": "stream",
     "text": [
      "<class 'pandas.core.frame.DataFrame'>\n",
      "RangeIndex: 1371 entries, 0 to 1370\n",
      "Data columns (total 5 columns):\n",
      " #   Column  Non-Null Count  Dtype  \n",
      "---  ------  --------------  -----  \n",
      " 0   VOWTI   1371 non-null   float64\n",
      " 1   SOWTI   1371 non-null   float64\n",
      " 2   KOWTI   1371 non-null   float64\n",
      " 3   EOI     1371 non-null   float64\n",
      " 4   class   1371 non-null   int64  \n",
      "dtypes: float64(4), int64(1)\n",
      "memory usage: 53.7 KB\n"
     ]
    }
   ],
   "source": [
    "final.info()"
   ]
  },
  {
   "cell_type": "code",
   "execution_count": 21,
   "metadata": {},
   "outputs": [],
   "source": [
    "#making model"
   ]
  },
  {
   "cell_type": "code",
   "execution_count": 22,
   "metadata": {},
   "outputs": [],
   "source": [
    "X = final.drop(columns='class',axis=1)\n",
    "Y = final.iloc[:,-1:]"
   ]
  },
  {
   "cell_type": "code",
   "execution_count": 23,
   "metadata": {},
   "outputs": [],
   "source": [
    "#X = data1.drop(['class'],axis=1)\n",
    "#Y = data1['class']"
   ]
  },
  {
   "cell_type": "code",
   "execution_count": 24,
   "metadata": {},
   "outputs": [
    {
     "data": {
      "text/plain": [
       "((1371, 4), (1371, 1))"
      ]
     },
     "execution_count": 24,
     "metadata": {},
     "output_type": "execute_result"
    }
   ],
   "source": [
    "X.shape,Y.shape"
   ]
  },
  {
   "cell_type": "code",
   "execution_count": 25,
   "metadata": {},
   "outputs": [],
   "source": [
    "from sklearn.model_selection import train_test_split\n",
    "x_train, x_test, y_train, y_test = train_test_split(X,Y, test_size=0.2)"
   ]
  },
  {
   "cell_type": "code",
   "execution_count": 26,
   "metadata": {},
   "outputs": [
    {
     "data": {
      "text/plain": [
       "((1096, 4), (275, 4), (1096, 1), (275, 1))"
      ]
     },
     "execution_count": 26,
     "metadata": {},
     "output_type": "execute_result"
    }
   ],
   "source": [
    "x_train.shape, x_test.shape, y_train.shape, y_test.shape"
   ]
  },
  {
   "cell_type": "code",
   "execution_count": 27,
   "metadata": {},
   "outputs": [],
   "source": [
    "#setting Hyper-parameters"
   ]
  },
  {
   "cell_type": "code",
   "execution_count": 28,
   "metadata": {},
   "outputs": [],
   "source": [
    "params={\n",
    "    \"n_estimators\"  : [100,200,300],\n",
    "    \"max_depth\"     : [4,6,8,10],\n",
    "    \"learning_rate\"  : [0.05, 0.10, 0.15, 0.20, 0.25, 0.30],\n",
    " \"min_child_weight\" : [ 1, 3, 5, 7],\n",
    " \"gamma\"            : [ 0.0, 0.1, 0.2 , 0.3, 0.4 ],\n",
    " \"colsample_bytree\" : [ 0.3, 0.4, 0.5 , 0.7 ]   \n",
    "}"
   ]
  },
  {
   "cell_type": "code",
   "execution_count": 29,
   "metadata": {},
   "outputs": [],
   "source": [
    "from sklearn.model_selection import RandomizedSearchCV\n",
    "from xgboost import XGBClassifier"
   ]
  },
  {
   "cell_type": "code",
   "execution_count": 30,
   "metadata": {},
   "outputs": [],
   "source": [
    "classifier=XGBClassifier()"
   ]
  },
  {
   "cell_type": "code",
   "execution_count": 31,
   "metadata": {},
   "outputs": [],
   "source": [
    "random_search=RandomizedSearchCV(classifier,param_distributions=params)"
   ]
  },
  {
   "cell_type": "code",
   "execution_count": 32,
   "metadata": {},
   "outputs": [
    {
     "name": "stderr",
     "output_type": "stream",
     "text": [
      "C:\\Users\\Shaurya\\anaconda3\\lib\\site-packages\\sklearn\\utils\\validation.py:73: DataConversionWarning: A column-vector y was passed when a 1d array was expected. Please change the shape of y to (n_samples, ), for example using ravel().\n",
      "  return f(**kwargs)\n"
     ]
    },
    {
     "data": {
      "text/plain": [
       "RandomizedSearchCV(estimator=XGBClassifier(base_score=None, booster=None,\n",
       "                                           colsample_bylevel=None,\n",
       "                                           colsample_bynode=None,\n",
       "                                           colsample_bytree=None, gamma=None,\n",
       "                                           gpu_id=None, importance_type='gain',\n",
       "                                           interaction_constraints=None,\n",
       "                                           learning_rate=None,\n",
       "                                           max_delta_step=None, max_depth=None,\n",
       "                                           min_child_weight=None, missing=nan,\n",
       "                                           monotone_constraints=None,\n",
       "                                           n_estimators=100, n_job...\n",
       "                                           random_state=None, reg_alpha=None,\n",
       "                                           reg_lambda=None,\n",
       "                                           scale_pos_weight=None,\n",
       "                                           subsample=None, tree_method=None,\n",
       "                                           validate_parameters=None,\n",
       "                                           verbosity=None),\n",
       "                   param_distributions={'colsample_bytree': [0.3, 0.4, 0.5,\n",
       "                                                             0.7],\n",
       "                                        'gamma': [0.0, 0.1, 0.2, 0.3, 0.4],\n",
       "                                        'learning_rate': [0.05, 0.1, 0.15, 0.2,\n",
       "                                                          0.25, 0.3],\n",
       "                                        'max_depth': [4, 6, 8, 10],\n",
       "                                        'min_child_weight': [1, 3, 5, 7],\n",
       "                                        'n_estimators': [100, 200, 300]})"
      ]
     },
     "execution_count": 32,
     "metadata": {},
     "output_type": "execute_result"
    }
   ],
   "source": [
    "random_search.fit(x_train,y_train)"
   ]
  },
  {
   "cell_type": "code",
   "execution_count": 33,
   "metadata": {},
   "outputs": [
    {
     "data": {
      "text/plain": [
       "XGBClassifier(base_score=0.5, booster='gbtree', colsample_bylevel=1,\n",
       "              colsample_bynode=1, colsample_bytree=0.5, gamma=0.3, gpu_id=-1,\n",
       "              importance_type='gain', interaction_constraints='',\n",
       "              learning_rate=0.1, max_delta_step=0, max_depth=4,\n",
       "              min_child_weight=1, missing=nan, monotone_constraints='()',\n",
       "              n_estimators=300, n_jobs=0, num_parallel_tree=1, random_state=0,\n",
       "              reg_alpha=0, reg_lambda=1, scale_pos_weight=1, subsample=1,\n",
       "              tree_method='exact', validate_parameters=1, verbosity=None)"
      ]
     },
     "execution_count": 33,
     "metadata": {},
     "output_type": "execute_result"
    }
   ],
   "source": [
    "random_search.best_estimator_"
   ]
  },
  {
   "cell_type": "code",
   "execution_count": 34,
   "metadata": {},
   "outputs": [
    {
     "data": {
      "text/plain": [
       "{'n_estimators': 300,\n",
       " 'min_child_weight': 1,\n",
       " 'max_depth': 4,\n",
       " 'learning_rate': 0.1,\n",
       " 'gamma': 0.3,\n",
       " 'colsample_bytree': 0.5}"
      ]
     },
     "execution_count": 34,
     "metadata": {},
     "output_type": "execute_result"
    }
   ],
   "source": [
    "random_search.best_params_"
   ]
  },
  {
   "cell_type": "code",
   "execution_count": 38,
   "metadata": {},
   "outputs": [],
   "source": [
    "#applying best variables"
   ]
  },
  {
   "cell_type": "code",
   "execution_count": 35,
   "metadata": {},
   "outputs": [],
   "source": [
    "classifier=XGBClassifier(\n",
    "n_estimators=300,\n",
    "min_child_weight=1, \n",
    "max_depth=4, \n",
    "learning_rate=0.1,\n",
    "gamma=0.3, \n",
    "colsample_bytree=0.5)"
   ]
  },
  {
   "cell_type": "code",
   "execution_count": 36,
   "metadata": {},
   "outputs": [
    {
     "name": "stdout",
     "output_type": "stream",
     "text": [
      "[0]\tvalidation_0-error:0.09763\tvalidation_0-logloss:0.62642\tvalidation_1-error:0.06545\tvalidation_1-logloss:0.62229\n",
      "[1]\tvalidation_0-error:0.09854\tvalidation_0-logloss:0.57175\tvalidation_1-error:0.07636\tvalidation_1-logloss:0.56423\n",
      "[2]\tvalidation_0-error:0.08212\tvalidation_0-logloss:0.55833\tvalidation_1-error:0.06909\tvalidation_1-logloss:0.55170\n",
      "[3]\tvalidation_0-error:0.08029\tvalidation_0-logloss:0.54704\tvalidation_1-error:0.07273\tvalidation_1-logloss:0.54101\n",
      "[4]\tvalidation_0-error:0.08212\tvalidation_0-logloss:0.50329\tvalidation_1-error:0.06909\tvalidation_1-logloss:0.49384\n",
      "[5]\tvalidation_0-error:0.08212\tvalidation_0-logloss:0.46629\tvalidation_1-error:0.05455\tvalidation_1-logloss:0.45343\n",
      "[6]\tvalidation_0-error:0.07847\tvalidation_0-logloss:0.43505\tvalidation_1-error:0.06182\tvalidation_1-logloss:0.42043\n",
      "[7]\tvalidation_0-error:0.07664\tvalidation_0-logloss:0.42668\tvalidation_1-error:0.06182\tvalidation_1-logloss:0.41292\n",
      "[8]\tvalidation_0-error:0.05566\tvalidation_0-logloss:0.39109\tvalidation_1-error:0.04364\tvalidation_1-logloss:0.37766\n",
      "[9]\tvalidation_0-error:0.04745\tvalidation_0-logloss:0.36390\tvalidation_1-error:0.04000\tvalidation_1-logloss:0.35003\n",
      "[10]\tvalidation_0-error:0.03923\tvalidation_0-logloss:0.33881\tvalidation_1-error:0.02909\tvalidation_1-logloss:0.32866\n",
      "[11]\tvalidation_0-error:0.02920\tvalidation_0-logloss:0.31556\tvalidation_1-error:0.02182\tvalidation_1-logloss:0.30848\n",
      "[12]\tvalidation_0-error:0.02737\tvalidation_0-logloss:0.29535\tvalidation_1-error:0.02182\tvalidation_1-logloss:0.28757\n",
      "[13]\tvalidation_0-error:0.02190\tvalidation_0-logloss:0.27620\tvalidation_1-error:0.01455\tvalidation_1-logloss:0.27109\n",
      "[14]\tvalidation_0-error:0.02372\tvalidation_0-logloss:0.25958\tvalidation_1-error:0.02182\tvalidation_1-logloss:0.25695\n",
      "[15]\tvalidation_0-error:0.02281\tvalidation_0-logloss:0.24498\tvalidation_1-error:0.02182\tvalidation_1-logloss:0.24472\n",
      "[16]\tvalidation_0-error:0.02372\tvalidation_0-logloss:0.23196\tvalidation_1-error:0.02182\tvalidation_1-logloss:0.23076\n",
      "[17]\tvalidation_0-error:0.02007\tvalidation_0-logloss:0.22011\tvalidation_1-error:0.02182\tvalidation_1-logloss:0.22072\n",
      "[18]\tvalidation_0-error:0.01095\tvalidation_0-logloss:0.20799\tvalidation_1-error:0.02182\tvalidation_1-logloss:0.20958\n",
      "[19]\tvalidation_0-error:0.01004\tvalidation_0-logloss:0.20455\tvalidation_1-error:0.02182\tvalidation_1-logloss:0.20739\n",
      "[20]\tvalidation_0-error:0.00821\tvalidation_0-logloss:0.19417\tvalidation_1-error:0.01818\tvalidation_1-logloss:0.19802\n",
      "[21]\tvalidation_0-error:0.00730\tvalidation_0-logloss:0.18508\tvalidation_1-error:0.00727\tvalidation_1-logloss:0.18992\n",
      "[22]\tvalidation_0-error:0.00639\tvalidation_0-logloss:0.17296\tvalidation_1-error:0.01091\tvalidation_1-logloss:0.17753\n",
      "[23]\tvalidation_0-error:0.00639\tvalidation_0-logloss:0.16647\tvalidation_1-error:0.01091\tvalidation_1-logloss:0.17161\n",
      "[24]\tvalidation_0-error:0.00639\tvalidation_0-logloss:0.15836\tvalidation_1-error:0.01091\tvalidation_1-logloss:0.16220\n",
      "[25]\tvalidation_0-error:0.00639\tvalidation_0-logloss:0.15148\tvalidation_1-error:0.00727\tvalidation_1-logloss:0.15593\n",
      "[26]\tvalidation_0-error:0.00639\tvalidation_0-logloss:0.14233\tvalidation_1-error:0.01091\tvalidation_1-logloss:0.14749\n",
      "[27]\tvalidation_0-error:0.00547\tvalidation_0-logloss:0.13950\tvalidation_1-error:0.01091\tvalidation_1-logloss:0.14582\n",
      "[28]\tvalidation_0-error:0.00274\tvalidation_0-logloss:0.13714\tvalidation_1-error:0.01091\tvalidation_1-logloss:0.14433\n",
      "[29]\tvalidation_0-error:0.00274\tvalidation_0-logloss:0.13161\tvalidation_1-error:0.00727\tvalidation_1-logloss:0.13937\n",
      "[30]\tvalidation_0-error:0.00456\tvalidation_0-logloss:0.12413\tvalidation_1-error:0.00727\tvalidation_1-logloss:0.13109\n",
      "[31]\tvalidation_0-error:0.00456\tvalidation_0-logloss:0.11950\tvalidation_1-error:0.01091\tvalidation_1-logloss:0.12685\n",
      "[32]\tvalidation_0-error:0.00456\tvalidation_0-logloss:0.11742\tvalidation_1-error:0.00727\tvalidation_1-logloss:0.12572\n",
      "[33]\tvalidation_0-error:0.00365\tvalidation_0-logloss:0.11327\tvalidation_1-error:0.00364\tvalidation_1-logloss:0.12213\n",
      "[34]\tvalidation_0-error:0.00091\tvalidation_0-logloss:0.10929\tvalidation_1-error:0.00364\tvalidation_1-logloss:0.11855\n",
      "[35]\tvalidation_0-error:0.00091\tvalidation_0-logloss:0.10610\tvalidation_1-error:0.00364\tvalidation_1-logloss:0.11549\n",
      "[36]\tvalidation_0-error:0.00274\tvalidation_0-logloss:0.10014\tvalidation_1-error:0.00364\tvalidation_1-logloss:0.10895\n",
      "[37]\tvalidation_0-error:0.00183\tvalidation_0-logloss:0.09707\tvalidation_1-error:0.00364\tvalidation_1-logloss:0.10610\n",
      "[38]\tvalidation_0-error:0.00091\tvalidation_0-logloss:0.09571\tvalidation_1-error:0.00364\tvalidation_1-logloss:0.10509\n",
      "[39]\tvalidation_0-error:0.00091\tvalidation_0-logloss:0.09318\tvalidation_1-error:0.00364\tvalidation_1-logloss:0.10261\n",
      "[40]\tvalidation_0-error:0.00091\tvalidation_0-logloss:0.08816\tvalidation_1-error:0.00364\tvalidation_1-logloss:0.09711\n",
      "[41]\tvalidation_0-error:0.00091\tvalidation_0-logloss:0.08628\tvalidation_1-error:0.00364\tvalidation_1-logloss:0.09514\n",
      "[42]\tvalidation_0-error:0.00091\tvalidation_0-logloss:0.08457\tvalidation_1-error:0.00364\tvalidation_1-logloss:0.09348\n",
      "[43]\tvalidation_0-error:0.00183\tvalidation_0-logloss:0.08045\tvalidation_1-error:0.00364\tvalidation_1-logloss:0.08843\n",
      "[44]\tvalidation_0-error:0.00274\tvalidation_0-logloss:0.07588\tvalidation_1-error:0.00364\tvalidation_1-logloss:0.08306\n",
      "[45]\tvalidation_0-error:0.00183\tvalidation_0-logloss:0.07230\tvalidation_1-error:0.00364\tvalidation_1-logloss:0.07955\n",
      "[46]\tvalidation_0-error:0.00183\tvalidation_0-logloss:0.06966\tvalidation_1-error:0.00364\tvalidation_1-logloss:0.07622\n",
      "[47]\tvalidation_0-error:0.00183\tvalidation_0-logloss:0.06823\tvalidation_1-error:0.00364\tvalidation_1-logloss:0.07518\n",
      "[48]\tvalidation_0-error:0.00183\tvalidation_0-logloss:0.06461\tvalidation_1-error:0.00364\tvalidation_1-logloss:0.07075\n",
      "[49]\tvalidation_0-error:0.00183\tvalidation_0-logloss:0.06347\tvalidation_1-error:0.00364\tvalidation_1-logloss:0.06996\n",
      "[50]\tvalidation_0-error:0.00091\tvalidation_0-logloss:0.06078\tvalidation_1-error:0.00364\tvalidation_1-logloss:0.06807\n",
      "[51]\tvalidation_0-error:0.00000\tvalidation_0-logloss:0.05971\tvalidation_1-error:0.00364\tvalidation_1-logloss:0.06745\n",
      "[52]\tvalidation_0-error:0.00091\tvalidation_0-logloss:0.05711\tvalidation_1-error:0.00364\tvalidation_1-logloss:0.06429\n",
      "[53]\tvalidation_0-error:0.00000\tvalidation_0-logloss:0.05487\tvalidation_1-error:0.00364\tvalidation_1-logloss:0.06271\n",
      "[54]\tvalidation_0-error:0.00091\tvalidation_0-logloss:0.05254\tvalidation_1-error:0.00364\tvalidation_1-logloss:0.06009\n",
      "[55]\tvalidation_0-error:0.00000\tvalidation_0-logloss:0.05069\tvalidation_1-error:0.00364\tvalidation_1-logloss:0.05771\n",
      "[56]\tvalidation_0-error:0.00000\tvalidation_0-logloss:0.04903\tvalidation_1-error:0.00364\tvalidation_1-logloss:0.05568\n",
      "[57]\tvalidation_0-error:0.00000\tvalidation_0-logloss:0.04823\tvalidation_1-error:0.00364\tvalidation_1-logloss:0.05490\n",
      "[58]\tvalidation_0-error:0.00000\tvalidation_0-logloss:0.04682\tvalidation_1-error:0.00364\tvalidation_1-logloss:0.05308\n",
      "[59]\tvalidation_0-error:0.00091\tvalidation_0-logloss:0.04468\tvalidation_1-error:0.00364\tvalidation_1-logloss:0.05062\n",
      "[60]\tvalidation_0-error:0.00000\tvalidation_0-logloss:0.04280\tvalidation_1-error:0.00364\tvalidation_1-logloss:0.04831\n",
      "[61]\tvalidation_0-error:0.00091\tvalidation_0-logloss:0.04206\tvalidation_1-error:0.00727\tvalidation_1-logloss:0.04791\n",
      "[62]\tvalidation_0-error:0.00000\tvalidation_0-logloss:0.04142\tvalidation_1-error:0.00364\tvalidation_1-logloss:0.04729\n",
      "[63]\tvalidation_0-error:0.00000\tvalidation_0-logloss:0.03981\tvalidation_1-error:0.00727\tvalidation_1-logloss:0.04584\n",
      "[64]\tvalidation_0-error:0.00000\tvalidation_0-logloss:0.03932\tvalidation_1-error:0.00364\tvalidation_1-logloss:0.04541\n",
      "[65]\tvalidation_0-error:0.00000\tvalidation_0-logloss:0.03787\tvalidation_1-error:0.00364\tvalidation_1-logloss:0.04430\n",
      "[66]\tvalidation_0-error:0.00000\tvalidation_0-logloss:0.03654\tvalidation_1-error:0.00364\tvalidation_1-logloss:0.04264\n",
      "[67]\tvalidation_0-error:0.00000\tvalidation_0-logloss:0.03560\tvalidation_1-error:0.00727\tvalidation_1-logloss:0.04165\n",
      "[68]\tvalidation_0-error:0.00000\tvalidation_0-logloss:0.03476\tvalidation_1-error:0.00727\tvalidation_1-logloss:0.04055\n",
      "[69]\tvalidation_0-error:0.00000\tvalidation_0-logloss:0.03394\tvalidation_1-error:0.00364\tvalidation_1-logloss:0.03969\n",
      "[70]\tvalidation_0-error:0.00000\tvalidation_0-logloss:0.03340\tvalidation_1-error:0.00000\tvalidation_1-logloss:0.03934\n",
      "[71]\tvalidation_0-error:0.00000\tvalidation_0-logloss:0.03294\tvalidation_1-error:0.00000\tvalidation_1-logloss:0.03912\n",
      "[72]\tvalidation_0-error:0.00000\tvalidation_0-logloss:0.03265\tvalidation_1-error:0.00000\tvalidation_1-logloss:0.03889\n",
      "[73]\tvalidation_0-error:0.00000\tvalidation_0-logloss:0.03172\tvalidation_1-error:0.00000\tvalidation_1-logloss:0.03802\n",
      "[74]\tvalidation_0-error:0.00000\tvalidation_0-logloss:0.03057\tvalidation_1-error:0.00000\tvalidation_1-logloss:0.03687\n",
      "[75]\tvalidation_0-error:0.00000\tvalidation_0-logloss:0.02953\tvalidation_1-error:0.00364\tvalidation_1-logloss:0.03571\n",
      "[76]\tvalidation_0-error:0.00000\tvalidation_0-logloss:0.02920\tvalidation_1-error:0.00000\tvalidation_1-logloss:0.03543\n",
      "[77]\tvalidation_0-error:0.00000\tvalidation_0-logloss:0.02851\tvalidation_1-error:0.00000\tvalidation_1-logloss:0.03472\n",
      "[78]\tvalidation_0-error:0.00000\tvalidation_0-logloss:0.02737\tvalidation_1-error:0.00000\tvalidation_1-logloss:0.03339\n",
      "[79]\tvalidation_0-error:0.00000\tvalidation_0-logloss:0.02647\tvalidation_1-error:0.00000\tvalidation_1-logloss:0.03242\n",
      "[80]\tvalidation_0-error:0.00000\tvalidation_0-logloss:0.02558\tvalidation_1-error:0.00000\tvalidation_1-logloss:0.03156\n",
      "[81]\tvalidation_0-error:0.00000\tvalidation_0-logloss:0.02474\tvalidation_1-error:0.00000\tvalidation_1-logloss:0.03078\n",
      "[82]\tvalidation_0-error:0.00000\tvalidation_0-logloss:0.02394\tvalidation_1-error:0.00000\tvalidation_1-logloss:0.03005\n",
      "[83]\tvalidation_0-error:0.00000\tvalidation_0-logloss:0.02374\tvalidation_1-error:0.00000\tvalidation_1-logloss:0.02974\n",
      "[84]\tvalidation_0-error:0.00000\tvalidation_0-logloss:0.02296\tvalidation_1-error:0.00000\tvalidation_1-logloss:0.02874\n",
      "[85]\tvalidation_0-error:0.00000\tvalidation_0-logloss:0.02248\tvalidation_1-error:0.00000\tvalidation_1-logloss:0.02838\n",
      "[86]\tvalidation_0-error:0.00000\tvalidation_0-logloss:0.02180\tvalidation_1-error:0.00000\tvalidation_1-logloss:0.02774\n",
      "[87]\tvalidation_0-error:0.00000\tvalidation_0-logloss:0.02116\tvalidation_1-error:0.00000\tvalidation_1-logloss:0.02708\n",
      "[88]\tvalidation_0-error:0.00000\tvalidation_0-logloss:0.02057\tvalidation_1-error:0.00000\tvalidation_1-logloss:0.02652\n",
      "[89]\tvalidation_0-error:0.00000\tvalidation_0-logloss:0.02004\tvalidation_1-error:0.00000\tvalidation_1-logloss:0.02604\n",
      "[90]\tvalidation_0-error:0.00000\tvalidation_0-logloss:0.01989\tvalidation_1-error:0.00000\tvalidation_1-logloss:0.02580\n",
      "[91]\tvalidation_0-error:0.00000\tvalidation_0-logloss:0.01931\tvalidation_1-error:0.00000\tvalidation_1-logloss:0.02505\n",
      "[92]\tvalidation_0-error:0.00000\tvalidation_0-logloss:0.01921\tvalidation_1-error:0.00000\tvalidation_1-logloss:0.02489\n",
      "[93]\tvalidation_0-error:0.00000\tvalidation_0-logloss:0.01874\tvalidation_1-error:0.00000\tvalidation_1-logloss:0.02431\n",
      "[94]\tvalidation_0-error:0.00000\tvalidation_0-logloss:0.01827\tvalidation_1-error:0.00000\tvalidation_1-logloss:0.02380\n",
      "[95]\tvalidation_0-error:0.00000\tvalidation_0-logloss:0.01802\tvalidation_1-error:0.00000\tvalidation_1-logloss:0.02368\n",
      "[96]\tvalidation_0-error:0.00000\tvalidation_0-logloss:0.01760\tvalidation_1-error:0.00000\tvalidation_1-logloss:0.02314\n",
      "[97]\tvalidation_0-error:0.00000\tvalidation_0-logloss:0.01753\tvalidation_1-error:0.00000\tvalidation_1-logloss:0.02300\n",
      "[98]\tvalidation_0-error:0.00000\tvalidation_0-logloss:0.01705\tvalidation_1-error:0.00000\tvalidation_1-logloss:0.02248\n",
      "[99]\tvalidation_0-error:0.00000\tvalidation_0-logloss:0.01667\tvalidation_1-error:0.00000\tvalidation_1-logloss:0.02227\n",
      "[100]\tvalidation_0-error:0.00000\tvalidation_0-logloss:0.01625\tvalidation_1-error:0.00000\tvalidation_1-logloss:0.02169\n",
      "[101]\tvalidation_0-error:0.00000\tvalidation_0-logloss:0.01599\tvalidation_1-error:0.00000\tvalidation_1-logloss:0.02139\n",
      "[102]\tvalidation_0-error:0.00000\tvalidation_0-logloss:0.01585\tvalidation_1-error:0.00000\tvalidation_1-logloss:0.02133\n",
      "[103]\tvalidation_0-error:0.00000\tvalidation_0-logloss:0.01543\tvalidation_1-error:0.00000\tvalidation_1-logloss:0.02065\n",
      "[104]\tvalidation_0-error:0.00000\tvalidation_0-logloss:0.01504\tvalidation_1-error:0.00000\tvalidation_1-logloss:0.02013\n",
      "[105]\tvalidation_0-error:0.00000\tvalidation_0-logloss:0.01482\tvalidation_1-error:0.00000\tvalidation_1-logloss:0.01969\n",
      "[106]\tvalidation_0-error:0.00000\tvalidation_0-logloss:0.01468\tvalidation_1-error:0.00000\tvalidation_1-logloss:0.01952\n",
      "[107]\tvalidation_0-error:0.00000\tvalidation_0-logloss:0.01434\tvalidation_1-error:0.00000\tvalidation_1-logloss:0.01910\n",
      "[108]\tvalidation_0-error:0.00000\tvalidation_0-logloss:0.01396\tvalidation_1-error:0.00000\tvalidation_1-logloss:0.01870\n",
      "[109]\tvalidation_0-error:0.00000\tvalidation_0-logloss:0.01390\tvalidation_1-error:0.00000\tvalidation_1-logloss:0.01859\n",
      "[110]\tvalidation_0-error:0.00000\tvalidation_0-logloss:0.01374\tvalidation_1-error:0.00000\tvalidation_1-logloss:0.01846\n",
      "[111]\tvalidation_0-error:0.00000\tvalidation_0-logloss:0.01342\tvalidation_1-error:0.00000\tvalidation_1-logloss:0.01811\n",
      "[112]\tvalidation_0-error:0.00000\tvalidation_0-logloss:0.01309\tvalidation_1-error:0.00000\tvalidation_1-logloss:0.01777\n",
      "[113]\tvalidation_0-error:0.00000\tvalidation_0-logloss:0.01279\tvalidation_1-error:0.00000\tvalidation_1-logloss:0.01738\n",
      "[114]\tvalidation_0-error:0.00000\tvalidation_0-logloss:0.01267\tvalidation_1-error:0.00000\tvalidation_1-logloss:0.01731\n",
      "[115]\tvalidation_0-error:0.00000\tvalidation_0-logloss:0.01243\tvalidation_1-error:0.00000\tvalidation_1-logloss:0.01698\n",
      "[116]\tvalidation_0-error:0.00000\tvalidation_0-logloss:0.01224\tvalidation_1-error:0.00000\tvalidation_1-logloss:0.01681\n",
      "[117]\tvalidation_0-error:0.00000\tvalidation_0-logloss:0.01218\tvalidation_1-error:0.00000\tvalidation_1-logloss:0.01669\n",
      "[118]\tvalidation_0-error:0.00000\tvalidation_0-logloss:0.01192\tvalidation_1-error:0.00000\tvalidation_1-logloss:0.01645\n",
      "[119]\tvalidation_0-error:0.00000\tvalidation_0-logloss:0.01173\tvalidation_1-error:0.00000\tvalidation_1-logloss:0.01614\n",
      "[120]\tvalidation_0-error:0.00000\tvalidation_0-logloss:0.01147\tvalidation_1-error:0.00000\tvalidation_1-logloss:0.01579\n",
      "[121]\tvalidation_0-error:0.00000\tvalidation_0-logloss:0.01134\tvalidation_1-error:0.00000\tvalidation_1-logloss:0.01555\n",
      "[122]\tvalidation_0-error:0.00000\tvalidation_0-logloss:0.01112\tvalidation_1-error:0.00000\tvalidation_1-logloss:0.01531\n",
      "[123]\tvalidation_0-error:0.00000\tvalidation_0-logloss:0.01102\tvalidation_1-error:0.00000\tvalidation_1-logloss:0.01524\n",
      "[124]\tvalidation_0-error:0.00000\tvalidation_0-logloss:0.01091\tvalidation_1-error:0.00000\tvalidation_1-logloss:0.01516\n",
      "[125]\tvalidation_0-error:0.00000\tvalidation_0-logloss:0.01086\tvalidation_1-error:0.00000\tvalidation_1-logloss:0.01504\n",
      "[126]\tvalidation_0-error:0.00000\tvalidation_0-logloss:0.01081\tvalidation_1-error:0.00000\tvalidation_1-logloss:0.01496\n",
      "[127]\tvalidation_0-error:0.00000\tvalidation_0-logloss:0.01063\tvalidation_1-error:0.00000\tvalidation_1-logloss:0.01475\n",
      "[128]\tvalidation_0-error:0.00000\tvalidation_0-logloss:0.01052\tvalidation_1-error:0.00000\tvalidation_1-logloss:0.01474\n",
      "[129]\tvalidation_0-error:0.00000\tvalidation_0-logloss:0.01048\tvalidation_1-error:0.00000\tvalidation_1-logloss:0.01466\n",
      "[130]\tvalidation_0-error:0.00000\tvalidation_0-logloss:0.01044\tvalidation_1-error:0.00000\tvalidation_1-logloss:0.01456\n",
      "[131]\tvalidation_0-error:0.00000\tvalidation_0-logloss:0.01035\tvalidation_1-error:0.00000\tvalidation_1-logloss:0.01451\n",
      "[132]\tvalidation_0-error:0.00000\tvalidation_0-logloss:0.01023\tvalidation_1-error:0.00000\tvalidation_1-logloss:0.01424\n",
      "[133]\tvalidation_0-error:0.00000\tvalidation_0-logloss:0.01019\tvalidation_1-error:0.00000\tvalidation_1-logloss:0.01420\n",
      "[134]\tvalidation_0-error:0.00000\tvalidation_0-logloss:0.01002\tvalidation_1-error:0.00000\tvalidation_1-logloss:0.01407\n",
      "[135]\tvalidation_0-error:0.00000\tvalidation_0-logloss:0.00995\tvalidation_1-error:0.00000\tvalidation_1-logloss:0.01403\n",
      "[136]\tvalidation_0-error:0.00000\tvalidation_0-logloss:0.00978\tvalidation_1-error:0.00000\tvalidation_1-logloss:0.01376\n",
      "[137]\tvalidation_0-error:0.00000\tvalidation_0-logloss:0.00970\tvalidation_1-error:0.00000\tvalidation_1-logloss:0.01370\n",
      "[138]\tvalidation_0-error:0.00000\tvalidation_0-logloss:0.00956\tvalidation_1-error:0.00000\tvalidation_1-logloss:0.01358\n",
      "[139]\tvalidation_0-error:0.00000\tvalidation_0-logloss:0.00940\tvalidation_1-error:0.00000\tvalidation_1-logloss:0.01340\n",
      "[140]\tvalidation_0-error:0.00000\tvalidation_0-logloss:0.00929\tvalidation_1-error:0.00000\tvalidation_1-logloss:0.01324\n",
      "[141]\tvalidation_0-error:0.00000\tvalidation_0-logloss:0.00914\tvalidation_1-error:0.00000\tvalidation_1-logloss:0.01300\n",
      "[142]\tvalidation_0-error:0.00000\tvalidation_0-logloss:0.00911\tvalidation_1-error:0.00000\tvalidation_1-logloss:0.01299\n",
      "[143]\tvalidation_0-error:0.00000\tvalidation_0-logloss:0.00894\tvalidation_1-error:0.00000\tvalidation_1-logloss:0.01273\n",
      "[144]\tvalidation_0-error:0.00000\tvalidation_0-logloss:0.00887\tvalidation_1-error:0.00000\tvalidation_1-logloss:0.01268\n",
      "[145]\tvalidation_0-error:0.00000\tvalidation_0-logloss:0.00880\tvalidation_1-error:0.00000\tvalidation_1-logloss:0.01264\n",
      "[146]\tvalidation_0-error:0.00000\tvalidation_0-logloss:0.00866\tvalidation_1-error:0.00000\tvalidation_1-logloss:0.01242\n",
      "[147]\tvalidation_0-error:0.00000\tvalidation_0-logloss:0.00853\tvalidation_1-error:0.00000\tvalidation_1-logloss:0.01225\n",
      "[148]\tvalidation_0-error:0.00000\tvalidation_0-logloss:0.00853\tvalidation_1-error:0.00000\tvalidation_1-logloss:0.01225\n",
      "[149]\tvalidation_0-error:0.00000\tvalidation_0-logloss:0.00842\tvalidation_1-error:0.00000\tvalidation_1-logloss:0.01209\n",
      "[150]\tvalidation_0-error:0.00000\tvalidation_0-logloss:0.00835\tvalidation_1-error:0.00000\tvalidation_1-logloss:0.01199\n",
      "[151]\tvalidation_0-error:0.00000\tvalidation_0-logloss:0.00826\tvalidation_1-error:0.00000\tvalidation_1-logloss:0.01186\n",
      "[152]\tvalidation_0-error:0.00000\tvalidation_0-logloss:0.00824\tvalidation_1-error:0.00000\tvalidation_1-logloss:0.01183\n",
      "[153]\tvalidation_0-error:0.00000\tvalidation_0-logloss:0.00824\tvalidation_1-error:0.00000\tvalidation_1-logloss:0.01183\n",
      "[154]\tvalidation_0-error:0.00000\tvalidation_0-logloss:0.00816\tvalidation_1-error:0.00000\tvalidation_1-logloss:0.01177\n",
      "[155]\tvalidation_0-error:0.00000\tvalidation_0-logloss:0.00813\tvalidation_1-error:0.00000\tvalidation_1-logloss:0.01171\n",
      "[156]\tvalidation_0-error:0.00000\tvalidation_0-logloss:0.00806\tvalidation_1-error:0.00000\tvalidation_1-logloss:0.01162\n",
      "[157]\tvalidation_0-error:0.00000\tvalidation_0-logloss:0.00803\tvalidation_1-error:0.00000\tvalidation_1-logloss:0.01154\n",
      "[158]\tvalidation_0-error:0.00000\tvalidation_0-logloss:0.00796\tvalidation_1-error:0.00000\tvalidation_1-logloss:0.01155\n",
      "[159]\tvalidation_0-error:0.00000\tvalidation_0-logloss:0.00796\tvalidation_1-error:0.00000\tvalidation_1-logloss:0.01155\n",
      "[160]\tvalidation_0-error:0.00000\tvalidation_0-logloss:0.00793\tvalidation_1-error:0.00000\tvalidation_1-logloss:0.01149\n",
      "[161]\tvalidation_0-error:0.00000\tvalidation_0-logloss:0.00790\tvalidation_1-error:0.00000\tvalidation_1-logloss:0.01145\n",
      "[162]\tvalidation_0-error:0.00000\tvalidation_0-logloss:0.00785\tvalidation_1-error:0.00000\tvalidation_1-logloss:0.01137\n",
      "[163]\tvalidation_0-error:0.00000\tvalidation_0-logloss:0.00772\tvalidation_1-error:0.00000\tvalidation_1-logloss:0.01116\n",
      "[164]\tvalidation_0-error:0.00000\tvalidation_0-logloss:0.00766\tvalidation_1-error:0.00000\tvalidation_1-logloss:0.01116\n",
      "[165]\tvalidation_0-error:0.00000\tvalidation_0-logloss:0.00766\tvalidation_1-error:0.00000\tvalidation_1-logloss:0.01116\n",
      "[166]\tvalidation_0-error:0.00000\tvalidation_0-logloss:0.00763\tvalidation_1-error:0.00000\tvalidation_1-logloss:0.01114\n",
      "[167]\tvalidation_0-error:0.00000\tvalidation_0-logloss:0.00757\tvalidation_1-error:0.00000\tvalidation_1-logloss:0.01107\n",
      "[168]\tvalidation_0-error:0.00000\tvalidation_0-logloss:0.00751\tvalidation_1-error:0.00000\tvalidation_1-logloss:0.01108\n",
      "[169]\tvalidation_0-error:0.00000\tvalidation_0-logloss:0.00740\tvalidation_1-error:0.00000\tvalidation_1-logloss:0.01095\n",
      "[170]\tvalidation_0-error:0.00000\tvalidation_0-logloss:0.00740\tvalidation_1-error:0.00000\tvalidation_1-logloss:0.01095\n",
      "[171]\tvalidation_0-error:0.00000\tvalidation_0-logloss:0.00740\tvalidation_1-error:0.00000\tvalidation_1-logloss:0.01095\n",
      "[172]\tvalidation_0-error:0.00000\tvalidation_0-logloss:0.00740\tvalidation_1-error:0.00000\tvalidation_1-logloss:0.01095\n",
      "[173]\tvalidation_0-error:0.00000\tvalidation_0-logloss:0.00740\tvalidation_1-error:0.00000\tvalidation_1-logloss:0.01095\n",
      "[174]\tvalidation_0-error:0.00000\tvalidation_0-logloss:0.00733\tvalidation_1-error:0.00000\tvalidation_1-logloss:0.01088\n",
      "[175]\tvalidation_0-error:0.00000\tvalidation_0-logloss:0.00733\tvalidation_1-error:0.00000\tvalidation_1-logloss:0.01088\n",
      "[176]\tvalidation_0-error:0.00000\tvalidation_0-logloss:0.00733\tvalidation_1-error:0.00000\tvalidation_1-logloss:0.01088\n",
      "[177]\tvalidation_0-error:0.00000\tvalidation_0-logloss:0.00723\tvalidation_1-error:0.00000\tvalidation_1-logloss:0.01074\n",
      "[178]\tvalidation_0-error:0.00000\tvalidation_0-logloss:0.00713\tvalidation_1-error:0.00000\tvalidation_1-logloss:0.01061\n",
      "[179]\tvalidation_0-error:0.00000\tvalidation_0-logloss:0.00710\tvalidation_1-error:0.00000\tvalidation_1-logloss:0.01056\n",
      "[180]\tvalidation_0-error:0.00000\tvalidation_0-logloss:0.00710\tvalidation_1-error:0.00000\tvalidation_1-logloss:0.01056\n",
      "[181]\tvalidation_0-error:0.00000\tvalidation_0-logloss:0.00710\tvalidation_1-error:0.00000\tvalidation_1-logloss:0.01056\n",
      "[182]\tvalidation_0-error:0.00000\tvalidation_0-logloss:0.00705\tvalidation_1-error:0.00000\tvalidation_1-logloss:0.01056\n",
      "[183]\tvalidation_0-error:0.00000\tvalidation_0-logloss:0.00705\tvalidation_1-error:0.00000\tvalidation_1-logloss:0.01056\n",
      "[184]\tvalidation_0-error:0.00000\tvalidation_0-logloss:0.00700\tvalidation_1-error:0.00000\tvalidation_1-logloss:0.01048\n",
      "[185]\tvalidation_0-error:0.00000\tvalidation_0-logloss:0.00693\tvalidation_1-error:0.00000\tvalidation_1-logloss:0.01036\n",
      "[186]\tvalidation_0-error:0.00000\tvalidation_0-logloss:0.00688\tvalidation_1-error:0.00000\tvalidation_1-logloss:0.01034\n",
      "[187]\tvalidation_0-error:0.00000\tvalidation_0-logloss:0.00688\tvalidation_1-error:0.00000\tvalidation_1-logloss:0.01034\n",
      "[188]\tvalidation_0-error:0.00000\tvalidation_0-logloss:0.00688\tvalidation_1-error:0.00000\tvalidation_1-logloss:0.01034\n",
      "[189]\tvalidation_0-error:0.00000\tvalidation_0-logloss:0.00688\tvalidation_1-error:0.00000\tvalidation_1-logloss:0.01034\n",
      "[190]\tvalidation_0-error:0.00000\tvalidation_0-logloss:0.00688\tvalidation_1-error:0.00000\tvalidation_1-logloss:0.01034\n",
      "[191]\tvalidation_0-error:0.00000\tvalidation_0-logloss:0.00688\tvalidation_1-error:0.00000\tvalidation_1-logloss:0.01034\n",
      "[192]\tvalidation_0-error:0.00000\tvalidation_0-logloss:0.00688\tvalidation_1-error:0.00000\tvalidation_1-logloss:0.01034\n",
      "[193]\tvalidation_0-error:0.00000\tvalidation_0-logloss:0.00688\tvalidation_1-error:0.00000\tvalidation_1-logloss:0.01034\n",
      "[194]\tvalidation_0-error:0.00000\tvalidation_0-logloss:0.00680\tvalidation_1-error:0.00000\tvalidation_1-logloss:0.01024\n",
      "[195]\tvalidation_0-error:0.00000\tvalidation_0-logloss:0.00674\tvalidation_1-error:0.00000\tvalidation_1-logloss:0.01016\n",
      "[196]\tvalidation_0-error:0.00000\tvalidation_0-logloss:0.00674\tvalidation_1-error:0.00000\tvalidation_1-logloss:0.01016\n",
      "[197]\tvalidation_0-error:0.00000\tvalidation_0-logloss:0.00674\tvalidation_1-error:0.00000\tvalidation_1-logloss:0.01016\n",
      "[198]\tvalidation_0-error:0.00000\tvalidation_0-logloss:0.00674\tvalidation_1-error:0.00000\tvalidation_1-logloss:0.01016\n",
      "[199]\tvalidation_0-error:0.00000\tvalidation_0-logloss:0.00674\tvalidation_1-error:0.00000\tvalidation_1-logloss:0.01016\n",
      "[200]\tvalidation_0-error:0.00000\tvalidation_0-logloss:0.00667\tvalidation_1-error:0.00000\tvalidation_1-logloss:0.01003\n",
      "[201]\tvalidation_0-error:0.00000\tvalidation_0-logloss:0.00667\tvalidation_1-error:0.00000\tvalidation_1-logloss:0.01003\n",
      "[202]\tvalidation_0-error:0.00000\tvalidation_0-logloss:0.00667\tvalidation_1-error:0.00000\tvalidation_1-logloss:0.01003\n",
      "[203]\tvalidation_0-error:0.00000\tvalidation_0-logloss:0.00662\tvalidation_1-error:0.00000\tvalidation_1-logloss:0.00995\n",
      "[204]\tvalidation_0-error:0.00000\tvalidation_0-logloss:0.00662\tvalidation_1-error:0.00000\tvalidation_1-logloss:0.00995\n",
      "[205]\tvalidation_0-error:0.00000\tvalidation_0-logloss:0.00662\tvalidation_1-error:0.00000\tvalidation_1-logloss:0.00995\n",
      "[206]\tvalidation_0-error:0.00000\tvalidation_0-logloss:0.00657\tvalidation_1-error:0.00000\tvalidation_1-logloss:0.00992\n",
      "[207]\tvalidation_0-error:0.00000\tvalidation_0-logloss:0.00657\tvalidation_1-error:0.00000\tvalidation_1-logloss:0.00992\n",
      "[208]\tvalidation_0-error:0.00000\tvalidation_0-logloss:0.00657\tvalidation_1-error:0.00000\tvalidation_1-logloss:0.00992\n",
      "[209]\tvalidation_0-error:0.00000\tvalidation_0-logloss:0.00657\tvalidation_1-error:0.00000\tvalidation_1-logloss:0.00992\n",
      "[210]\tvalidation_0-error:0.00000\tvalidation_0-logloss:0.00657\tvalidation_1-error:0.00000\tvalidation_1-logloss:0.00992\n",
      "[211]\tvalidation_0-error:0.00000\tvalidation_0-logloss:0.00657\tvalidation_1-error:0.00000\tvalidation_1-logloss:0.00992\n",
      "[212]\tvalidation_0-error:0.00000\tvalidation_0-logloss:0.00657\tvalidation_1-error:0.00000\tvalidation_1-logloss:0.00992\n",
      "[213]\tvalidation_0-error:0.00000\tvalidation_0-logloss:0.00657\tvalidation_1-error:0.00000\tvalidation_1-logloss:0.00992\n",
      "[214]\tvalidation_0-error:0.00000\tvalidation_0-logloss:0.00657\tvalidation_1-error:0.00000\tvalidation_1-logloss:0.00992\n",
      "[215]\tvalidation_0-error:0.00000\tvalidation_0-logloss:0.00657\tvalidation_1-error:0.00000\tvalidation_1-logloss:0.00992\n",
      "[216]\tvalidation_0-error:0.00000\tvalidation_0-logloss:0.00657\tvalidation_1-error:0.00000\tvalidation_1-logloss:0.00992\n",
      "[217]\tvalidation_0-error:0.00000\tvalidation_0-logloss:0.00657\tvalidation_1-error:0.00000\tvalidation_1-logloss:0.00992\n",
      "[218]\tvalidation_0-error:0.00000\tvalidation_0-logloss:0.00657\tvalidation_1-error:0.00000\tvalidation_1-logloss:0.00992\n",
      "[219]\tvalidation_0-error:0.00000\tvalidation_0-logloss:0.00657\tvalidation_1-error:0.00000\tvalidation_1-logloss:0.00992\n",
      "[220]\tvalidation_0-error:0.00000\tvalidation_0-logloss:0.00657\tvalidation_1-error:0.00000\tvalidation_1-logloss:0.00992\n",
      "[221]\tvalidation_0-error:0.00000\tvalidation_0-logloss:0.00651\tvalidation_1-error:0.00000\tvalidation_1-logloss:0.00981\n",
      "[222]\tvalidation_0-error:0.00000\tvalidation_0-logloss:0.00651\tvalidation_1-error:0.00000\tvalidation_1-logloss:0.00981\n",
      "[223]\tvalidation_0-error:0.00000\tvalidation_0-logloss:0.00651\tvalidation_1-error:0.00000\tvalidation_1-logloss:0.00981\n",
      "[224]\tvalidation_0-error:0.00000\tvalidation_0-logloss:0.00651\tvalidation_1-error:0.00000\tvalidation_1-logloss:0.00981\n",
      "[225]\tvalidation_0-error:0.00000\tvalidation_0-logloss:0.00651\tvalidation_1-error:0.00000\tvalidation_1-logloss:0.00981\n",
      "[226]\tvalidation_0-error:0.00000\tvalidation_0-logloss:0.00651\tvalidation_1-error:0.00000\tvalidation_1-logloss:0.00981\n",
      "[227]\tvalidation_0-error:0.00000\tvalidation_0-logloss:0.00651\tvalidation_1-error:0.00000\tvalidation_1-logloss:0.00981\n",
      "[228]\tvalidation_0-error:0.00000\tvalidation_0-logloss:0.00651\tvalidation_1-error:0.00000\tvalidation_1-logloss:0.00981\n",
      "[229]\tvalidation_0-error:0.00000\tvalidation_0-logloss:0.00651\tvalidation_1-error:0.00000\tvalidation_1-logloss:0.00981\n",
      "[230]\tvalidation_0-error:0.00000\tvalidation_0-logloss:0.00651\tvalidation_1-error:0.00000\tvalidation_1-logloss:0.00981\n",
      "[231]\tvalidation_0-error:0.00000\tvalidation_0-logloss:0.00651\tvalidation_1-error:0.00000\tvalidation_1-logloss:0.00981\n",
      "[232]\tvalidation_0-error:0.00000\tvalidation_0-logloss:0.00651\tvalidation_1-error:0.00000\tvalidation_1-logloss:0.00981\n",
      "[233]\tvalidation_0-error:0.00000\tvalidation_0-logloss:0.00651\tvalidation_1-error:0.00000\tvalidation_1-logloss:0.00981\n",
      "[234]\tvalidation_0-error:0.00000\tvalidation_0-logloss:0.00651\tvalidation_1-error:0.00000\tvalidation_1-logloss:0.00981\n",
      "[235]\tvalidation_0-error:0.00000\tvalidation_0-logloss:0.00651\tvalidation_1-error:0.00000\tvalidation_1-logloss:0.00981\n",
      "[236]\tvalidation_0-error:0.00000\tvalidation_0-logloss:0.00651\tvalidation_1-error:0.00000\tvalidation_1-logloss:0.00981\n",
      "[237]\tvalidation_0-error:0.00000\tvalidation_0-logloss:0.00651\tvalidation_1-error:0.00000\tvalidation_1-logloss:0.00981\n",
      "[238]\tvalidation_0-error:0.00000\tvalidation_0-logloss:0.00651\tvalidation_1-error:0.00000\tvalidation_1-logloss:0.00981\n",
      "[239]\tvalidation_0-error:0.00000\tvalidation_0-logloss:0.00651\tvalidation_1-error:0.00000\tvalidation_1-logloss:0.00981\n",
      "[240]\tvalidation_0-error:0.00000\tvalidation_0-logloss:0.00651\tvalidation_1-error:0.00000\tvalidation_1-logloss:0.00981\n",
      "[241]\tvalidation_0-error:0.00000\tvalidation_0-logloss:0.00651\tvalidation_1-error:0.00000\tvalidation_1-logloss:0.00981\n",
      "[242]\tvalidation_0-error:0.00000\tvalidation_0-logloss:0.00651\tvalidation_1-error:0.00000\tvalidation_1-logloss:0.00981\n",
      "[243]\tvalidation_0-error:0.00000\tvalidation_0-logloss:0.00651\tvalidation_1-error:0.00000\tvalidation_1-logloss:0.00981\n",
      "[244]\tvalidation_0-error:0.00000\tvalidation_0-logloss:0.00651\tvalidation_1-error:0.00000\tvalidation_1-logloss:0.00981\n",
      "[245]\tvalidation_0-error:0.00000\tvalidation_0-logloss:0.00651\tvalidation_1-error:0.00000\tvalidation_1-logloss:0.00981\n",
      "[246]\tvalidation_0-error:0.00000\tvalidation_0-logloss:0.00651\tvalidation_1-error:0.00000\tvalidation_1-logloss:0.00981\n",
      "[247]\tvalidation_0-error:0.00000\tvalidation_0-logloss:0.00651\tvalidation_1-error:0.00000\tvalidation_1-logloss:0.00981\n",
      "[248]\tvalidation_0-error:0.00000\tvalidation_0-logloss:0.00651\tvalidation_1-error:0.00000\tvalidation_1-logloss:0.00981\n",
      "[249]\tvalidation_0-error:0.00000\tvalidation_0-logloss:0.00651\tvalidation_1-error:0.00000\tvalidation_1-logloss:0.00981\n",
      "[250]\tvalidation_0-error:0.00000\tvalidation_0-logloss:0.00651\tvalidation_1-error:0.00000\tvalidation_1-logloss:0.00981\n",
      "[251]\tvalidation_0-error:0.00000\tvalidation_0-logloss:0.00651\tvalidation_1-error:0.00000\tvalidation_1-logloss:0.00981\n",
      "[252]\tvalidation_0-error:0.00000\tvalidation_0-logloss:0.00651\tvalidation_1-error:0.00000\tvalidation_1-logloss:0.00981\n",
      "[253]\tvalidation_0-error:0.00000\tvalidation_0-logloss:0.00651\tvalidation_1-error:0.00000\tvalidation_1-logloss:0.00981\n",
      "[254]\tvalidation_0-error:0.00000\tvalidation_0-logloss:0.00651\tvalidation_1-error:0.00000\tvalidation_1-logloss:0.00981\n",
      "[255]\tvalidation_0-error:0.00000\tvalidation_0-logloss:0.00651\tvalidation_1-error:0.00000\tvalidation_1-logloss:0.00981\n",
      "[256]\tvalidation_0-error:0.00000\tvalidation_0-logloss:0.00651\tvalidation_1-error:0.00000\tvalidation_1-logloss:0.00981\n",
      "[257]\tvalidation_0-error:0.00000\tvalidation_0-logloss:0.00651\tvalidation_1-error:0.00000\tvalidation_1-logloss:0.00981\n",
      "[258]\tvalidation_0-error:0.00000\tvalidation_0-logloss:0.00651\tvalidation_1-error:0.00000\tvalidation_1-logloss:0.00981\n",
      "[259]\tvalidation_0-error:0.00000\tvalidation_0-logloss:0.00651\tvalidation_1-error:0.00000\tvalidation_1-logloss:0.00981\n",
      "[260]\tvalidation_0-error:0.00000\tvalidation_0-logloss:0.00651\tvalidation_1-error:0.00000\tvalidation_1-logloss:0.00981\n",
      "[261]\tvalidation_0-error:0.00000\tvalidation_0-logloss:0.00651\tvalidation_1-error:0.00000\tvalidation_1-logloss:0.00981\n",
      "[262]\tvalidation_0-error:0.00000\tvalidation_0-logloss:0.00651\tvalidation_1-error:0.00000\tvalidation_1-logloss:0.00981\n",
      "[263]\tvalidation_0-error:0.00000\tvalidation_0-logloss:0.00651\tvalidation_1-error:0.00000\tvalidation_1-logloss:0.00981\n",
      "[264]\tvalidation_0-error:0.00000\tvalidation_0-logloss:0.00651\tvalidation_1-error:0.00000\tvalidation_1-logloss:0.00981\n",
      "[265]\tvalidation_0-error:0.00000\tvalidation_0-logloss:0.00651\tvalidation_1-error:0.00000\tvalidation_1-logloss:0.00981\n",
      "[266]\tvalidation_0-error:0.00000\tvalidation_0-logloss:0.00651\tvalidation_1-error:0.00000\tvalidation_1-logloss:0.00981\n",
      "[267]\tvalidation_0-error:0.00000\tvalidation_0-logloss:0.00651\tvalidation_1-error:0.00000\tvalidation_1-logloss:0.00981\n",
      "[268]\tvalidation_0-error:0.00000\tvalidation_0-logloss:0.00651\tvalidation_1-error:0.00000\tvalidation_1-logloss:0.00981\n",
      "[269]\tvalidation_0-error:0.00000\tvalidation_0-logloss:0.00651\tvalidation_1-error:0.00000\tvalidation_1-logloss:0.00981\n",
      "[270]\tvalidation_0-error:0.00000\tvalidation_0-logloss:0.00651\tvalidation_1-error:0.00000\tvalidation_1-logloss:0.00981\n",
      "[271]\tvalidation_0-error:0.00000\tvalidation_0-logloss:0.00651\tvalidation_1-error:0.00000\tvalidation_1-logloss:0.00981\n",
      "[272]\tvalidation_0-error:0.00000\tvalidation_0-logloss:0.00651\tvalidation_1-error:0.00000\tvalidation_1-logloss:0.00981\n",
      "[273]\tvalidation_0-error:0.00000\tvalidation_0-logloss:0.00651\tvalidation_1-error:0.00000\tvalidation_1-logloss:0.00981\n",
      "[274]\tvalidation_0-error:0.00000\tvalidation_0-logloss:0.00651\tvalidation_1-error:0.00000\tvalidation_1-logloss:0.00981\n",
      "[275]\tvalidation_0-error:0.00000\tvalidation_0-logloss:0.00651\tvalidation_1-error:0.00000\tvalidation_1-logloss:0.00981\n",
      "[276]\tvalidation_0-error:0.00000\tvalidation_0-logloss:0.00651\tvalidation_1-error:0.00000\tvalidation_1-logloss:0.00981\n",
      "[277]\tvalidation_0-error:0.00000\tvalidation_0-logloss:0.00651\tvalidation_1-error:0.00000\tvalidation_1-logloss:0.00981\n",
      "[278]\tvalidation_0-error:0.00000\tvalidation_0-logloss:0.00651\tvalidation_1-error:0.00000\tvalidation_1-logloss:0.00981\n",
      "[279]\tvalidation_0-error:0.00000\tvalidation_0-logloss:0.00651\tvalidation_1-error:0.00000\tvalidation_1-logloss:0.00981\n",
      "[280]\tvalidation_0-error:0.00000\tvalidation_0-logloss:0.00651\tvalidation_1-error:0.00000\tvalidation_1-logloss:0.00981\n",
      "[281]\tvalidation_0-error:0.00000\tvalidation_0-logloss:0.00651\tvalidation_1-error:0.00000\tvalidation_1-logloss:0.00981\n",
      "[282]\tvalidation_0-error:0.00000\tvalidation_0-logloss:0.00651\tvalidation_1-error:0.00000\tvalidation_1-logloss:0.00981\n",
      "[283]\tvalidation_0-error:0.00000\tvalidation_0-logloss:0.00651\tvalidation_1-error:0.00000\tvalidation_1-logloss:0.00981\n",
      "[284]\tvalidation_0-error:0.00000\tvalidation_0-logloss:0.00651\tvalidation_1-error:0.00000\tvalidation_1-logloss:0.00981\n",
      "[285]\tvalidation_0-error:0.00000\tvalidation_0-logloss:0.00651\tvalidation_1-error:0.00000\tvalidation_1-logloss:0.00981\n",
      "[286]\tvalidation_0-error:0.00000\tvalidation_0-logloss:0.00651\tvalidation_1-error:0.00000\tvalidation_1-logloss:0.00981\n",
      "[287]\tvalidation_0-error:0.00000\tvalidation_0-logloss:0.00651\tvalidation_1-error:0.00000\tvalidation_1-logloss:0.00981\n",
      "[288]\tvalidation_0-error:0.00000\tvalidation_0-logloss:0.00651\tvalidation_1-error:0.00000\tvalidation_1-logloss:0.00981\n",
      "[289]\tvalidation_0-error:0.00000\tvalidation_0-logloss:0.00651\tvalidation_1-error:0.00000\tvalidation_1-logloss:0.00981\n",
      "[290]\tvalidation_0-error:0.00000\tvalidation_0-logloss:0.00651\tvalidation_1-error:0.00000\tvalidation_1-logloss:0.00981\n",
      "[291]\tvalidation_0-error:0.00000\tvalidation_0-logloss:0.00651\tvalidation_1-error:0.00000\tvalidation_1-logloss:0.00981\n",
      "[292]\tvalidation_0-error:0.00000\tvalidation_0-logloss:0.00651\tvalidation_1-error:0.00000\tvalidation_1-logloss:0.00981\n",
      "[293]\tvalidation_0-error:0.00000\tvalidation_0-logloss:0.00651\tvalidation_1-error:0.00000\tvalidation_1-logloss:0.00981\n",
      "[294]\tvalidation_0-error:0.00000\tvalidation_0-logloss:0.00651\tvalidation_1-error:0.00000\tvalidation_1-logloss:0.00981\n",
      "[295]\tvalidation_0-error:0.00000\tvalidation_0-logloss:0.00651\tvalidation_1-error:0.00000\tvalidation_1-logloss:0.00981\n",
      "[296]\tvalidation_0-error:0.00000\tvalidation_0-logloss:0.00651\tvalidation_1-error:0.00000\tvalidation_1-logloss:0.00981\n",
      "[297]\tvalidation_0-error:0.00000\tvalidation_0-logloss:0.00651\tvalidation_1-error:0.00000\tvalidation_1-logloss:0.00981\n",
      "[298]\tvalidation_0-error:0.00000\tvalidation_0-logloss:0.00651\tvalidation_1-error:0.00000\tvalidation_1-logloss:0.00981\n",
      "[299]\tvalidation_0-error:0.00000\tvalidation_0-logloss:0.00651\tvalidation_1-error:0.00000\tvalidation_1-logloss:0.00981\n"
     ]
    },
    {
     "data": {
      "text/plain": [
       "XGBClassifier(base_score=0.5, booster='gbtree', colsample_bylevel=1,\n",
       "              colsample_bynode=1, colsample_bytree=0.5, gamma=0.3, gpu_id=-1,\n",
       "              importance_type='gain', interaction_constraints='',\n",
       "              learning_rate=0.1, max_delta_step=0, max_depth=4,\n",
       "              min_child_weight=1, missing=nan, monotone_constraints='()',\n",
       "              n_estimators=300, n_jobs=0, num_parallel_tree=1, random_state=0,\n",
       "              reg_alpha=0, reg_lambda=1, scale_pos_weight=1, subsample=1,\n",
       "              tree_method='exact', validate_parameters=1, verbosity=None)"
      ]
     },
     "execution_count": 36,
     "metadata": {},
     "output_type": "execute_result"
    }
   ],
   "source": [
    "model = classifier\n",
    "eval_set = [(x_train, y_train), (x_test, y_test)]\n",
    "model.fit(x_train, y_train, eval_metric=[\"error\", \"logloss\"], eval_set=eval_set)"
   ]
  },
  {
   "cell_type": "code",
   "execution_count": 37,
   "metadata": {},
   "outputs": [],
   "source": [
    "result = model.predict(x_test)"
   ]
  },
  {
   "cell_type": "code",
   "execution_count": 38,
   "metadata": {},
   "outputs": [],
   "source": [
    "from sklearn.metrics import accuracy_score"
   ]
  },
  {
   "cell_type": "code",
   "execution_count": 39,
   "metadata": {},
   "outputs": [],
   "source": [
    "accuracy = accuracy_score(result, y_test)"
   ]
  },
  {
   "cell_type": "code",
   "execution_count": 40,
   "metadata": {},
   "outputs": [
    {
     "data": {
      "text/plain": [
       "1.0"
      ]
     },
     "execution_count": 40,
     "metadata": {},
     "output_type": "execute_result"
    }
   ],
   "source": [
    "accuracy"
   ]
  },
  {
   "cell_type": "code",
   "execution_count": 41,
   "metadata": {},
   "outputs": [],
   "source": [
    "scoretrain = model.score(x_train,y_train)"
   ]
  },
  {
   "cell_type": "code",
   "execution_count": 42,
   "metadata": {},
   "outputs": [
    {
     "data": {
      "text/plain": [
       "1.0"
      ]
     },
     "execution_count": 42,
     "metadata": {},
     "output_type": "execute_result"
    }
   ],
   "source": [
    "scoretrain"
   ]
  },
  {
   "cell_type": "code",
   "execution_count": 43,
   "metadata": {},
   "outputs": [],
   "source": [
    "scoretest = model.score(x_test,y_test)"
   ]
  },
  {
   "cell_type": "code",
   "execution_count": 44,
   "metadata": {},
   "outputs": [
    {
     "data": {
      "text/plain": [
       "1.0"
      ]
     },
     "execution_count": 44,
     "metadata": {},
     "output_type": "execute_result"
    }
   ],
   "source": [
    "scoretest"
   ]
  },
  {
   "cell_type": "code",
   "execution_count": 45,
   "metadata": {},
   "outputs": [
    {
     "data": {
      "text/plain": [
       "<sklearn.metrics._plot.roc_curve.RocCurveDisplay at 0x12743012fa0>"
      ]
     },
     "execution_count": 45,
     "metadata": {},
     "output_type": "execute_result"
    },
    {
     "data": {
      "image/png": "[encoded data removed]",
      "text/plain": [
       "<Figure size 432x288 with 1 Axes>"
      ]
     },
     "metadata": {
      "needs_background": "light"
     },
     "output_type": "display_data"
    }
   ],
   "source": [
    "#Ploting Area under the Curve\n",
    "from sklearn.metrics import plot_roc_curve\n",
    "xgbgraph = plot_roc_curve(model, x_test, y_test)\n",
    "xgbgraph"
   ]
  },
  {
   "cell_type": "code",
   "execution_count": 46,
   "metadata": {},
   "outputs": [],
   "source": [
    "from sklearn.metrics import confusion_matrix"
   ]
  },
  {
   "cell_type": "code",
   "execution_count": 47,
   "metadata": {},
   "outputs": [],
   "source": [
    "cm = confusion_matrix(y_test,result)"
   ]
  },
  {
   "cell_type": "code",
   "execution_count": 48,
   "metadata": {},
   "outputs": [
    {
     "data": {
      "text/plain": [
       "array([[160,   0],\n",
       "       [  0, 115]], dtype=int64)"
      ]
     },
     "execution_count": 48,
     "metadata": {},
     "output_type": "execute_result"
    }
   ],
   "source": [
    "cm"
   ]
  },
  {
   "cell_type": "code",
   "execution_count": 49,
   "metadata": {},
   "outputs": [
    {
     "data": {
      "image/png": "[encoded data removed]",
      "text/plain": [
       "<Figure size 864x864 with 1 Axes>"
      ]
     },
     "metadata": {
      "needs_background": "light"
     },
     "output_type": "display_data"
    }
   ],
   "source": [
    "    # retrieve performance metrics\n",
    "    results = model.evals_result()\n",
    "    epochs = len(results['validation_0']['error'])\n",
    "    x_axis = range(0, epochs)\n",
    "    \n",
    "    # plot log loss\n",
    "    fig, ax = plt.subplots(figsize=(12,12))\n",
    "    ax.plot(x_axis, results['validation_0']['logloss'], label='Train')\n",
    "    ax.plot(x_axis, results['validation_1']['logloss'], label='Test')\n",
    "    ax.legend()\n",
    "    \n",
    "    plt.ylabel('Log Loss')\n",
    "    plt.title('XGBoost Log Loss')\n",
    "    plt.show()"
   ]
  },
  {
   "cell_type": "code",
   "execution_count": 50,
   "metadata": {},
   "outputs": [
    {
     "data": {
      "image/png": "[encoded data removed]",
      "text/plain": [
       "<Figure size 864x864 with 1 Axes>"
      ]
     },
     "metadata": {
      "needs_background": "light"
     },
     "output_type": "display_data"
    }
   ],
   "source": [
    "    # plot classification error\n",
    "    fig, ax = plt.subplots(figsize=(12,12))\n",
    "    ax.plot(x_axis, results['validation_0']['error'], label='Train')\n",
    "    ax.plot(x_axis, results['validation_1']['error'], label='Test')\n",
    "    ax.legend()\n",
    "    \n",
    "    plt.ylabel('Classification Error')\n",
    "    plt.title('XGBoost Classification Error')\n",
    "    plt.show()"
   ]
  },
  {
   "cell_type": "code",
   "execution_count": null,
   "metadata": {},
   "outputs": [],
   "source": []
  },
  {
   "cell_type": "code",
   "execution_count": null,
   "metadata": {},
   "outputs": [],
   "source": []
  }
 ],
 "metadata": {
  "kernelspec": {
   "display_name": "Python 3",
   "language": "python",
   "name": "python3"
  },
  "language_info": {
   "codemirror_mode": {
    "name": "ipython",
    "version": 3
   },
   "file_extension": ".py",
   "mimetype": "text/x-python",
   "name": "python",
   "nbconvert_exporter": "python",
   "pygments_lexer": "ipython3",
   "version": "3.8.3"
  }
 },
 "nbformat": 4,
 "nbformat_minor": 4
}
