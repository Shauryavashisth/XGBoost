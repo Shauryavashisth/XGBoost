{
 "cells": [
  {
   "cell_type": "code",
   "execution_count": 1,
   "metadata": {},
   "outputs": [],
   "source": [
    "#Importing main library"
   ]
  },
  {
   "cell_type": "code",
   "execution_count": 2,
   "metadata": {},
   "outputs": [],
   "source": [
    "import pandas as pd\n",
    "import numpy as np\n",
    "import seaborn as sns\n",
    "import matplotlib.pyplot as plt"
   ]
  },
  {
   "cell_type": "code",
   "execution_count": 3,
   "metadata": {},
   "outputs": [],
   "source": [
    "data = pd.read_table('D:\\Study\\BA\\TEST\\data_banknote_authentication.txt',sep=',',header=0,names=['VOWTI','SOWTI','KOWTI','EOI','class'])"
   ]
  },
  {
   "cell_type": "code",
   "execution_count": 4,
   "metadata": {},
   "outputs": [],
   "source": [
    "#looking into the data"
   ]
  },
  {
   "cell_type": "code",
   "execution_count": 5,
   "metadata": {},
   "outputs": [
    {
     "data": {
      "text/html": [
       "<div>\n",
       "<style scoped>\n",
       "    .dataframe tbody tr th:only-of-type {\n",
       "        vertical-align: middle;\n",
       "    }\n",
       "\n",
       "    .dataframe tbody tr th {\n",
       "        vertical-align: top;\n",
       "    }\n",
       "\n",
       "    .dataframe thead th {\n",
       "        text-align: right;\n",
       "    }\n",
       "</style>\n",
       "<table border=\"1\" class=\"dataframe\">\n",
       "  <thead>\n",
       "    <tr style=\"text-align: right;\">\n",
       "      <th></th>\n",
       "      <th>VOWTI</th>\n",
       "      <th>SOWTI</th>\n",
       "      <th>KOWTI</th>\n",
       "      <th>EOI</th>\n",
       "      <th>class</th>\n",
       "    </tr>\n",
       "  </thead>\n",
       "  <tbody>\n",
       "    <tr>\n",
       "      <th>count</th>\n",
       "      <td>1371.000000</td>\n",
       "      <td>1371.000000</td>\n",
       "      <td>1371.000000</td>\n",
       "      <td>1371.000000</td>\n",
       "      <td>1371.000000</td>\n",
       "    </tr>\n",
       "    <tr>\n",
       "      <th>mean</th>\n",
       "      <td>0.431410</td>\n",
       "      <td>1.917434</td>\n",
       "      <td>1.400694</td>\n",
       "      <td>-1.192200</td>\n",
       "      <td>0.444931</td>\n",
       "    </tr>\n",
       "    <tr>\n",
       "      <th>std</th>\n",
       "      <td>2.842494</td>\n",
       "      <td>5.868359</td>\n",
       "      <td>4.310105</td>\n",
       "      <td>2.101683</td>\n",
       "      <td>0.497139</td>\n",
       "    </tr>\n",
       "    <tr>\n",
       "      <th>min</th>\n",
       "      <td>-7.042100</td>\n",
       "      <td>-13.773100</td>\n",
       "      <td>-5.286100</td>\n",
       "      <td>-8.548200</td>\n",
       "      <td>0.000000</td>\n",
       "    </tr>\n",
       "    <tr>\n",
       "      <th>25%</th>\n",
       "      <td>-1.774700</td>\n",
       "      <td>-1.711300</td>\n",
       "      <td>-1.553350</td>\n",
       "      <td>-2.417000</td>\n",
       "      <td>0.000000</td>\n",
       "    </tr>\n",
       "    <tr>\n",
       "      <th>50%</th>\n",
       "      <td>0.495710</td>\n",
       "      <td>2.313400</td>\n",
       "      <td>0.616630</td>\n",
       "      <td>-0.586650</td>\n",
       "      <td>0.000000</td>\n",
       "    </tr>\n",
       "    <tr>\n",
       "      <th>75%</th>\n",
       "      <td>2.814650</td>\n",
       "      <td>6.813100</td>\n",
       "      <td>3.181600</td>\n",
       "      <td>0.394810</td>\n",
       "      <td>1.000000</td>\n",
       "    </tr>\n",
       "    <tr>\n",
       "      <th>max</th>\n",
       "      <td>6.824800</td>\n",
       "      <td>12.951600</td>\n",
       "      <td>17.927400</td>\n",
       "      <td>2.449500</td>\n",
       "      <td>1.000000</td>\n",
       "    </tr>\n",
       "  </tbody>\n",
       "</table>\n",
       "</div>"
      ],
      "text/plain": [
       "             VOWTI        SOWTI        KOWTI          EOI        class\n",
       "count  1371.000000  1371.000000  1371.000000  1371.000000  1371.000000\n",
       "mean      0.431410     1.917434     1.400694    -1.192200     0.444931\n",
       "std       2.842494     5.868359     4.310105     2.101683     0.497139\n",
       "min      -7.042100   -13.773100    -5.286100    -8.548200     0.000000\n",
       "25%      -1.774700    -1.711300    -1.553350    -2.417000     0.000000\n",
       "50%       0.495710     2.313400     0.616630    -0.586650     0.000000\n",
       "75%       2.814650     6.813100     3.181600     0.394810     1.000000\n",
       "max       6.824800    12.951600    17.927400     2.449500     1.000000"
      ]
     },
     "execution_count": 5,
     "metadata": {},
     "output_type": "execute_result"
    }
   ],
   "source": [
    "data.describe()"
   ]
  },
  {
   "cell_type": "code",
   "execution_count": 6,
   "metadata": {},
   "outputs": [
    {
     "data": {
      "text/html": [
       "<div>\n",
       "<style scoped>\n",
       "    .dataframe tbody tr th:only-of-type {\n",
       "        vertical-align: middle;\n",
       "    }\n",
       "\n",
       "    .dataframe tbody tr th {\n",
       "        vertical-align: top;\n",
       "    }\n",
       "\n",
       "    .dataframe thead th {\n",
       "        text-align: right;\n",
       "    }\n",
       "</style>\n",
       "<table border=\"1\" class=\"dataframe\">\n",
       "  <thead>\n",
       "    <tr style=\"text-align: right;\">\n",
       "      <th></th>\n",
       "      <th>VOWTI</th>\n",
       "      <th>SOWTI</th>\n",
       "      <th>KOWTI</th>\n",
       "      <th>EOI</th>\n",
       "      <th>class</th>\n",
       "    </tr>\n",
       "  </thead>\n",
       "  <tbody>\n",
       "    <tr>\n",
       "      <th>0</th>\n",
       "      <td>4.54590</td>\n",
       "      <td>8.1674</td>\n",
       "      <td>-2.4586</td>\n",
       "      <td>-1.46210</td>\n",
       "      <td>0</td>\n",
       "    </tr>\n",
       "    <tr>\n",
       "      <th>1</th>\n",
       "      <td>3.86600</td>\n",
       "      <td>-2.6383</td>\n",
       "      <td>1.9242</td>\n",
       "      <td>0.10645</td>\n",
       "      <td>0</td>\n",
       "    </tr>\n",
       "    <tr>\n",
       "      <th>2</th>\n",
       "      <td>3.45660</td>\n",
       "      <td>9.5228</td>\n",
       "      <td>-4.0112</td>\n",
       "      <td>-3.59440</td>\n",
       "      <td>0</td>\n",
       "    </tr>\n",
       "    <tr>\n",
       "      <th>3</th>\n",
       "      <td>0.32924</td>\n",
       "      <td>-4.4552</td>\n",
       "      <td>4.5718</td>\n",
       "      <td>-0.98880</td>\n",
       "      <td>0</td>\n",
       "    </tr>\n",
       "    <tr>\n",
       "      <th>4</th>\n",
       "      <td>4.36840</td>\n",
       "      <td>9.6718</td>\n",
       "      <td>-3.9606</td>\n",
       "      <td>-3.16250</td>\n",
       "      <td>0</td>\n",
       "    </tr>\n",
       "  </tbody>\n",
       "</table>\n",
       "</div>"
      ],
      "text/plain": [
       "     VOWTI   SOWTI   KOWTI      EOI  class\n",
       "0  4.54590  8.1674 -2.4586 -1.46210      0\n",
       "1  3.86600 -2.6383  1.9242  0.10645      0\n",
       "2  3.45660  9.5228 -4.0112 -3.59440      0\n",
       "3  0.32924 -4.4552  4.5718 -0.98880      0\n",
       "4  4.36840  9.6718 -3.9606 -3.16250      0"
      ]
     },
     "execution_count": 6,
     "metadata": {},
     "output_type": "execute_result"
    }
   ],
   "source": [
    "data.head()"
   ]
  },
  {
   "cell_type": "code",
   "execution_count": 7,
   "metadata": {},
   "outputs": [
    {
     "name": "stdout",
     "output_type": "stream",
     "text": [
      "<class 'pandas.core.frame.DataFrame'>\n",
      "RangeIndex: 1371 entries, 0 to 1370\n",
      "Data columns (total 5 columns):\n",
      " #   Column  Non-Null Count  Dtype  \n",
      "---  ------  --------------  -----  \n",
      " 0   VOWTI   1371 non-null   float64\n",
      " 1   SOWTI   1371 non-null   float64\n",
      " 2   KOWTI   1371 non-null   float64\n",
      " 3   EOI     1371 non-null   float64\n",
      " 4   class   1371 non-null   int64  \n",
      "dtypes: float64(4), int64(1)\n",
      "memory usage: 53.7 KB\n"
     ]
    }
   ],
   "source": [
    "data.info()"
   ]
  },
  {
   "cell_type": "code",
   "execution_count": 8,
   "metadata": {},
   "outputs": [
    {
     "data": {
      "text/plain": [
       "VOWTI    1337\n",
       "SOWTI    1255\n",
       "KOWTI    1269\n",
       "EOI      1156\n",
       "class       2\n",
       "dtype: int64"
      ]
     },
     "execution_count": 8,
     "metadata": {},
     "output_type": "execute_result"
    }
   ],
   "source": [
    "data.nunique()"
   ]
  },
  {
   "cell_type": "code",
   "execution_count": 10,
   "metadata": {},
   "outputs": [],
   "source": [
    "#finding out the Outliers"
   ]
  },
  {
   "cell_type": "code",
   "execution_count": 11,
   "metadata": {},
   "outputs": [],
   "source": [
    "object = ['object']\n",
    "cat = data.select_dtypes(object)"
   ]
  },
  {
   "cell_type": "code",
   "execution_count": 12,
   "metadata": {},
   "outputs": [
    {
     "data": {
      "text/plain": [
       "Index([], dtype='object')"
      ]
     },
     "execution_count": 12,
     "metadata": {},
     "output_type": "execute_result"
    }
   ],
   "source": [
    "cat.columns"
   ]
  },
  {
   "cell_type": "code",
   "execution_count": 13,
   "metadata": {},
   "outputs": [
    {
     "name": "stdout",
     "output_type": "stream",
     "text": [
      "<class 'pandas.core.frame.DataFrame'>\n",
      "RangeIndex: 1371 entries, 0 to 1370\n",
      "Data columns (total 5 columns):\n",
      " #   Column  Non-Null Count  Dtype  \n",
      "---  ------  --------------  -----  \n",
      " 0   VOWTI   1371 non-null   float64\n",
      " 1   SOWTI   1371 non-null   float64\n",
      " 2   KOWTI   1371 non-null   float64\n",
      " 3   EOI     1371 non-null   float64\n",
      " 4   class   1371 non-null   int64  \n",
      "dtypes: float64(4), int64(1)\n",
      "memory usage: 53.7 KB\n"
     ]
    }
   ],
   "source": [
    "data.info()"
   ]
  },
  {
   "cell_type": "code",
   "execution_count": 14,
   "metadata": {},
   "outputs": [
    {
     "data": {
      "text/plain": [
       "<matplotlib.axes._subplots.AxesSubplot at 0x16a8b0233d0>"
      ]
     },
     "execution_count": 14,
     "metadata": {},
     "output_type": "execute_result"
    },
    {
     "data": {
      "image/png": "[encoded data removed]",
      "text/plain": [
       "<Figure size 2160x576 with 1 Axes>"
      ]
     },
     "metadata": {
      "needs_background": "light"
     },
     "output_type": "display_data"
    }
   ],
   "source": [
    "data.boxplot(figsize=(30,8))"
   ]
  },
  {
   "cell_type": "code",
   "execution_count": 15,
   "metadata": {},
   "outputs": [],
   "source": [
    "#Fixing of Outlier"
   ]
  },
  {
   "cell_type": "code",
   "execution_count": 16,
   "metadata": {},
   "outputs": [],
   "source": [
    "data1 = data.drop('class',axis=1)"
   ]
  },
  {
   "cell_type": "code",
   "execution_count": 17,
   "metadata": {},
   "outputs": [],
   "source": [
    "#outlier Treatment\n",
    "Q1 = data1.quantile(0.25)\n",
    "Q3 = data1.quantile(0.75)\n",
    "IQR = Q3 - Q1"
   ]
  },
  {
   "cell_type": "code",
   "execution_count": 18,
   "metadata": {},
   "outputs": [],
   "source": [
    "lower_limit = Q1 - 1.5*IQR\n",
    "upper_limit = Q3 + 1.5*IQR"
   ]
  },
  {
   "cell_type": "code",
   "execution_count": 19,
   "metadata": {},
   "outputs": [],
   "source": [
    "dataclean = data1[(data1>lower_limit)&(data1<upper_limit)]"
   ]
  },
  {
   "cell_type": "code",
   "execution_count": 20,
   "metadata": {},
   "outputs": [
    {
     "data": {
      "text/plain": [
       "<matplotlib.axes._subplots.AxesSubplot at 0x16a8bcdac70>"
      ]
     },
     "execution_count": 20,
     "metadata": {},
     "output_type": "execute_result"
    },
    {
     "data": {
      "image/png": "[encoded data removed]",
      "text/plain": [
       "<Figure size 2160x576 with 1 Axes>"
      ]
     },
     "metadata": {
      "needs_background": "light"
     },
     "output_type": "display_data"
    }
   ],
   "source": [
    "dataclean.boxplot(figsize=(30,8))"
   ]
  },
  {
   "cell_type": "code",
   "execution_count": 21,
   "metadata": {},
   "outputs": [],
   "source": [
    "target = data[\"class\"]\n",
    "final = dataclean.join(target)"
   ]
  },
  {
   "cell_type": "code",
   "execution_count": 22,
   "metadata": {},
   "outputs": [
    {
     "name": "stdout",
     "output_type": "stream",
     "text": [
      "<class 'pandas.core.frame.DataFrame'>\n",
      "RangeIndex: 1371 entries, 0 to 1370\n",
      "Data columns (total 5 columns):\n",
      " #   Column  Non-Null Count  Dtype  \n",
      "---  ------  --------------  -----  \n",
      " 0   VOWTI   1371 non-null   float64\n",
      " 1   SOWTI   1371 non-null   float64\n",
      " 2   KOWTI   1311 non-null   float64\n",
      " 3   EOI     1338 non-null   float64\n",
      " 4   class   1371 non-null   int64  \n",
      "dtypes: float64(4), int64(1)\n",
      "memory usage: 53.7 KB\n"
     ]
    }
   ],
   "source": [
    "final.info()"
   ]
  },
  {
   "cell_type": "code",
   "execution_count": 23,
   "metadata": {},
   "outputs": [],
   "source": [
    "#making model"
   ]
  },
  {
   "cell_type": "code",
   "execution_count": 24,
   "metadata": {},
   "outputs": [],
   "source": [
    "X = final.drop(columns='class',axis=1)\n",
    "Y = final.iloc[:,-1:]"
   ]
  },
  {
   "cell_type": "code",
   "execution_count": 25,
   "metadata": {},
   "outputs": [],
   "source": [
    "#X = data1.drop(['class'],axis=1)\n",
    "#Y = data1['class']"
   ]
  },
  {
   "cell_type": "code",
   "execution_count": 26,
   "metadata": {},
   "outputs": [
    {
     "data": {
      "text/plain": [
       "((1371, 4), (1371, 1))"
      ]
     },
     "execution_count": 26,
     "metadata": {},
     "output_type": "execute_result"
    }
   ],
   "source": [
    "X.shape,Y.shape"
   ]
  },
  {
   "cell_type": "code",
   "execution_count": 27,
   "metadata": {},
   "outputs": [],
   "source": [
    "from sklearn.model_selection import train_test_split\n",
    "x_train, x_test, y_train, y_test = train_test_split(X,Y, test_size=0.2)"
   ]
  },
  {
   "cell_type": "code",
   "execution_count": 28,
   "metadata": {},
   "outputs": [
    {
     "data": {
      "text/plain": [
       "((1096, 4), (275, 4), (1096, 1), (275, 1))"
      ]
     },
     "execution_count": 28,
     "metadata": {},
     "output_type": "execute_result"
    }
   ],
   "source": [
    "x_train.shape, x_test.shape, y_train.shape, y_test.shape"
   ]
  },
  {
   "cell_type": "code",
   "execution_count": 29,
   "metadata": {},
   "outputs": [],
   "source": [
    "#setting Hyper-parameters"
   ]
  },
  {
   "cell_type": "code",
   "execution_count": 30,
   "metadata": {},
   "outputs": [],
   "source": [
    "params={\n",
    "    \"n_estimators\"  : [100,200,300],\n",
    "    \"max_depth\"     : [4,6,8,10],\n",
    "    \"learning_rate\"  : [0.05, 0.10, 0.15, 0.20, 0.25, 0.30],\n",
    " \"min_child_weight\" : [ 1, 3, 5, 7],\n",
    " \"gamma\"            : [ 0.0, 0.1, 0.2 , 0.3, 0.4 ],\n",
    " \"colsample_bytree\" : [ 0.3, 0.4, 0.5 , 0.7 ]   \n",
    "}"
   ]
  },
  {
   "cell_type": "code",
   "execution_count": 31,
   "metadata": {},
   "outputs": [],
   "source": [
    "from sklearn.model_selection import RandomizedSearchCV\n",
    "from xgboost import XGBClassifier"
   ]
  },
  {
   "cell_type": "code",
   "execution_count": 32,
   "metadata": {},
   "outputs": [],
   "source": [
    "classifier=XGBClassifier()"
   ]
  },
  {
   "cell_type": "code",
   "execution_count": 33,
   "metadata": {},
   "outputs": [],
   "source": [
    "random_search=RandomizedSearchCV(classifier,param_distributions=params)"
   ]
  },
  {
   "cell_type": "code",
   "execution_count": 34,
   "metadata": {},
   "outputs": [
    {
     "name": "stderr",
     "output_type": "stream",
     "text": [
      "C:\\Users\\Shaurya\\anaconda3\\lib\\site-packages\\sklearn\\utils\\validation.py:73: DataConversionWarning: A column-vector y was passed when a 1d array was expected. Please change the shape of y to (n_samples, ), for example using ravel().\n",
      "  return f(**kwargs)\n"
     ]
    },
    {
     "data": {
      "text/plain": [
       "RandomizedSearchCV(estimator=XGBClassifier(base_score=None, booster=None,\n",
       "                                           colsample_bylevel=None,\n",
       "                                           colsample_bynode=None,\n",
       "                                           colsample_bytree=None, gamma=None,\n",
       "                                           gpu_id=None, importance_type='gain',\n",
       "                                           interaction_constraints=None,\n",
       "                                           learning_rate=None,\n",
       "                                           max_delta_step=None, max_depth=None,\n",
       "                                           min_child_weight=None, missing=nan,\n",
       "                                           monotone_constraints=None,\n",
       "                                           n_estimators=100, n_job...\n",
       "                                           random_state=None, reg_alpha=None,\n",
       "                                           reg_lambda=None,\n",
       "                                           scale_pos_weight=None,\n",
       "                                           subsample=None, tree_method=None,\n",
       "                                           validate_parameters=None,\n",
       "                                           verbosity=None),\n",
       "                   param_distributions={'colsample_bytree': [0.3, 0.4, 0.5,\n",
       "                                                             0.7],\n",
       "                                        'gamma': [0.0, 0.1, 0.2, 0.3, 0.4],\n",
       "                                        'learning_rate': [0.05, 0.1, 0.15, 0.2,\n",
       "                                                          0.25, 0.3],\n",
       "                                        'max_depth': [4, 6, 8, 10],\n",
       "                                        'min_child_weight': [1, 3, 5, 7],\n",
       "                                        'n_estimators': [100, 200, 300]})"
      ]
     },
     "execution_count": 34,
     "metadata": {},
     "output_type": "execute_result"
    }
   ],
   "source": [
    "random_search.fit(x_train,y_train)"
   ]
  },
  {
   "cell_type": "code",
   "execution_count": 35,
   "metadata": {},
   "outputs": [
    {
     "data": {
      "text/plain": [
       "XGBClassifier(base_score=0.5, booster='gbtree', colsample_bylevel=1,\n",
       "              colsample_bynode=1, colsample_bytree=0.5, gamma=0.0, gpu_id=-1,\n",
       "              importance_type='gain', interaction_constraints='',\n",
       "              learning_rate=0.1, max_delta_step=0, max_depth=6,\n",
       "              min_child_weight=1, missing=nan, monotone_constraints='()',\n",
       "              n_estimators=200, n_jobs=0, num_parallel_tree=1, random_state=0,\n",
       "              reg_alpha=0, reg_lambda=1, scale_pos_weight=1, subsample=1,\n",
       "              tree_method='exact', validate_parameters=1, verbosity=None)"
      ]
     },
     "execution_count": 35,
     "metadata": {},
     "output_type": "execute_result"
    }
   ],
   "source": [
    "random_search.best_estimator_"
   ]
  },
  {
   "cell_type": "code",
   "execution_count": 36,
   "metadata": {},
   "outputs": [
    {
     "data": {
      "text/plain": [
       "{'n_estimators': 200,\n",
       " 'min_child_weight': 1,\n",
       " 'max_depth': 6,\n",
       " 'learning_rate': 0.1,\n",
       " 'gamma': 0.0,\n",
       " 'colsample_bytree': 0.5}"
      ]
     },
     "execution_count": 36,
     "metadata": {},
     "output_type": "execute_result"
    }
   ],
   "source": [
    "random_search.best_params_"
   ]
  },
  {
   "cell_type": "code",
   "execution_count": 38,
   "metadata": {},
   "outputs": [],
   "source": [
    "#applying best variables"
   ]
  },
  {
   "cell_type": "code",
   "execution_count": 37,
   "metadata": {},
   "outputs": [],
   "source": [
    "classifier=XGBClassifier(\n",
    "n_estimators=200,\n",
    "min_child_weight=1, \n",
    "max_depth=6, \n",
    "learning_rate=0.1,\n",
    "gamma=0.0, \n",
    "colsample_bytree=0.5)"
   ]
  },
  {
   "cell_type": "code",
   "execution_count": 38,
   "metadata": {},
   "outputs": [
    {
     "name": "stdout",
     "output_type": "stream",
     "text": [
      "[0]\tvalidation_0-error:0.07208\tvalidation_0-logloss:0.62108\tvalidation_1-error:0.12000\tvalidation_1-logloss:0.62969\n",
      "[1]\tvalidation_0-error:0.06387\tvalidation_0-logloss:0.56140\tvalidation_1-error:0.11273\tvalidation_1-logloss:0.57717\n",
      "[2]\tvalidation_0-error:0.05201\tvalidation_0-logloss:0.54129\tvalidation_1-error:0.10909\tvalidation_1-logloss:0.56091\n",
      "[3]\tvalidation_0-error:0.04745\tvalidation_0-logloss:0.52437\tvalidation_1-error:0.11273\tvalidation_1-logloss:0.54691\n",
      "[4]\tvalidation_0-error:0.04745\tvalidation_0-logloss:0.47741\tvalidation_1-error:0.09455\tvalidation_1-logloss:0.50662\n",
      "[5]\tvalidation_0-error:0.04836\tvalidation_0-logloss:0.43746\tvalidation_1-error:0.09818\tvalidation_1-logloss:0.47217\n",
      "[6]\tvalidation_0-error:0.04836\tvalidation_0-logloss:0.40310\tvalidation_1-error:0.10545\tvalidation_1-logloss:0.44237\n",
      "[7]\tvalidation_0-error:0.04288\tvalidation_0-logloss:0.39251\tvalidation_1-error:0.09818\tvalidation_1-logloss:0.43477\n",
      "[8]\tvalidation_0-error:0.03558\tvalidation_0-logloss:0.35779\tvalidation_1-error:0.08000\tvalidation_1-logloss:0.39975\n",
      "[9]\tvalidation_0-error:0.02464\tvalidation_0-logloss:0.32950\tvalidation_1-error:0.08364\tvalidation_1-logloss:0.37273\n",
      "[10]\tvalidation_0-error:0.02372\tvalidation_0-logloss:0.30382\tvalidation_1-error:0.07636\tvalidation_1-logloss:0.34912\n",
      "[11]\tvalidation_0-error:0.01551\tvalidation_0-logloss:0.28070\tvalidation_1-error:0.05818\tvalidation_1-logloss:0.32520\n",
      "[12]\tvalidation_0-error:0.01460\tvalidation_0-logloss:0.26027\tvalidation_1-error:0.05455\tvalidation_1-logloss:0.30539\n",
      "[13]\tvalidation_0-error:0.01004\tvalidation_0-logloss:0.24169\tvalidation_1-error:0.04364\tvalidation_1-logloss:0.28646\n",
      "[14]\tvalidation_0-error:0.00912\tvalidation_0-logloss:0.22508\tvalidation_1-error:0.04364\tvalidation_1-logloss:0.27096\n",
      "[15]\tvalidation_0-error:0.00639\tvalidation_0-logloss:0.21037\tvalidation_1-error:0.03636\tvalidation_1-logloss:0.25786\n",
      "[16]\tvalidation_0-error:0.00730\tvalidation_0-logloss:0.19688\tvalidation_1-error:0.04364\tvalidation_1-logloss:0.24587\n",
      "[17]\tvalidation_0-error:0.00547\tvalidation_0-logloss:0.18494\tvalidation_1-error:0.02909\tvalidation_1-logloss:0.23528\n",
      "[18]\tvalidation_0-error:0.00274\tvalidation_0-logloss:0.17297\tvalidation_1-error:0.02909\tvalidation_1-logloss:0.22215\n",
      "[19]\tvalidation_0-error:0.00274\tvalidation_0-logloss:0.16934\tvalidation_1-error:0.02909\tvalidation_1-logloss:0.21842\n",
      "[20]\tvalidation_0-error:0.00183\tvalidation_0-logloss:0.15910\tvalidation_1-error:0.02182\tvalidation_1-logloss:0.20735\n",
      "[21]\tvalidation_0-error:0.00183\tvalidation_0-logloss:0.15008\tvalidation_1-error:0.01455\tvalidation_1-logloss:0.19731\n",
      "[22]\tvalidation_0-error:0.00183\tvalidation_0-logloss:0.13905\tvalidation_1-error:0.01818\tvalidation_1-logloss:0.18638\n",
      "[23]\tvalidation_0-error:0.00183\tvalidation_0-logloss:0.13178\tvalidation_1-error:0.01818\tvalidation_1-logloss:0.17985\n",
      "[24]\tvalidation_0-error:0.00183\tvalidation_0-logloss:0.12408\tvalidation_1-error:0.02182\tvalidation_1-logloss:0.17247\n",
      "[25]\tvalidation_0-error:0.00183\tvalidation_0-logloss:0.11754\tvalidation_1-error:0.01455\tvalidation_1-logloss:0.16514\n",
      "[26]\tvalidation_0-error:0.00183\tvalidation_0-logloss:0.10953\tvalidation_1-error:0.01455\tvalidation_1-logloss:0.15681\n",
      "[27]\tvalidation_0-error:0.00183\tvalidation_0-logloss:0.10732\tvalidation_1-error:0.01455\tvalidation_1-logloss:0.15469\n",
      "[28]\tvalidation_0-error:0.00091\tvalidation_0-logloss:0.10513\tvalidation_1-error:0.01455\tvalidation_1-logloss:0.15208\n",
      "[29]\tvalidation_0-error:0.00091\tvalidation_0-logloss:0.09988\tvalidation_1-error:0.01455\tvalidation_1-logloss:0.14564\n",
      "[30]\tvalidation_0-error:0.00091\tvalidation_0-logloss:0.09347\tvalidation_1-error:0.01091\tvalidation_1-logloss:0.13935\n",
      "[31]\tvalidation_0-error:0.00091\tvalidation_0-logloss:0.08909\tvalidation_1-error:0.01091\tvalidation_1-logloss:0.13406\n",
      "[32]\tvalidation_0-error:0.00091\tvalidation_0-logloss:0.08780\tvalidation_1-error:0.01091\tvalidation_1-logloss:0.13260\n",
      "[33]\tvalidation_0-error:0.00091\tvalidation_0-logloss:0.08397\tvalidation_1-error:0.01091\tvalidation_1-logloss:0.12785\n",
      "[34]\tvalidation_0-error:0.00091\tvalidation_0-logloss:0.08054\tvalidation_1-error:0.01091\tvalidation_1-logloss:0.12322\n",
      "[35]\tvalidation_0-error:0.00091\tvalidation_0-logloss:0.07691\tvalidation_1-error:0.01091\tvalidation_1-logloss:0.12016\n",
      "[36]\tvalidation_0-error:0.00091\tvalidation_0-logloss:0.07235\tvalidation_1-error:0.01091\tvalidation_1-logloss:0.11536\n",
      "[37]\tvalidation_0-error:0.00091\tvalidation_0-logloss:0.06948\tvalidation_1-error:0.01091\tvalidation_1-logloss:0.11179\n",
      "[38]\tvalidation_0-error:0.00091\tvalidation_0-logloss:0.06850\tvalidation_1-error:0.01091\tvalidation_1-logloss:0.11030\n",
      "[39]\tvalidation_0-error:0.00091\tvalidation_0-logloss:0.06564\tvalidation_1-error:0.01091\tvalidation_1-logloss:0.10817\n",
      "[40]\tvalidation_0-error:0.00091\tvalidation_0-logloss:0.06179\tvalidation_1-error:0.01091\tvalidation_1-logloss:0.10428\n",
      "[41]\tvalidation_0-error:0.00091\tvalidation_0-logloss:0.05940\tvalidation_1-error:0.01091\tvalidation_1-logloss:0.10241\n",
      "[42]\tvalidation_0-error:0.00091\tvalidation_0-logloss:0.05724\tvalidation_1-error:0.01091\tvalidation_1-logloss:0.10083\n",
      "[43]\tvalidation_0-error:0.00091\tvalidation_0-logloss:0.05407\tvalidation_1-error:0.01091\tvalidation_1-logloss:0.09742\n",
      "[44]\tvalidation_0-error:0.00091\tvalidation_0-logloss:0.05097\tvalidation_1-error:0.01091\tvalidation_1-logloss:0.09298\n",
      "[45]\tvalidation_0-error:0.00091\tvalidation_0-logloss:0.04813\tvalidation_1-error:0.01091\tvalidation_1-logloss:0.08953\n",
      "[46]\tvalidation_0-error:0.00091\tvalidation_0-logloss:0.04583\tvalidation_1-error:0.01091\tvalidation_1-logloss:0.08690\n",
      "[47]\tvalidation_0-error:0.00091\tvalidation_0-logloss:0.04509\tvalidation_1-error:0.01091\tvalidation_1-logloss:0.08559\n",
      "[48]\tvalidation_0-error:0.00091\tvalidation_0-logloss:0.04285\tvalidation_1-error:0.01091\tvalidation_1-logloss:0.08241\n",
      "[49]\tvalidation_0-error:0.00091\tvalidation_0-logloss:0.04160\tvalidation_1-error:0.01091\tvalidation_1-logloss:0.08119\n",
      "[50]\tvalidation_0-error:0.00091\tvalidation_0-logloss:0.04011\tvalidation_1-error:0.01091\tvalidation_1-logloss:0.07869\n",
      "[51]\tvalidation_0-error:0.00091\tvalidation_0-logloss:0.03954\tvalidation_1-error:0.01091\tvalidation_1-logloss:0.07785\n",
      "[52]\tvalidation_0-error:0.00091\tvalidation_0-logloss:0.03751\tvalidation_1-error:0.01091\tvalidation_1-logloss:0.07538\n",
      "[53]\tvalidation_0-error:0.00000\tvalidation_0-logloss:0.03627\tvalidation_1-error:0.01091\tvalidation_1-logloss:0.07343\n",
      "[54]\tvalidation_0-error:0.00000\tvalidation_0-logloss:0.03455\tvalidation_1-error:0.01091\tvalidation_1-logloss:0.07149\n",
      "[55]\tvalidation_0-error:0.00000\tvalidation_0-logloss:0.03314\tvalidation_1-error:0.01091\tvalidation_1-logloss:0.06993\n",
      "[56]\tvalidation_0-error:0.00091\tvalidation_0-logloss:0.03182\tvalidation_1-error:0.01091\tvalidation_1-logloss:0.06847\n",
      "[57]\tvalidation_0-error:0.00091\tvalidation_0-logloss:0.03137\tvalidation_1-error:0.01091\tvalidation_1-logloss:0.06744\n",
      "[58]\tvalidation_0-error:0.00091\tvalidation_0-logloss:0.03019\tvalidation_1-error:0.01091\tvalidation_1-logloss:0.06612\n",
      "[59]\tvalidation_0-error:0.00091\tvalidation_0-logloss:0.02894\tvalidation_1-error:0.01091\tvalidation_1-logloss:0.06474\n",
      "[60]\tvalidation_0-error:0.00091\tvalidation_0-logloss:0.02782\tvalidation_1-error:0.01091\tvalidation_1-logloss:0.06353\n",
      "[61]\tvalidation_0-error:0.00091\tvalidation_0-logloss:0.02706\tvalidation_1-error:0.01091\tvalidation_1-logloss:0.06256\n",
      "[62]\tvalidation_0-error:0.00000\tvalidation_0-logloss:0.02668\tvalidation_1-error:0.01091\tvalidation_1-logloss:0.06173\n",
      "[63]\tvalidation_0-error:0.00000\tvalidation_0-logloss:0.02555\tvalidation_1-error:0.01091\tvalidation_1-logloss:0.06030\n",
      "[64]\tvalidation_0-error:0.00000\tvalidation_0-logloss:0.02524\tvalidation_1-error:0.01091\tvalidation_1-logloss:0.05962\n",
      "[65]\tvalidation_0-error:0.00000\tvalidation_0-logloss:0.02447\tvalidation_1-error:0.01091\tvalidation_1-logloss:0.05809\n",
      "[66]\tvalidation_0-error:0.00000\tvalidation_0-logloss:0.02356\tvalidation_1-error:0.01091\tvalidation_1-logloss:0.05716\n",
      "[67]\tvalidation_0-error:0.00000\tvalidation_0-logloss:0.02281\tvalidation_1-error:0.01091\tvalidation_1-logloss:0.05653\n",
      "[68]\tvalidation_0-error:0.00000\tvalidation_0-logloss:0.02205\tvalidation_1-error:0.01091\tvalidation_1-logloss:0.05593\n",
      "[69]\tvalidation_0-error:0.00000\tvalidation_0-logloss:0.02152\tvalidation_1-error:0.01091\tvalidation_1-logloss:0.05539\n",
      "[70]\tvalidation_0-error:0.00000\tvalidation_0-logloss:0.02126\tvalidation_1-error:0.01091\tvalidation_1-logloss:0.05453\n",
      "[71]\tvalidation_0-error:0.00000\tvalidation_0-logloss:0.02102\tvalidation_1-error:0.01091\tvalidation_1-logloss:0.05377\n",
      "[72]\tvalidation_0-error:0.00000\tvalidation_0-logloss:0.02083\tvalidation_1-error:0.01091\tvalidation_1-logloss:0.05329\n",
      "[73]\tvalidation_0-error:0.00000\tvalidation_0-logloss:0.02023\tvalidation_1-error:0.01091\tvalidation_1-logloss:0.05210\n",
      "[74]\tvalidation_0-error:0.00000\tvalidation_0-logloss:0.01955\tvalidation_1-error:0.01091\tvalidation_1-logloss:0.05156\n",
      "[75]\tvalidation_0-error:0.00000\tvalidation_0-logloss:0.01892\tvalidation_1-error:0.01091\tvalidation_1-logloss:0.05085\n",
      "[76]\tvalidation_0-error:0.00000\tvalidation_0-logloss:0.01874\tvalidation_1-error:0.01091\tvalidation_1-logloss:0.05019\n",
      "[77]\tvalidation_0-error:0.00000\tvalidation_0-logloss:0.01833\tvalidation_1-error:0.01091\tvalidation_1-logloss:0.04983\n",
      "[78]\tvalidation_0-error:0.00000\tvalidation_0-logloss:0.01771\tvalidation_1-error:0.01091\tvalidation_1-logloss:0.04878\n",
      "[79]\tvalidation_0-error:0.00000\tvalidation_0-logloss:0.01719\tvalidation_1-error:0.01091\tvalidation_1-logloss:0.04829\n",
      "[80]\tvalidation_0-error:0.00000\tvalidation_0-logloss:0.01673\tvalidation_1-error:0.01091\tvalidation_1-logloss:0.04724\n",
      "[81]\tvalidation_0-error:0.00000\tvalidation_0-logloss:0.01624\tvalidation_1-error:0.01091\tvalidation_1-logloss:0.04674\n",
      "[82]\tvalidation_0-error:0.00000\tvalidation_0-logloss:0.01578\tvalidation_1-error:0.01091\tvalidation_1-logloss:0.04570\n",
      "[83]\tvalidation_0-error:0.00000\tvalidation_0-logloss:0.01565\tvalidation_1-error:0.01091\tvalidation_1-logloss:0.04518\n",
      "[84]\tvalidation_0-error:0.00000\tvalidation_0-logloss:0.01519\tvalidation_1-error:0.01091\tvalidation_1-logloss:0.04431\n",
      "[85]\tvalidation_0-error:0.00000\tvalidation_0-logloss:0.01479\tvalidation_1-error:0.01091\tvalidation_1-logloss:0.04398\n",
      "[86]\tvalidation_0-error:0.00000\tvalidation_0-logloss:0.01445\tvalidation_1-error:0.01091\tvalidation_1-logloss:0.04316\n",
      "[87]\tvalidation_0-error:0.00000\tvalidation_0-logloss:0.01406\tvalidation_1-error:0.01091\tvalidation_1-logloss:0.04238\n",
      "[88]\tvalidation_0-error:0.00000\tvalidation_0-logloss:0.01371\tvalidation_1-error:0.01091\tvalidation_1-logloss:0.04155\n",
      "[89]\tvalidation_0-error:0.00000\tvalidation_0-logloss:0.01337\tvalidation_1-error:0.01091\tvalidation_1-logloss:0.04143\n",
      "[90]\tvalidation_0-error:0.00000\tvalidation_0-logloss:0.01327\tvalidation_1-error:0.01091\tvalidation_1-logloss:0.04097\n",
      "[91]\tvalidation_0-error:0.00000\tvalidation_0-logloss:0.01294\tvalidation_1-error:0.01091\tvalidation_1-logloss:0.04082\n",
      "[92]\tvalidation_0-error:0.00000\tvalidation_0-logloss:0.01285\tvalidation_1-error:0.01091\tvalidation_1-logloss:0.04039\n",
      "[93]\tvalidation_0-error:0.00000\tvalidation_0-logloss:0.01254\tvalidation_1-error:0.01091\tvalidation_1-logloss:0.04003\n",
      "[94]\tvalidation_0-error:0.00000\tvalidation_0-logloss:0.01225\tvalidation_1-error:0.01091\tvalidation_1-logloss:0.03935\n",
      "[95]\tvalidation_0-error:0.00000\tvalidation_0-logloss:0.01203\tvalidation_1-error:0.01091\tvalidation_1-logloss:0.03913\n",
      "[96]\tvalidation_0-error:0.00000\tvalidation_0-logloss:0.01172\tvalidation_1-error:0.01091\tvalidation_1-logloss:0.03879\n",
      "[97]\tvalidation_0-error:0.00000\tvalidation_0-logloss:0.01165\tvalidation_1-error:0.01091\tvalidation_1-logloss:0.03846\n",
      "[98]\tvalidation_0-error:0.00000\tvalidation_0-logloss:0.01139\tvalidation_1-error:0.01091\tvalidation_1-logloss:0.03832\n",
      "[99]\tvalidation_0-error:0.00000\tvalidation_0-logloss:0.01114\tvalidation_1-error:0.00727\tvalidation_1-logloss:0.03815\n",
      "[100]\tvalidation_0-error:0.00000\tvalidation_0-logloss:0.01088\tvalidation_1-error:0.00727\tvalidation_1-logloss:0.03763\n",
      "[101]\tvalidation_0-error:0.00000\tvalidation_0-logloss:0.01067\tvalidation_1-error:0.00727\tvalidation_1-logloss:0.03745\n",
      "[102]\tvalidation_0-error:0.00000\tvalidation_0-logloss:0.01049\tvalidation_1-error:0.01091\tvalidation_1-logloss:0.03727\n",
      "[103]\tvalidation_0-error:0.00000\tvalidation_0-logloss:0.01026\tvalidation_1-error:0.00727\tvalidation_1-logloss:0.03700\n",
      "[104]\tvalidation_0-error:0.00000\tvalidation_0-logloss:0.01008\tvalidation_1-error:0.01091\tvalidation_1-logloss:0.03703\n",
      "[105]\tvalidation_0-error:0.00000\tvalidation_0-logloss:0.00991\tvalidation_1-error:0.01091\tvalidation_1-logloss:0.03691\n",
      "[106]\tvalidation_0-error:0.00000\tvalidation_0-logloss:0.00984\tvalidation_1-error:0.01091\tvalidation_1-logloss:0.03655\n",
      "[107]\tvalidation_0-error:0.00000\tvalidation_0-logloss:0.00962\tvalidation_1-error:0.00727\tvalidation_1-logloss:0.03598\n",
      "[108]\tvalidation_0-error:0.00000\tvalidation_0-logloss:0.00942\tvalidation_1-error:0.00727\tvalidation_1-logloss:0.03546\n",
      "[109]\tvalidation_0-error:0.00000\tvalidation_0-logloss:0.00936\tvalidation_1-error:0.00727\tvalidation_1-logloss:0.03522\n",
      "[110]\tvalidation_0-error:0.00000\tvalidation_0-logloss:0.00924\tvalidation_1-error:0.00727\tvalidation_1-logloss:0.03501\n",
      "[111]\tvalidation_0-error:0.00000\tvalidation_0-logloss:0.00903\tvalidation_1-error:0.00727\tvalidation_1-logloss:0.03473\n",
      "[112]\tvalidation_0-error:0.00000\tvalidation_0-logloss:0.00887\tvalidation_1-error:0.00727\tvalidation_1-logloss:0.03432\n",
      "[113]\tvalidation_0-error:0.00000\tvalidation_0-logloss:0.00871\tvalidation_1-error:0.00727\tvalidation_1-logloss:0.03411\n",
      "[114]\tvalidation_0-error:0.00000\tvalidation_0-logloss:0.00861\tvalidation_1-error:0.00727\tvalidation_1-logloss:0.03392\n",
      "[115]\tvalidation_0-error:0.00000\tvalidation_0-logloss:0.00848\tvalidation_1-error:0.00727\tvalidation_1-logloss:0.03379\n",
      "[116]\tvalidation_0-error:0.00000\tvalidation_0-logloss:0.00833\tvalidation_1-error:0.00727\tvalidation_1-logloss:0.03386\n",
      "[117]\tvalidation_0-error:0.00000\tvalidation_0-logloss:0.00828\tvalidation_1-error:0.00727\tvalidation_1-logloss:0.03364\n",
      "[118]\tvalidation_0-error:0.00000\tvalidation_0-logloss:0.00813\tvalidation_1-error:0.00727\tvalidation_1-logloss:0.03353\n",
      "[119]\tvalidation_0-error:0.00000\tvalidation_0-logloss:0.00801\tvalidation_1-error:0.00727\tvalidation_1-logloss:0.03339\n",
      "[120]\tvalidation_0-error:0.00000\tvalidation_0-logloss:0.00790\tvalidation_1-error:0.00727\tvalidation_1-logloss:0.03322\n",
      "[121]\tvalidation_0-error:0.00000\tvalidation_0-logloss:0.00781\tvalidation_1-error:0.00727\tvalidation_1-logloss:0.03315\n",
      "[122]\tvalidation_0-error:0.00000\tvalidation_0-logloss:0.00766\tvalidation_1-error:0.00727\tvalidation_1-logloss:0.03264\n",
      "[123]\tvalidation_0-error:0.00000\tvalidation_0-logloss:0.00756\tvalidation_1-error:0.00727\tvalidation_1-logloss:0.03266\n",
      "[124]\tvalidation_0-error:0.00000\tvalidation_0-logloss:0.00748\tvalidation_1-error:0.00727\tvalidation_1-logloss:0.03262\n",
      "[125]\tvalidation_0-error:0.00000\tvalidation_0-logloss:0.00743\tvalidation_1-error:0.00727\tvalidation_1-logloss:0.03241\n",
      "[126]\tvalidation_0-error:0.00000\tvalidation_0-logloss:0.00739\tvalidation_1-error:0.00727\tvalidation_1-logloss:0.03216\n",
      "[127]\tvalidation_0-error:0.00000\tvalidation_0-logloss:0.00728\tvalidation_1-error:0.00727\tvalidation_1-logloss:0.03212\n",
      "[128]\tvalidation_0-error:0.00000\tvalidation_0-logloss:0.00720\tvalidation_1-error:0.00727\tvalidation_1-logloss:0.03212\n",
      "[129]\tvalidation_0-error:0.00000\tvalidation_0-logloss:0.00715\tvalidation_1-error:0.00727\tvalidation_1-logloss:0.03188\n",
      "[130]\tvalidation_0-error:0.00000\tvalidation_0-logloss:0.00711\tvalidation_1-error:0.00727\tvalidation_1-logloss:0.03154\n",
      "[131]\tvalidation_0-error:0.00000\tvalidation_0-logloss:0.00704\tvalidation_1-error:0.00727\tvalidation_1-logloss:0.03151\n",
      "[132]\tvalidation_0-error:0.00000\tvalidation_0-logloss:0.00696\tvalidation_1-error:0.00727\tvalidation_1-logloss:0.03151\n",
      "[133]\tvalidation_0-error:0.00000\tvalidation_0-logloss:0.00690\tvalidation_1-error:0.00727\tvalidation_1-logloss:0.03158\n",
      "[134]\tvalidation_0-error:0.00000\tvalidation_0-logloss:0.00683\tvalidation_1-error:0.00727\tvalidation_1-logloss:0.03165\n",
      "[135]\tvalidation_0-error:0.00000\tvalidation_0-logloss:0.00676\tvalidation_1-error:0.00727\tvalidation_1-logloss:0.03162\n",
      "[136]\tvalidation_0-error:0.00000\tvalidation_0-logloss:0.00668\tvalidation_1-error:0.00727\tvalidation_1-logloss:0.03160\n",
      "[137]\tvalidation_0-error:0.00000\tvalidation_0-logloss:0.00662\tvalidation_1-error:0.00727\tvalidation_1-logloss:0.03159\n",
      "[138]\tvalidation_0-error:0.00000\tvalidation_0-logloss:0.00656\tvalidation_1-error:0.01091\tvalidation_1-logloss:0.03158\n",
      "[139]\tvalidation_0-error:0.00000\tvalidation_0-logloss:0.00645\tvalidation_1-error:0.00727\tvalidation_1-logloss:0.03115\n",
      "[140]\tvalidation_0-error:0.00000\tvalidation_0-logloss:0.00639\tvalidation_1-error:0.00727\tvalidation_1-logloss:0.03109\n",
      "[141]\tvalidation_0-error:0.00000\tvalidation_0-logloss:0.00632\tvalidation_1-error:0.00727\tvalidation_1-logloss:0.03108\n",
      "[142]\tvalidation_0-error:0.00000\tvalidation_0-logloss:0.00627\tvalidation_1-error:0.01091\tvalidation_1-logloss:0.03103\n",
      "[143]\tvalidation_0-error:0.00000\tvalidation_0-logloss:0.00617\tvalidation_1-error:0.00727\tvalidation_1-logloss:0.03064\n",
      "[144]\tvalidation_0-error:0.00000\tvalidation_0-logloss:0.00612\tvalidation_1-error:0.00727\tvalidation_1-logloss:0.03060\n",
      "[145]\tvalidation_0-error:0.00000\tvalidation_0-logloss:0.00608\tvalidation_1-error:0.01091\tvalidation_1-logloss:0.03061\n",
      "[146]\tvalidation_0-error:0.00000\tvalidation_0-logloss:0.00600\tvalidation_1-error:0.01091\tvalidation_1-logloss:0.03047\n",
      "[147]\tvalidation_0-error:0.00000\tvalidation_0-logloss:0.00592\tvalidation_1-error:0.00727\tvalidation_1-logloss:0.03007\n",
      "[148]\tvalidation_0-error:0.00000\tvalidation_0-logloss:0.00588\tvalidation_1-error:0.01091\tvalidation_1-logloss:0.03005\n",
      "[149]\tvalidation_0-error:0.00000\tvalidation_0-logloss:0.00581\tvalidation_1-error:0.00727\tvalidation_1-logloss:0.03004\n",
      "[150]\tvalidation_0-error:0.00000\tvalidation_0-logloss:0.00577\tvalidation_1-error:0.01091\tvalidation_1-logloss:0.03004\n",
      "[151]\tvalidation_0-error:0.00000\tvalidation_0-logloss:0.00573\tvalidation_1-error:0.01091\tvalidation_1-logloss:0.02990\n",
      "[152]\tvalidation_0-error:0.00000\tvalidation_0-logloss:0.00568\tvalidation_1-error:0.01091\tvalidation_1-logloss:0.02976\n",
      "[153]\tvalidation_0-error:0.00000\tvalidation_0-logloss:0.00565\tvalidation_1-error:0.01091\tvalidation_1-logloss:0.02976\n",
      "[154]\tvalidation_0-error:0.00000\tvalidation_0-logloss:0.00559\tvalidation_1-error:0.01091\tvalidation_1-logloss:0.02962\n",
      "[155]\tvalidation_0-error:0.00000\tvalidation_0-logloss:0.00554\tvalidation_1-error:0.01091\tvalidation_1-logloss:0.02937\n",
      "[156]\tvalidation_0-error:0.00000\tvalidation_0-logloss:0.00552\tvalidation_1-error:0.01091\tvalidation_1-logloss:0.02943\n",
      "[157]\tvalidation_0-error:0.00000\tvalidation_0-logloss:0.00548\tvalidation_1-error:0.01091\tvalidation_1-logloss:0.02919\n",
      "[158]\tvalidation_0-error:0.00000\tvalidation_0-logloss:0.00545\tvalidation_1-error:0.01091\tvalidation_1-logloss:0.02918\n",
      "[159]\tvalidation_0-error:0.00000\tvalidation_0-logloss:0.00541\tvalidation_1-error:0.01091\tvalidation_1-logloss:0.02917\n",
      "[160]\tvalidation_0-error:0.00000\tvalidation_0-logloss:0.00538\tvalidation_1-error:0.01091\tvalidation_1-logloss:0.02890\n",
      "[161]\tvalidation_0-error:0.00000\tvalidation_0-logloss:0.00535\tvalidation_1-error:0.00727\tvalidation_1-logloss:0.02870\n",
      "[162]\tvalidation_0-error:0.00000\tvalidation_0-logloss:0.00532\tvalidation_1-error:0.00727\tvalidation_1-logloss:0.02856\n",
      "[163]\tvalidation_0-error:0.00000\tvalidation_0-logloss:0.00524\tvalidation_1-error:0.00727\tvalidation_1-logloss:0.02824\n",
      "[164]\tvalidation_0-error:0.00000\tvalidation_0-logloss:0.00521\tvalidation_1-error:0.00727\tvalidation_1-logloss:0.02832\n",
      "[165]\tvalidation_0-error:0.00000\tvalidation_0-logloss:0.00519\tvalidation_1-error:0.00727\tvalidation_1-logloss:0.02808\n",
      "[166]\tvalidation_0-error:0.00000\tvalidation_0-logloss:0.00516\tvalidation_1-error:0.00727\tvalidation_1-logloss:0.02823\n",
      "[167]\tvalidation_0-error:0.00000\tvalidation_0-logloss:0.00511\tvalidation_1-error:0.00727\tvalidation_1-logloss:0.02805\n",
      "[168]\tvalidation_0-error:0.00000\tvalidation_0-logloss:0.00507\tvalidation_1-error:0.00727\tvalidation_1-logloss:0.02799\n",
      "[169]\tvalidation_0-error:0.00000\tvalidation_0-logloss:0.00503\tvalidation_1-error:0.00727\tvalidation_1-logloss:0.02792\n",
      "[170]\tvalidation_0-error:0.00000\tvalidation_0-logloss:0.00500\tvalidation_1-error:0.00727\tvalidation_1-logloss:0.02792\n",
      "[171]\tvalidation_0-error:0.00000\tvalidation_0-logloss:0.00498\tvalidation_1-error:0.00727\tvalidation_1-logloss:0.02782\n",
      "[172]\tvalidation_0-error:0.00000\tvalidation_0-logloss:0.00495\tvalidation_1-error:0.00727\tvalidation_1-logloss:0.02766\n",
      "[173]\tvalidation_0-error:0.00000\tvalidation_0-logloss:0.00492\tvalidation_1-error:0.00727\tvalidation_1-logloss:0.02766\n",
      "[174]\tvalidation_0-error:0.00000\tvalidation_0-logloss:0.00486\tvalidation_1-error:0.00727\tvalidation_1-logloss:0.02737\n",
      "[175]\tvalidation_0-error:0.00000\tvalidation_0-logloss:0.00484\tvalidation_1-error:0.00727\tvalidation_1-logloss:0.02727\n",
      "[176]\tvalidation_0-error:0.00000\tvalidation_0-logloss:0.00482\tvalidation_1-error:0.00727\tvalidation_1-logloss:0.02727\n",
      "[177]\tvalidation_0-error:0.00000\tvalidation_0-logloss:0.00478\tvalidation_1-error:0.00727\tvalidation_1-logloss:0.02715\n",
      "[178]\tvalidation_0-error:0.00000\tvalidation_0-logloss:0.00474\tvalidation_1-error:0.00727\tvalidation_1-logloss:0.02699\n",
      "[179]\tvalidation_0-error:0.00000\tvalidation_0-logloss:0.00471\tvalidation_1-error:0.00727\tvalidation_1-logloss:0.02703\n",
      "[180]\tvalidation_0-error:0.00000\tvalidation_0-logloss:0.00469\tvalidation_1-error:0.00727\tvalidation_1-logloss:0.02704\n",
      "[181]\tvalidation_0-error:0.00000\tvalidation_0-logloss:0.00467\tvalidation_1-error:0.00727\tvalidation_1-logloss:0.02717\n",
      "[182]\tvalidation_0-error:0.00000\tvalidation_0-logloss:0.00464\tvalidation_1-error:0.00727\tvalidation_1-logloss:0.02711\n",
      "[183]\tvalidation_0-error:0.00000\tvalidation_0-logloss:0.00462\tvalidation_1-error:0.00727\tvalidation_1-logloss:0.02702\n",
      "[184]\tvalidation_0-error:0.00000\tvalidation_0-logloss:0.00458\tvalidation_1-error:0.00727\tvalidation_1-logloss:0.02702\n",
      "[185]\tvalidation_0-error:0.00000\tvalidation_0-logloss:0.00456\tvalidation_1-error:0.00727\tvalidation_1-logloss:0.02687\n",
      "[186]\tvalidation_0-error:0.00000\tvalidation_0-logloss:0.00454\tvalidation_1-error:0.00727\tvalidation_1-logloss:0.02686\n",
      "[187]\tvalidation_0-error:0.00000\tvalidation_0-logloss:0.00452\tvalidation_1-error:0.00727\tvalidation_1-logloss:0.02678\n",
      "[188]\tvalidation_0-error:0.00000\tvalidation_0-logloss:0.00451\tvalidation_1-error:0.00727\tvalidation_1-logloss:0.02671\n",
      "[189]\tvalidation_0-error:0.00000\tvalidation_0-logloss:0.00447\tvalidation_1-error:0.00727\tvalidation_1-logloss:0.02672\n",
      "[190]\tvalidation_0-error:0.00000\tvalidation_0-logloss:0.00445\tvalidation_1-error:0.00727\tvalidation_1-logloss:0.02673\n",
      "[191]\tvalidation_0-error:0.00000\tvalidation_0-logloss:0.00442\tvalidation_1-error:0.00727\tvalidation_1-logloss:0.02658\n",
      "[192]\tvalidation_0-error:0.00000\tvalidation_0-logloss:0.00439\tvalidation_1-error:0.00727\tvalidation_1-logloss:0.02659\n",
      "[193]\tvalidation_0-error:0.00000\tvalidation_0-logloss:0.00436\tvalidation_1-error:0.00727\tvalidation_1-logloss:0.02659\n",
      "[194]\tvalidation_0-error:0.00000\tvalidation_0-logloss:0.00432\tvalidation_1-error:0.00727\tvalidation_1-logloss:0.02643\n",
      "[195]\tvalidation_0-error:0.00000\tvalidation_0-logloss:0.00429\tvalidation_1-error:0.00727\tvalidation_1-logloss:0.02625\n",
      "[196]\tvalidation_0-error:0.00000\tvalidation_0-logloss:0.00428\tvalidation_1-error:0.00727\tvalidation_1-logloss:0.02613\n",
      "[197]\tvalidation_0-error:0.00000\tvalidation_0-logloss:0.00426\tvalidation_1-error:0.00727\tvalidation_1-logloss:0.02603\n",
      "[198]\tvalidation_0-error:0.00000\tvalidation_0-logloss:0.00424\tvalidation_1-error:0.00727\tvalidation_1-logloss:0.02611\n",
      "[199]\tvalidation_0-error:0.00000\tvalidation_0-logloss:0.00423\tvalidation_1-error:0.00727\tvalidation_1-logloss:0.02616\n"
     ]
    },
    {
     "data": {
      "text/plain": [
       "XGBClassifier(base_score=0.5, booster='gbtree', colsample_bylevel=1,\n",
       "              colsample_bynode=1, colsample_bytree=0.5, gamma=0.0, gpu_id=-1,\n",
       "              importance_type='gain', interaction_constraints='',\n",
       "              learning_rate=0.1, max_delta_step=0, max_depth=6,\n",
       "              min_child_weight=1, missing=nan, monotone_constraints='()',\n",
       "              n_estimators=200, n_jobs=0, num_parallel_tree=1, random_state=0,\n",
       "              reg_alpha=0, reg_lambda=1, scale_pos_weight=1, subsample=1,\n",
       "              tree_method='exact', validate_parameters=1, verbosity=None)"
      ]
     },
     "execution_count": 38,
     "metadata": {},
     "output_type": "execute_result"
    }
   ],
   "source": [
    "model = classifier\n",
    "eval_set = [(x_train, y_train), (x_test, y_test)]\n",
    "model.fit(x_train, y_train, eval_metric=[\"error\", \"logloss\"], eval_set=eval_set)"
   ]
  },
  {
   "cell_type": "code",
   "execution_count": 39,
   "metadata": {},
   "outputs": [],
   "source": [
    "result = model.predict(x_test)"
   ]
  },
  {
   "cell_type": "code",
   "execution_count": 40,
   "metadata": {},
   "outputs": [],
   "source": [
    "from sklearn.metrics import accuracy_score"
   ]
  },
  {
   "cell_type": "code",
   "execution_count": 41,
   "metadata": {},
   "outputs": [],
   "source": [
    "accuracy = accuracy_score(result, y_test)"
   ]
  },
  {
   "cell_type": "code",
   "execution_count": 42,
   "metadata": {},
   "outputs": [
    {
     "data": {
      "text/plain": [
       "0.9927272727272727"
      ]
     },
     "execution_count": 42,
     "metadata": {},
     "output_type": "execute_result"
    }
   ],
   "source": [
    "accuracy"
   ]
  },
  {
   "cell_type": "code",
   "execution_count": 43,
   "metadata": {},
   "outputs": [],
   "source": [
    "scoretrain = model.score(x_train,y_train)"
   ]
  },
  {
   "cell_type": "code",
   "execution_count": 44,
   "metadata": {},
   "outputs": [
    {
     "data": {
      "text/plain": [
       "1.0"
      ]
     },
     "execution_count": 44,
     "metadata": {},
     "output_type": "execute_result"
    }
   ],
   "source": [
    "scoretrain"
   ]
  },
  {
   "cell_type": "code",
   "execution_count": 45,
   "metadata": {},
   "outputs": [],
   "source": [
    "scoretest = model.score(x_test,y_test)"
   ]
  },
  {
   "cell_type": "code",
   "execution_count": 46,
   "metadata": {},
   "outputs": [
    {
     "data": {
      "text/plain": [
       "0.9927272727272727"
      ]
     },
     "execution_count": 46,
     "metadata": {},
     "output_type": "execute_result"
    }
   ],
   "source": [
    "scoretest"
   ]
  },
  {
   "cell_type": "code",
   "execution_count": 47,
   "metadata": {},
   "outputs": [
    {
     "data": {
      "text/plain": [
       "<sklearn.metrics._plot.roc_curve.RocCurveDisplay at 0x16a8b881970>"
      ]
     },
     "execution_count": 47,
     "metadata": {},
     "output_type": "execute_result"
    },
    {
     "data": {
      "image/png": "[encoded data removed]",
      "text/plain": [
       "<Figure size 432x288 with 1 Axes>"
      ]
     },
     "metadata": {
      "needs_background": "light"
     },
     "output_type": "display_data"
    }
   ],
   "source": [
    "#Ploting Area under the Curve\n",
    "from sklearn.metrics import plot_roc_curve\n",
    "xgbgraph = plot_roc_curve(model, x_test, y_test)\n",
    "xgbgraph"
   ]
  },
  {
   "cell_type": "code",
   "execution_count": 48,
   "metadata": {},
   "outputs": [],
   "source": [
    "from sklearn.metrics import confusion_matrix"
   ]
  },
  {
   "cell_type": "code",
   "execution_count": 49,
   "metadata": {},
   "outputs": [],
   "source": [
    "cm = confusion_matrix(y_test,result)"
   ]
  },
  {
   "cell_type": "code",
   "execution_count": 50,
   "metadata": {},
   "outputs": [
    {
     "data": {
      "text/plain": [
       "array([[146,   2],\n",
       "       [  0, 127]], dtype=int64)"
      ]
     },
     "execution_count": 50,
     "metadata": {},
     "output_type": "execute_result"
    }
   ],
   "source": [
    "cm"
   ]
  },
  {
   "cell_type": "code",
   "execution_count": 51,
   "metadata": {},
   "outputs": [
    {
     "data": {
      "image/png": "[encoded data removed]",
      "text/plain": [
       "<Figure size 864x864 with 1 Axes>"
      ]
     },
     "metadata": {
      "needs_background": "light"
     },
     "output_type": "display_data"
    }
   ],
   "source": [
    "    # retrieve performance metrics\n",
    "    results = model.evals_result()\n",
    "    epochs = len(results['validation_0']['error'])\n",
    "    x_axis = range(0, epochs)\n",
    "    \n",
    "    # plot log loss\n",
    "    fig, ax = plt.subplots(figsize=(12,12))\n",
    "    ax.plot(x_axis, results['validation_0']['logloss'], label='Train')\n",
    "    ax.plot(x_axis, results['validation_1']['logloss'], label='Test')\n",
    "    ax.legend()\n",
    "    \n",
    "    plt.ylabel('Log Loss')\n",
    "    plt.title('XGBoost Log Loss')\n",
    "    plt.show()"
   ]
  },
  {
   "cell_type": "code",
   "execution_count": 52,
   "metadata": {},
   "outputs": [
    {
     "data": {
      "image/png": "[encoded data removed]",
      "text/plain": [
       "<Figure size 864x864 with 1 Axes>"
      ]
     },
     "metadata": {
      "needs_background": "light"
     },
     "output_type": "display_data"
    }
   ],
   "source": [
    "    # plot classification error\n",
    "    fig, ax = plt.subplots(figsize=(12,12))\n",
    "    ax.plot(x_axis, results['validation_0']['error'], label='Train')\n",
    "    ax.plot(x_axis, results['validation_1']['error'], label='Test')\n",
    "    ax.legend()\n",
    "    \n",
    "    plt.ylabel('Classification Error')\n",
    "    plt.title('XGBoost Classification Error')\n",
    "    plt.show()"
   ]
  },
  {
   "cell_type": "code",
   "execution_count": null,
   "metadata": {},
   "outputs": [],
   "source": []
  }
 ],
 "metadata": {
  "kernelspec": {
   "display_name": "Python 3",
   "language": "python",
   "name": "python3"
  },
  "language_info": {
   "codemirror_mode": {
    "name": "ipython",
    "version": 3
   },
   "file_extension": ".py",
   "mimetype": "text/x-python",
   "name": "python",
   "nbconvert_exporter": "python",
   "pygments_lexer": "ipython3",
   "version": "3.8.3"
  }
 },
 "nbformat": 4,
 "nbformat_minor": 4
}
