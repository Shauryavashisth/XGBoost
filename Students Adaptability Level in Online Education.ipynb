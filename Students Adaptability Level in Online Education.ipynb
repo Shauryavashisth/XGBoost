{
 "cells": [
  {
   "cell_type": "code",
   "execution_count": 486,
   "id": "dae20be1-afec-42f0-bfb1-e467436b7b8d",
   "metadata": {},
   "outputs": [],
   "source": [
    "import pandas as pd\n",
    "import numpy as np\n",
    "import matplotlib.pyplot as plt\n",
    "import seaborn as sns\n",
    "from sklearn.metrics import accuracy_score"
   ]
  },
  {
   "cell_type": "markdown",
   "id": "91e6cf0b-21b5-4da1-8c6c-618d65a39a3e",
   "metadata": {},
   "source": [
    "### Importing the Data"
   ]
  },
  {
   "cell_type": "code",
   "execution_count": 76,
   "id": "19166733-78ca-4769-8337-28879b5e7274",
   "metadata": {},
   "outputs": [],
   "source": [
    "df = pd.read_csv(r\"D:\\Study\\BA\\TEST\\Students Adaptability Level in Online Education\\students_adaptability_level_online_education.csv\")"
   ]
  },
  {
   "cell_type": "markdown",
   "id": "bba325ac-8221-43ab-bb26-553afd671c8f",
   "metadata": {},
   "source": [
    "### Basic Check on data"
   ]
  },
  {
   "cell_type": "code",
   "execution_count": 77,
   "id": "ca905785-cb85-4d3e-802f-d657d0521c7b",
   "metadata": {},
   "outputs": [
    {
     "data": {
      "text/html": [
       "<div>\n",
       "<style scoped>\n",
       "    .dataframe tbody tr th:only-of-type {\n",
       "        vertical-align: middle;\n",
       "    }\n",
       "\n",
       "    .dataframe tbody tr th {\n",
       "        vertical-align: top;\n",
       "    }\n",
       "\n",
       "    .dataframe thead th {\n",
       "        text-align: right;\n",
       "    }\n",
       "</style>\n",
       "<table border=\"1\" class=\"dataframe\">\n",
       "  <thead>\n",
       "    <tr style=\"text-align: right;\">\n",
       "      <th></th>\n",
       "      <th>Gender</th>\n",
       "      <th>Age</th>\n",
       "      <th>Education Level</th>\n",
       "      <th>Institution Type</th>\n",
       "      <th>IT Student</th>\n",
       "      <th>Location</th>\n",
       "      <th>Load-shedding</th>\n",
       "      <th>Financial Condition</th>\n",
       "      <th>Internet Type</th>\n",
       "      <th>Network Type</th>\n",
       "      <th>Class Duration</th>\n",
       "      <th>Self Lms</th>\n",
       "      <th>Device</th>\n",
       "      <th>Adaptivity Level</th>\n",
       "    </tr>\n",
       "  </thead>\n",
       "  <tbody>\n",
       "    <tr>\n",
       "      <th>0</th>\n",
       "      <td>Boy</td>\n",
       "      <td>21-25</td>\n",
       "      <td>University</td>\n",
       "      <td>Non Government</td>\n",
       "      <td>No</td>\n",
       "      <td>Yes</td>\n",
       "      <td>Low</td>\n",
       "      <td>Mid</td>\n",
       "      <td>Wifi</td>\n",
       "      <td>4G</td>\n",
       "      <td>3-6</td>\n",
       "      <td>No</td>\n",
       "      <td>Tab</td>\n",
       "      <td>Moderate</td>\n",
       "    </tr>\n",
       "    <tr>\n",
       "      <th>1</th>\n",
       "      <td>Girl</td>\n",
       "      <td>21-25</td>\n",
       "      <td>University</td>\n",
       "      <td>Non Government</td>\n",
       "      <td>No</td>\n",
       "      <td>Yes</td>\n",
       "      <td>High</td>\n",
       "      <td>Mid</td>\n",
       "      <td>Mobile Data</td>\n",
       "      <td>4G</td>\n",
       "      <td>1-3</td>\n",
       "      <td>Yes</td>\n",
       "      <td>Mobile</td>\n",
       "      <td>Moderate</td>\n",
       "    </tr>\n",
       "    <tr>\n",
       "      <th>2</th>\n",
       "      <td>Girl</td>\n",
       "      <td>16-20</td>\n",
       "      <td>College</td>\n",
       "      <td>Government</td>\n",
       "      <td>No</td>\n",
       "      <td>Yes</td>\n",
       "      <td>Low</td>\n",
       "      <td>Mid</td>\n",
       "      <td>Wifi</td>\n",
       "      <td>4G</td>\n",
       "      <td>1-3</td>\n",
       "      <td>No</td>\n",
       "      <td>Mobile</td>\n",
       "      <td>Moderate</td>\n",
       "    </tr>\n",
       "    <tr>\n",
       "      <th>3</th>\n",
       "      <td>Girl</td>\n",
       "      <td>11-15</td>\n",
       "      <td>School</td>\n",
       "      <td>Non Government</td>\n",
       "      <td>No</td>\n",
       "      <td>Yes</td>\n",
       "      <td>Low</td>\n",
       "      <td>Mid</td>\n",
       "      <td>Mobile Data</td>\n",
       "      <td>4G</td>\n",
       "      <td>1-3</td>\n",
       "      <td>No</td>\n",
       "      <td>Mobile</td>\n",
       "      <td>Moderate</td>\n",
       "    </tr>\n",
       "    <tr>\n",
       "      <th>4</th>\n",
       "      <td>Girl</td>\n",
       "      <td>16-20</td>\n",
       "      <td>School</td>\n",
       "      <td>Non Government</td>\n",
       "      <td>No</td>\n",
       "      <td>Yes</td>\n",
       "      <td>Low</td>\n",
       "      <td>Poor</td>\n",
       "      <td>Mobile Data</td>\n",
       "      <td>3G</td>\n",
       "      <td>0</td>\n",
       "      <td>No</td>\n",
       "      <td>Mobile</td>\n",
       "      <td>Low</td>\n",
       "    </tr>\n",
       "  </tbody>\n",
       "</table>\n",
       "</div>"
      ],
      "text/plain": [
       "  Gender    Age Education Level Institution Type IT Student Location  \\\n",
       "0    Boy  21-25      University   Non Government         No      Yes   \n",
       "1   Girl  21-25      University   Non Government         No      Yes   \n",
       "2   Girl  16-20         College       Government         No      Yes   \n",
       "3   Girl  11-15          School   Non Government         No      Yes   \n",
       "4   Girl  16-20          School   Non Government         No      Yes   \n",
       "\n",
       "  Load-shedding Financial Condition Internet Type Network Type Class Duration  \\\n",
       "0           Low                 Mid          Wifi           4G            3-6   \n",
       "1          High                 Mid   Mobile Data           4G            1-3   \n",
       "2           Low                 Mid          Wifi           4G            1-3   \n",
       "3           Low                 Mid   Mobile Data           4G            1-3   \n",
       "4           Low                Poor   Mobile Data           3G              0   \n",
       "\n",
       "  Self Lms  Device Adaptivity Level  \n",
       "0       No     Tab         Moderate  \n",
       "1      Yes  Mobile         Moderate  \n",
       "2       No  Mobile         Moderate  \n",
       "3       No  Mobile         Moderate  \n",
       "4       No  Mobile              Low  "
      ]
     },
     "execution_count": 77,
     "metadata": {},
     "output_type": "execute_result"
    }
   ],
   "source": [
    "df.head()"
   ]
  },
  {
   "cell_type": "code",
   "execution_count": 78,
   "id": "4ff189e8-8997-453c-970d-204d59ffb43c",
   "metadata": {},
   "outputs": [
    {
     "data": {
      "text/plain": [
       "(1205, 14)"
      ]
     },
     "execution_count": 78,
     "metadata": {},
     "output_type": "execute_result"
    }
   ],
   "source": [
    "df.shape"
   ]
  },
  {
   "cell_type": "code",
   "execution_count": 79,
   "id": "18da6fdc-748c-47f1-a1f5-74a6f4c7ae49",
   "metadata": {},
   "outputs": [
    {
     "name": "stdout",
     "output_type": "stream",
     "text": [
      "<class 'pandas.core.frame.DataFrame'>\n",
      "RangeIndex: 1205 entries, 0 to 1204\n",
      "Data columns (total 14 columns):\n",
      " #   Column               Non-Null Count  Dtype \n",
      "---  ------               --------------  ----- \n",
      " 0   Gender               1205 non-null   object\n",
      " 1   Age                  1205 non-null   object\n",
      " 2   Education Level      1205 non-null   object\n",
      " 3   Institution Type     1205 non-null   object\n",
      " 4   IT Student           1205 non-null   object\n",
      " 5   Location             1205 non-null   object\n",
      " 6   Load-shedding        1205 non-null   object\n",
      " 7   Financial Condition  1205 non-null   object\n",
      " 8   Internet Type        1205 non-null   object\n",
      " 9   Network Type         1205 non-null   object\n",
      " 10  Class Duration       1205 non-null   object\n",
      " 11  Self Lms             1205 non-null   object\n",
      " 12  Device               1205 non-null   object\n",
      " 13  Adaptivity Level     1205 non-null   object\n",
      "dtypes: object(14)\n",
      "memory usage: 131.9+ KB\n"
     ]
    }
   ],
   "source": [
    "df.info()"
   ]
  },
  {
   "cell_type": "code",
   "execution_count": 80,
   "id": "8186abab-878a-4f2c-b1ff-7d48618aa8be",
   "metadata": {},
   "outputs": [
    {
     "data": {
      "text/plain": [
       "Gender                 0\n",
       "Age                    0\n",
       "Education Level        0\n",
       "Institution Type       0\n",
       "IT Student             0\n",
       "Location               0\n",
       "Load-shedding          0\n",
       "Financial Condition    0\n",
       "Internet Type          0\n",
       "Network Type           0\n",
       "Class Duration         0\n",
       "Self Lms               0\n",
       "Device                 0\n",
       "Adaptivity Level       0\n",
       "dtype: int64"
      ]
     },
     "execution_count": 80,
     "metadata": {},
     "output_type": "execute_result"
    }
   ],
   "source": [
    "df.isna().sum()"
   ]
  },
  {
   "cell_type": "code",
   "execution_count": 81,
   "id": "aafcb8e5-828a-4767-aae5-93978d36231d",
   "metadata": {},
   "outputs": [
    {
     "data": {
      "text/plain": [
       "Gender                 2\n",
       "Age                    6\n",
       "Education Level        3\n",
       "Institution Type       2\n",
       "IT Student             2\n",
       "Location               2\n",
       "Load-shedding          2\n",
       "Financial Condition    3\n",
       "Internet Type          2\n",
       "Network Type           3\n",
       "Class Duration         3\n",
       "Self Lms               2\n",
       "Device                 3\n",
       "Adaptivity Level       3\n",
       "dtype: int64"
      ]
     },
     "execution_count": 81,
     "metadata": {},
     "output_type": "execute_result"
    }
   ],
   "source": [
    "df.nunique()"
   ]
  },
  {
   "cell_type": "markdown",
   "id": "035984ac-179b-4e84-bc0d-848ce4cd009f",
   "metadata": {},
   "source": [
    "### Checking P-Value"
   ]
  },
  {
   "cell_type": "code",
   "execution_count": 82,
   "id": "06fe4375-ac03-4cc9-9a6d-47841fdb8c76",
   "metadata": {},
   "outputs": [
    {
     "name": "stdout",
     "output_type": "stream",
     "text": [
      "Gender p-value = 0.0364\n",
      "Age p-value = 0.0\n",
      "Education Level p-value = 0.0\n",
      "Institution Type p-value = 0.0\n",
      "IT Student p-value = 0.0033\n",
      "Location p-value = 0.0\n",
      "Load-shedding p-value = 0.1258\n",
      "Financial Condition p-value = 0.0\n",
      "Internet Type p-value = 0.0018\n",
      "Network Type p-value = 0.0004\n",
      "Class Duration p-value = 0.0\n",
      "Self Lms p-value = 0.0\n",
      "Device p-value = 0.0\n"
     ]
    }
   ],
   "source": [
    "from scipy.stats import chi2_contingency\n",
    "for col in df.columns:\n",
    "    if col not in ['weight','Adaptivity Level']:\n",
    "        table = pd.crosstab(index=df[col], columns=df['Adaptivity Level'], margins=True)\n",
    "        result = chi2_contingency(table)\n",
    "        print(col,'p-value =',result[1].round(4))"
   ]
  },
  {
   "cell_type": "markdown",
   "id": "1a292082-b7ff-4f1e-9d3b-27a893c85768",
   "metadata": {},
   "source": [
    "##### Load-shedding having a p-Value above 0.05"
   ]
  },
  {
   "cell_type": "markdown",
   "id": "4320eb5c-e18f-4dcd-badf-47f8763e12cc",
   "metadata": {},
   "source": [
    "### Checking the Unique Values within the columns"
   ]
  },
  {
   "cell_type": "code",
   "execution_count": 83,
   "id": "83a6b9d1-928b-4f2b-b7c7-354eeac58dc4",
   "metadata": {},
   "outputs": [
    {
     "data": {
      "text/plain": [
       "Boy     663\n",
       "Girl    542\n",
       "Name: Gender, dtype: int64"
      ]
     },
     "execution_count": 83,
     "metadata": {},
     "output_type": "execute_result"
    }
   ],
   "source": [
    "df[\"Gender\"].value_counts()"
   ]
  },
  {
   "cell_type": "code",
   "execution_count": 84,
   "id": "f37f3f42-ab69-4ac8-ad0f-6161fc3e99e2",
   "metadata": {},
   "outputs": [
    {
     "data": {
      "text/html": [
       "<div>\n",
       "<style scoped>\n",
       "    .dataframe tbody tr th:only-of-type {\n",
       "        vertical-align: middle;\n",
       "    }\n",
       "\n",
       "    .dataframe tbody tr th {\n",
       "        vertical-align: top;\n",
       "    }\n",
       "\n",
       "    .dataframe thead th {\n",
       "        text-align: right;\n",
       "    }\n",
       "</style>\n",
       "<table border=\"1\" class=\"dataframe\">\n",
       "  <thead>\n",
       "    <tr style=\"text-align: right;\">\n",
       "      <th>Adaptivity Level</th>\n",
       "      <th>High</th>\n",
       "      <th>Low</th>\n",
       "      <th>Moderate</th>\n",
       "    </tr>\n",
       "    <tr>\n",
       "      <th>Gender</th>\n",
       "      <th></th>\n",
       "      <th></th>\n",
       "      <th></th>\n",
       "    </tr>\n",
       "  </thead>\n",
       "  <tbody>\n",
       "    <tr>\n",
       "      <th>Boy</th>\n",
       "      <td>71</td>\n",
       "      <td>245</td>\n",
       "      <td>347</td>\n",
       "    </tr>\n",
       "    <tr>\n",
       "      <th>Girl</th>\n",
       "      <td>29</td>\n",
       "      <td>235</td>\n",
       "      <td>278</td>\n",
       "    </tr>\n",
       "  </tbody>\n",
       "</table>\n",
       "</div>"
      ],
      "text/plain": [
       "Adaptivity Level  High  Low  Moderate\n",
       "Gender                               \n",
       "Boy                 71  245       347\n",
       "Girl                29  235       278"
      ]
     },
     "execution_count": 84,
     "metadata": {},
     "output_type": "execute_result"
    }
   ],
   "source": [
    "df.groupby([\"Gender\",\"Adaptivity Level\"])[\"Age\"].count().unstack()"
   ]
  },
  {
   "cell_type": "code",
   "execution_count": 85,
   "id": "3aac8065-fa16-4484-b605-fded355a07c1",
   "metadata": {},
   "outputs": [
    {
     "data": {
      "text/plain": [
       "21-25    374\n",
       "11-15    353\n",
       "16-20    278\n",
       "1-5       81\n",
       "26-30     68\n",
       "6-10      51\n",
       "Name: Age, dtype: int64"
      ]
     },
     "execution_count": 85,
     "metadata": {},
     "output_type": "execute_result"
    }
   ],
   "source": [
    "df[\"Age\"].value_counts()"
   ]
  },
  {
   "cell_type": "code",
   "execution_count": 86,
   "id": "50d3a47b-6fd0-42db-982d-931b688cec8e",
   "metadata": {},
   "outputs": [
    {
     "data": {
      "text/html": [
       "<div>\n",
       "<style scoped>\n",
       "    .dataframe tbody tr th:only-of-type {\n",
       "        vertical-align: middle;\n",
       "    }\n",
       "\n",
       "    .dataframe tbody tr th {\n",
       "        vertical-align: top;\n",
       "    }\n",
       "\n",
       "    .dataframe thead th {\n",
       "        text-align: right;\n",
       "    }\n",
       "</style>\n",
       "<table border=\"1\" class=\"dataframe\">\n",
       "  <thead>\n",
       "    <tr style=\"text-align: right;\">\n",
       "      <th>Adaptivity Level</th>\n",
       "      <th>High</th>\n",
       "      <th>Low</th>\n",
       "      <th>Moderate</th>\n",
       "    </tr>\n",
       "    <tr>\n",
       "      <th>Age</th>\n",
       "      <th></th>\n",
       "      <th></th>\n",
       "      <th></th>\n",
       "    </tr>\n",
       "  </thead>\n",
       "  <tbody>\n",
       "    <tr>\n",
       "      <th>1-5</th>\n",
       "      <td>NaN</td>\n",
       "      <td>17.0</td>\n",
       "      <td>64.0</td>\n",
       "    </tr>\n",
       "    <tr>\n",
       "      <th>11-15</th>\n",
       "      <td>28.0</td>\n",
       "      <td>120.0</td>\n",
       "      <td>205.0</td>\n",
       "    </tr>\n",
       "    <tr>\n",
       "      <th>16-20</th>\n",
       "      <td>5.0</td>\n",
       "      <td>144.0</td>\n",
       "      <td>129.0</td>\n",
       "    </tr>\n",
       "    <tr>\n",
       "      <th>21-25</th>\n",
       "      <td>38.0</td>\n",
       "      <td>139.0</td>\n",
       "      <td>197.0</td>\n",
       "    </tr>\n",
       "    <tr>\n",
       "      <th>26-30</th>\n",
       "      <td>12.0</td>\n",
       "      <td>36.0</td>\n",
       "      <td>20.0</td>\n",
       "    </tr>\n",
       "    <tr>\n",
       "      <th>6-10</th>\n",
       "      <td>17.0</td>\n",
       "      <td>24.0</td>\n",
       "      <td>10.0</td>\n",
       "    </tr>\n",
       "  </tbody>\n",
       "</table>\n",
       "</div>"
      ],
      "text/plain": [
       "Adaptivity Level  High    Low  Moderate\n",
       "Age                                    \n",
       "1-5                NaN   17.0      64.0\n",
       "11-15             28.0  120.0     205.0\n",
       "16-20              5.0  144.0     129.0\n",
       "21-25             38.0  139.0     197.0\n",
       "26-30             12.0   36.0      20.0\n",
       "6-10              17.0   24.0      10.0"
      ]
     },
     "execution_count": 86,
     "metadata": {},
     "output_type": "execute_result"
    }
   ],
   "source": [
    "df.groupby([\"Age\",\"Adaptivity Level\"])[\"Age\"].count().unstack()"
   ]
  },
  {
   "cell_type": "code",
   "execution_count": 87,
   "id": "098eb931-d73f-4326-abac-d6c5104a0bef",
   "metadata": {},
   "outputs": [
    {
     "data": {
      "text/plain": [
       "School        530\n",
       "University    456\n",
       "College       219\n",
       "Name: Education Level, dtype: int64"
      ]
     },
     "execution_count": 87,
     "metadata": {},
     "output_type": "execute_result"
    }
   ],
   "source": [
    "df[\"Education Level\"].value_counts()"
   ]
  },
  {
   "cell_type": "code",
   "execution_count": 88,
   "id": "d935bb60-89bc-46bb-962d-b25f6b6f90ec",
   "metadata": {},
   "outputs": [
    {
     "data": {
      "text/html": [
       "<div>\n",
       "<style scoped>\n",
       "    .dataframe tbody tr th:only-of-type {\n",
       "        vertical-align: middle;\n",
       "    }\n",
       "\n",
       "    .dataframe tbody tr th {\n",
       "        vertical-align: top;\n",
       "    }\n",
       "\n",
       "    .dataframe thead th {\n",
       "        text-align: right;\n",
       "    }\n",
       "</style>\n",
       "<table border=\"1\" class=\"dataframe\">\n",
       "  <thead>\n",
       "    <tr style=\"text-align: right;\">\n",
       "      <th>Adaptivity Level</th>\n",
       "      <th>High</th>\n",
       "      <th>Low</th>\n",
       "      <th>Moderate</th>\n",
       "    </tr>\n",
       "    <tr>\n",
       "      <th>Education Level</th>\n",
       "      <th></th>\n",
       "      <th></th>\n",
       "      <th></th>\n",
       "    </tr>\n",
       "  </thead>\n",
       "  <tbody>\n",
       "    <tr>\n",
       "      <th>College</th>\n",
       "      <td>3</td>\n",
       "      <td>120</td>\n",
       "      <td>96</td>\n",
       "    </tr>\n",
       "    <tr>\n",
       "      <th>School</th>\n",
       "      <td>47</td>\n",
       "      <td>182</td>\n",
       "      <td>301</td>\n",
       "    </tr>\n",
       "    <tr>\n",
       "      <th>University</th>\n",
       "      <td>50</td>\n",
       "      <td>178</td>\n",
       "      <td>228</td>\n",
       "    </tr>\n",
       "  </tbody>\n",
       "</table>\n",
       "</div>"
      ],
      "text/plain": [
       "Adaptivity Level  High  Low  Moderate\n",
       "Education Level                      \n",
       "College              3  120        96\n",
       "School              47  182       301\n",
       "University          50  178       228"
      ]
     },
     "execution_count": 88,
     "metadata": {},
     "output_type": "execute_result"
    }
   ],
   "source": [
    "df.groupby([\"Education Level\",\"Adaptivity Level\"])[\"Age\"].count().unstack()"
   ]
  },
  {
   "cell_type": "code",
   "execution_count": 89,
   "id": "7b953d08-356d-4d17-b1cc-ef583d5c2421",
   "metadata": {},
   "outputs": [
    {
     "data": {
      "text/plain": [
       "Non Government    823\n",
       "Government        382\n",
       "Name: Institution Type, dtype: int64"
      ]
     },
     "execution_count": 89,
     "metadata": {},
     "output_type": "execute_result"
    }
   ],
   "source": [
    "df[\"Institution Type\"].value_counts()"
   ]
  },
  {
   "cell_type": "code",
   "execution_count": 90,
   "id": "42f1b5ab-0ee1-43dc-b16b-ed0c5a78f0a4",
   "metadata": {},
   "outputs": [
    {
     "data": {
      "text/html": [
       "<div>\n",
       "<style scoped>\n",
       "    .dataframe tbody tr th:only-of-type {\n",
       "        vertical-align: middle;\n",
       "    }\n",
       "\n",
       "    .dataframe tbody tr th {\n",
       "        vertical-align: top;\n",
       "    }\n",
       "\n",
       "    .dataframe thead th {\n",
       "        text-align: right;\n",
       "    }\n",
       "</style>\n",
       "<table border=\"1\" class=\"dataframe\">\n",
       "  <thead>\n",
       "    <tr style=\"text-align: right;\">\n",
       "      <th>Adaptivity Level</th>\n",
       "      <th>High</th>\n",
       "      <th>Low</th>\n",
       "      <th>Moderate</th>\n",
       "    </tr>\n",
       "    <tr>\n",
       "      <th>Institution Type</th>\n",
       "      <th></th>\n",
       "      <th></th>\n",
       "      <th></th>\n",
       "    </tr>\n",
       "  </thead>\n",
       "  <tbody>\n",
       "    <tr>\n",
       "      <th>Government</th>\n",
       "      <td>20</td>\n",
       "      <td>234</td>\n",
       "      <td>128</td>\n",
       "    </tr>\n",
       "    <tr>\n",
       "      <th>Non Government</th>\n",
       "      <td>80</td>\n",
       "      <td>246</td>\n",
       "      <td>497</td>\n",
       "    </tr>\n",
       "  </tbody>\n",
       "</table>\n",
       "</div>"
      ],
      "text/plain": [
       "Adaptivity Level  High  Low  Moderate\n",
       "Institution Type                     \n",
       "Government          20  234       128\n",
       "Non Government      80  246       497"
      ]
     },
     "execution_count": 90,
     "metadata": {},
     "output_type": "execute_result"
    }
   ],
   "source": [
    "df.groupby([\"Institution Type\",\"Adaptivity Level\"])[\"Age\"].count().unstack()"
   ]
  },
  {
   "cell_type": "code",
   "execution_count": 91,
   "id": "c3d709ed-d642-4e98-9a80-ade1caf636e9",
   "metadata": {},
   "outputs": [
    {
     "data": {
      "text/plain": [
       "No     901\n",
       "Yes    304\n",
       "Name: IT Student, dtype: int64"
      ]
     },
     "execution_count": 91,
     "metadata": {},
     "output_type": "execute_result"
    }
   ],
   "source": [
    "df[\"IT Student\"].value_counts()"
   ]
  },
  {
   "cell_type": "code",
   "execution_count": 92,
   "id": "ad983dde-1a2e-4d5a-90be-fe63a788ec88",
   "metadata": {},
   "outputs": [
    {
     "data": {
      "text/html": [
       "<div>\n",
       "<style scoped>\n",
       "    .dataframe tbody tr th:only-of-type {\n",
       "        vertical-align: middle;\n",
       "    }\n",
       "\n",
       "    .dataframe tbody tr th {\n",
       "        vertical-align: top;\n",
       "    }\n",
       "\n",
       "    .dataframe thead th {\n",
       "        text-align: right;\n",
       "    }\n",
       "</style>\n",
       "<table border=\"1\" class=\"dataframe\">\n",
       "  <thead>\n",
       "    <tr style=\"text-align: right;\">\n",
       "      <th>Adaptivity Level</th>\n",
       "      <th>High</th>\n",
       "      <th>Low</th>\n",
       "      <th>Moderate</th>\n",
       "    </tr>\n",
       "    <tr>\n",
       "      <th>IT Student</th>\n",
       "      <th></th>\n",
       "      <th></th>\n",
       "      <th></th>\n",
       "    </tr>\n",
       "  </thead>\n",
       "  <tbody>\n",
       "    <tr>\n",
       "      <th>No</th>\n",
       "      <td>67</td>\n",
       "      <td>391</td>\n",
       "      <td>443</td>\n",
       "    </tr>\n",
       "    <tr>\n",
       "      <th>Yes</th>\n",
       "      <td>33</td>\n",
       "      <td>89</td>\n",
       "      <td>182</td>\n",
       "    </tr>\n",
       "  </tbody>\n",
       "</table>\n",
       "</div>"
      ],
      "text/plain": [
       "Adaptivity Level  High  Low  Moderate\n",
       "IT Student                           \n",
       "No                  67  391       443\n",
       "Yes                 33   89       182"
      ]
     },
     "execution_count": 92,
     "metadata": {},
     "output_type": "execute_result"
    }
   ],
   "source": [
    "df.groupby([\"IT Student\",\"Adaptivity Level\"])[\"Age\"].count().unstack()"
   ]
  },
  {
   "cell_type": "code",
   "execution_count": 93,
   "id": "e4ffce6d-a401-4183-9063-4efb1f3846ca",
   "metadata": {},
   "outputs": [
    {
     "data": {
      "text/plain": [
       "Yes    935\n",
       "No     270\n",
       "Name: Location, dtype: int64"
      ]
     },
     "execution_count": 93,
     "metadata": {},
     "output_type": "execute_result"
    }
   ],
   "source": [
    "df[\"Location\"].value_counts()"
   ]
  },
  {
   "cell_type": "code",
   "execution_count": 94,
   "id": "0fb541b8-71ad-4012-bbad-309073c2beae",
   "metadata": {},
   "outputs": [
    {
     "data": {
      "text/html": [
       "<div>\n",
       "<style scoped>\n",
       "    .dataframe tbody tr th:only-of-type {\n",
       "        vertical-align: middle;\n",
       "    }\n",
       "\n",
       "    .dataframe tbody tr th {\n",
       "        vertical-align: top;\n",
       "    }\n",
       "\n",
       "    .dataframe thead th {\n",
       "        text-align: right;\n",
       "    }\n",
       "</style>\n",
       "<table border=\"1\" class=\"dataframe\">\n",
       "  <thead>\n",
       "    <tr style=\"text-align: right;\">\n",
       "      <th>Adaptivity Level</th>\n",
       "      <th>High</th>\n",
       "      <th>Low</th>\n",
       "      <th>Moderate</th>\n",
       "    </tr>\n",
       "    <tr>\n",
       "      <th>Location</th>\n",
       "      <th></th>\n",
       "      <th></th>\n",
       "      <th></th>\n",
       "    </tr>\n",
       "  </thead>\n",
       "  <tbody>\n",
       "    <tr>\n",
       "      <th>No</th>\n",
       "      <td>8</td>\n",
       "      <td>171</td>\n",
       "      <td>91</td>\n",
       "    </tr>\n",
       "    <tr>\n",
       "      <th>Yes</th>\n",
       "      <td>92</td>\n",
       "      <td>309</td>\n",
       "      <td>534</td>\n",
       "    </tr>\n",
       "  </tbody>\n",
       "</table>\n",
       "</div>"
      ],
      "text/plain": [
       "Adaptivity Level  High  Low  Moderate\n",
       "Location                             \n",
       "No                   8  171        91\n",
       "Yes                 92  309       534"
      ]
     },
     "execution_count": 94,
     "metadata": {},
     "output_type": "execute_result"
    }
   ],
   "source": [
    "df.groupby([\"Location\",\"Adaptivity Level\"])[\"Age\"].count().unstack()"
   ]
  },
  {
   "cell_type": "code",
   "execution_count": 95,
   "id": "6b5b532e-c8bc-408d-9299-bd3cfb6039fe",
   "metadata": {},
   "outputs": [
    {
     "data": {
      "text/plain": [
       "Low     1004\n",
       "High     201\n",
       "Name: Load-shedding, dtype: int64"
      ]
     },
     "execution_count": 95,
     "metadata": {},
     "output_type": "execute_result"
    }
   ],
   "source": [
    "df[\"Load-shedding\"].value_counts()"
   ]
  },
  {
   "cell_type": "code",
   "execution_count": 96,
   "id": "fd87cbe7-2dcc-4938-a217-0684d1d2ac59",
   "metadata": {},
   "outputs": [
    {
     "data": {
      "text/html": [
       "<div>\n",
       "<style scoped>\n",
       "    .dataframe tbody tr th:only-of-type {\n",
       "        vertical-align: middle;\n",
       "    }\n",
       "\n",
       "    .dataframe tbody tr th {\n",
       "        vertical-align: top;\n",
       "    }\n",
       "\n",
       "    .dataframe thead th {\n",
       "        text-align: right;\n",
       "    }\n",
       "</style>\n",
       "<table border=\"1\" class=\"dataframe\">\n",
       "  <thead>\n",
       "    <tr style=\"text-align: right;\">\n",
       "      <th>Adaptivity Level</th>\n",
       "      <th>High</th>\n",
       "      <th>Low</th>\n",
       "      <th>Moderate</th>\n",
       "    </tr>\n",
       "    <tr>\n",
       "      <th>Load-shedding</th>\n",
       "      <th></th>\n",
       "      <th></th>\n",
       "      <th></th>\n",
       "    </tr>\n",
       "  </thead>\n",
       "  <tbody>\n",
       "    <tr>\n",
       "      <th>High</th>\n",
       "      <td>13</td>\n",
       "      <td>100</td>\n",
       "      <td>88</td>\n",
       "    </tr>\n",
       "    <tr>\n",
       "      <th>Low</th>\n",
       "      <td>87</td>\n",
       "      <td>380</td>\n",
       "      <td>537</td>\n",
       "    </tr>\n",
       "  </tbody>\n",
       "</table>\n",
       "</div>"
      ],
      "text/plain": [
       "Adaptivity Level  High  Low  Moderate\n",
       "Load-shedding                        \n",
       "High                13  100        88\n",
       "Low                 87  380       537"
      ]
     },
     "execution_count": 96,
     "metadata": {},
     "output_type": "execute_result"
    }
   ],
   "source": [
    "df.groupby([\"Load-shedding\",\"Adaptivity Level\"])[\"Age\"].count().unstack()"
   ]
  },
  {
   "cell_type": "code",
   "execution_count": 97,
   "id": "a2dc7d1b-00ff-4320-83ff-15f079652bbb",
   "metadata": {},
   "outputs": [
    {
     "data": {
      "text/plain": [
       "Mid     878\n",
       "Poor    242\n",
       "Rich     85\n",
       "Name: Financial Condition, dtype: int64"
      ]
     },
     "execution_count": 97,
     "metadata": {},
     "output_type": "execute_result"
    }
   ],
   "source": [
    "df[\"Financial Condition\"].value_counts()"
   ]
  },
  {
   "cell_type": "code",
   "execution_count": 98,
   "id": "cf9f71a1-57bc-4766-8d50-b80806f124c3",
   "metadata": {},
   "outputs": [
    {
     "data": {
      "text/html": [
       "<div>\n",
       "<style scoped>\n",
       "    .dataframe tbody tr th:only-of-type {\n",
       "        vertical-align: middle;\n",
       "    }\n",
       "\n",
       "    .dataframe tbody tr th {\n",
       "        vertical-align: top;\n",
       "    }\n",
       "\n",
       "    .dataframe thead th {\n",
       "        text-align: right;\n",
       "    }\n",
       "</style>\n",
       "<table border=\"1\" class=\"dataframe\">\n",
       "  <thead>\n",
       "    <tr style=\"text-align: right;\">\n",
       "      <th>Adaptivity Level</th>\n",
       "      <th>High</th>\n",
       "      <th>Low</th>\n",
       "      <th>Moderate</th>\n",
       "    </tr>\n",
       "    <tr>\n",
       "      <th>Financial Condition</th>\n",
       "      <th></th>\n",
       "      <th></th>\n",
       "      <th></th>\n",
       "    </tr>\n",
       "  </thead>\n",
       "  <tbody>\n",
       "    <tr>\n",
       "      <th>Mid</th>\n",
       "      <td>36</td>\n",
       "      <td>341</td>\n",
       "      <td>501</td>\n",
       "    </tr>\n",
       "    <tr>\n",
       "      <th>Poor</th>\n",
       "      <td>22</td>\n",
       "      <td>129</td>\n",
       "      <td>91</td>\n",
       "    </tr>\n",
       "    <tr>\n",
       "      <th>Rich</th>\n",
       "      <td>42</td>\n",
       "      <td>10</td>\n",
       "      <td>33</td>\n",
       "    </tr>\n",
       "  </tbody>\n",
       "</table>\n",
       "</div>"
      ],
      "text/plain": [
       "Adaptivity Level     High  Low  Moderate\n",
       "Financial Condition                     \n",
       "Mid                    36  341       501\n",
       "Poor                   22  129        91\n",
       "Rich                   42   10        33"
      ]
     },
     "execution_count": 98,
     "metadata": {},
     "output_type": "execute_result"
    }
   ],
   "source": [
    "df.groupby([\"Financial Condition\",\"Adaptivity Level\"])[\"Age\"].count().unstack()"
   ]
  },
  {
   "cell_type": "code",
   "execution_count": 99,
   "id": "f41060f4-82d4-4dc5-a288-a17a156b6a1b",
   "metadata": {},
   "outputs": [
    {
     "data": {
      "text/plain": [
       "Mobile Data    695\n",
       "Wifi           510\n",
       "Name: Internet Type, dtype: int64"
      ]
     },
     "execution_count": 99,
     "metadata": {},
     "output_type": "execute_result"
    }
   ],
   "source": [
    "df[\"Internet Type\"].value_counts()"
   ]
  },
  {
   "cell_type": "code",
   "execution_count": 101,
   "id": "599a6b2d-d9df-4972-a192-ce00ff53047c",
   "metadata": {},
   "outputs": [
    {
     "data": {
      "text/html": [
       "<div>\n",
       "<style scoped>\n",
       "    .dataframe tbody tr th:only-of-type {\n",
       "        vertical-align: middle;\n",
       "    }\n",
       "\n",
       "    .dataframe tbody tr th {\n",
       "        vertical-align: top;\n",
       "    }\n",
       "\n",
       "    .dataframe thead th {\n",
       "        text-align: right;\n",
       "    }\n",
       "</style>\n",
       "<table border=\"1\" class=\"dataframe\">\n",
       "  <thead>\n",
       "    <tr style=\"text-align: right;\">\n",
       "      <th>Adaptivity Level</th>\n",
       "      <th>High</th>\n",
       "      <th>Low</th>\n",
       "      <th>Moderate</th>\n",
       "    </tr>\n",
       "    <tr>\n",
       "      <th>Internet Type</th>\n",
       "      <th></th>\n",
       "      <th></th>\n",
       "      <th></th>\n",
       "    </tr>\n",
       "  </thead>\n",
       "  <tbody>\n",
       "    <tr>\n",
       "      <th>Mobile Data</th>\n",
       "      <td>36</td>\n",
       "      <td>288</td>\n",
       "      <td>371</td>\n",
       "    </tr>\n",
       "    <tr>\n",
       "      <th>Wifi</th>\n",
       "      <td>64</td>\n",
       "      <td>192</td>\n",
       "      <td>254</td>\n",
       "    </tr>\n",
       "  </tbody>\n",
       "</table>\n",
       "</div>"
      ],
      "text/plain": [
       "Adaptivity Level  High  Low  Moderate\n",
       "Internet Type                        \n",
       "Mobile Data         36  288       371\n",
       "Wifi                64  192       254"
      ]
     },
     "execution_count": 101,
     "metadata": {},
     "output_type": "execute_result"
    }
   ],
   "source": [
    "df.groupby([\"Internet Type\",\"Adaptivity Level\"])[\"Age\"].count().unstack()"
   ]
  },
  {
   "cell_type": "code",
   "execution_count": 102,
   "id": "a19e83dc-afed-42c5-b517-8b74945b857d",
   "metadata": {},
   "outputs": [
    {
     "data": {
      "text/plain": [
       "4G    775\n",
       "3G    411\n",
       "2G     19\n",
       "Name: Network Type, dtype: int64"
      ]
     },
     "execution_count": 102,
     "metadata": {},
     "output_type": "execute_result"
    }
   ],
   "source": [
    "df[\"Network Type\"].value_counts()"
   ]
  },
  {
   "cell_type": "code",
   "execution_count": 103,
   "id": "2b30f8d8-70dd-4e20-baec-4063a9987393",
   "metadata": {},
   "outputs": [
    {
     "data": {
      "text/html": [
       "<div>\n",
       "<style scoped>\n",
       "    .dataframe tbody tr th:only-of-type {\n",
       "        vertical-align: middle;\n",
       "    }\n",
       "\n",
       "    .dataframe tbody tr th {\n",
       "        vertical-align: top;\n",
       "    }\n",
       "\n",
       "    .dataframe thead th {\n",
       "        text-align: right;\n",
       "    }\n",
       "</style>\n",
       "<table border=\"1\" class=\"dataframe\">\n",
       "  <thead>\n",
       "    <tr style=\"text-align: right;\">\n",
       "      <th>Adaptivity Level</th>\n",
       "      <th>High</th>\n",
       "      <th>Low</th>\n",
       "      <th>Moderate</th>\n",
       "    </tr>\n",
       "    <tr>\n",
       "      <th>Network Type</th>\n",
       "      <th></th>\n",
       "      <th></th>\n",
       "      <th></th>\n",
       "    </tr>\n",
       "  </thead>\n",
       "  <tbody>\n",
       "    <tr>\n",
       "      <th>2G</th>\n",
       "      <td>NaN</td>\n",
       "      <td>16.0</td>\n",
       "      <td>3.0</td>\n",
       "    </tr>\n",
       "    <tr>\n",
       "      <th>3G</th>\n",
       "      <td>22.0</td>\n",
       "      <td>186.0</td>\n",
       "      <td>203.0</td>\n",
       "    </tr>\n",
       "    <tr>\n",
       "      <th>4G</th>\n",
       "      <td>78.0</td>\n",
       "      <td>278.0</td>\n",
       "      <td>419.0</td>\n",
       "    </tr>\n",
       "  </tbody>\n",
       "</table>\n",
       "</div>"
      ],
      "text/plain": [
       "Adaptivity Level  High    Low  Moderate\n",
       "Network Type                           \n",
       "2G                 NaN   16.0       3.0\n",
       "3G                22.0  186.0     203.0\n",
       "4G                78.0  278.0     419.0"
      ]
     },
     "execution_count": 103,
     "metadata": {},
     "output_type": "execute_result"
    }
   ],
   "source": [
    "df.groupby([\"Network Type\",\"Adaptivity Level\"])[\"Age\"].count().unstack()"
   ]
  },
  {
   "cell_type": "code",
   "execution_count": 104,
   "id": "08a2f73e-d443-4783-97f0-9527a0b0043c",
   "metadata": {},
   "outputs": [
    {
     "data": {
      "text/plain": [
       "1-3    840\n",
       "3-6    211\n",
       "0      154\n",
       "Name: Class Duration, dtype: int64"
      ]
     },
     "execution_count": 104,
     "metadata": {},
     "output_type": "execute_result"
    }
   ],
   "source": [
    "df[\"Class Duration\"].value_counts()"
   ]
  },
  {
   "cell_type": "code",
   "execution_count": 105,
   "id": "a2976815-441b-43cd-83b2-8056d25ad4a8",
   "metadata": {},
   "outputs": [
    {
     "data": {
      "text/html": [
       "<div>\n",
       "<style scoped>\n",
       "    .dataframe tbody tr th:only-of-type {\n",
       "        vertical-align: middle;\n",
       "    }\n",
       "\n",
       "    .dataframe tbody tr th {\n",
       "        vertical-align: top;\n",
       "    }\n",
       "\n",
       "    .dataframe thead th {\n",
       "        text-align: right;\n",
       "    }\n",
       "</style>\n",
       "<table border=\"1\" class=\"dataframe\">\n",
       "  <thead>\n",
       "    <tr style=\"text-align: right;\">\n",
       "      <th>Adaptivity Level</th>\n",
       "      <th>High</th>\n",
       "      <th>Low</th>\n",
       "      <th>Moderate</th>\n",
       "    </tr>\n",
       "    <tr>\n",
       "      <th>Class Duration</th>\n",
       "      <th></th>\n",
       "      <th></th>\n",
       "      <th></th>\n",
       "    </tr>\n",
       "  </thead>\n",
       "  <tbody>\n",
       "    <tr>\n",
       "      <th>0</th>\n",
       "      <td>NaN</td>\n",
       "      <td>144.0</td>\n",
       "      <td>10.0</td>\n",
       "    </tr>\n",
       "    <tr>\n",
       "      <th>1-3</th>\n",
       "      <td>82.0</td>\n",
       "      <td>290.0</td>\n",
       "      <td>468.0</td>\n",
       "    </tr>\n",
       "    <tr>\n",
       "      <th>3-6</th>\n",
       "      <td>18.0</td>\n",
       "      <td>46.0</td>\n",
       "      <td>147.0</td>\n",
       "    </tr>\n",
       "  </tbody>\n",
       "</table>\n",
       "</div>"
      ],
      "text/plain": [
       "Adaptivity Level  High    Low  Moderate\n",
       "Class Duration                         \n",
       "0                  NaN  144.0      10.0\n",
       "1-3               82.0  290.0     468.0\n",
       "3-6               18.0   46.0     147.0"
      ]
     },
     "execution_count": 105,
     "metadata": {},
     "output_type": "execute_result"
    }
   ],
   "source": [
    "df.groupby([\"Class Duration\",\"Adaptivity Level\"])[\"Age\"].count().unstack()"
   ]
  },
  {
   "cell_type": "code",
   "execution_count": 106,
   "id": "55c17d40-7fe1-40e8-8f46-0ab46908b138",
   "metadata": {},
   "outputs": [
    {
     "data": {
      "text/plain": [
       "Mobile      1013\n",
       "Computer     162\n",
       "Tab           30\n",
       "Name: Device, dtype: int64"
      ]
     },
     "execution_count": 106,
     "metadata": {},
     "output_type": "execute_result"
    }
   ],
   "source": [
    "df[\"Device\"].value_counts()"
   ]
  },
  {
   "cell_type": "code",
   "execution_count": 107,
   "id": "a9161499-9e52-4975-8759-39a348ec4230",
   "metadata": {},
   "outputs": [
    {
     "data": {
      "text/html": [
       "<div>\n",
       "<style scoped>\n",
       "    .dataframe tbody tr th:only-of-type {\n",
       "        vertical-align: middle;\n",
       "    }\n",
       "\n",
       "    .dataframe tbody tr th {\n",
       "        vertical-align: top;\n",
       "    }\n",
       "\n",
       "    .dataframe thead th {\n",
       "        text-align: right;\n",
       "    }\n",
       "</style>\n",
       "<table border=\"1\" class=\"dataframe\">\n",
       "  <thead>\n",
       "    <tr style=\"text-align: right;\">\n",
       "      <th>Adaptivity Level</th>\n",
       "      <th>High</th>\n",
       "      <th>Low</th>\n",
       "      <th>Moderate</th>\n",
       "    </tr>\n",
       "    <tr>\n",
       "      <th>Device</th>\n",
       "      <th></th>\n",
       "      <th></th>\n",
       "      <th></th>\n",
       "    </tr>\n",
       "  </thead>\n",
       "  <tbody>\n",
       "    <tr>\n",
       "      <th>Computer</th>\n",
       "      <td>30</td>\n",
       "      <td>40</td>\n",
       "      <td>92</td>\n",
       "    </tr>\n",
       "    <tr>\n",
       "      <th>Mobile</th>\n",
       "      <td>68</td>\n",
       "      <td>438</td>\n",
       "      <td>507</td>\n",
       "    </tr>\n",
       "    <tr>\n",
       "      <th>Tab</th>\n",
       "      <td>2</td>\n",
       "      <td>2</td>\n",
       "      <td>26</td>\n",
       "    </tr>\n",
       "  </tbody>\n",
       "</table>\n",
       "</div>"
      ],
      "text/plain": [
       "Adaptivity Level  High  Low  Moderate\n",
       "Device                               \n",
       "Computer            30   40        92\n",
       "Mobile              68  438       507\n",
       "Tab                  2    2        26"
      ]
     },
     "execution_count": 107,
     "metadata": {},
     "output_type": "execute_result"
    }
   ],
   "source": [
    "df.groupby([\"Device\",\"Adaptivity Level\"])[\"Age\"].count().unstack()"
   ]
  },
  {
   "cell_type": "markdown",
   "id": "76f2388e-ead8-426a-b874-688d5acb49d0",
   "metadata": {},
   "source": [
    "### Target Variable"
   ]
  },
  {
   "cell_type": "code",
   "execution_count": 108,
   "id": "acd20bb4-b54b-40a4-a6cb-790a6c7113d9",
   "metadata": {},
   "outputs": [
    {
     "data": {
      "text/plain": [
       "Moderate    625\n",
       "Low         480\n",
       "High        100\n",
       "Name: Adaptivity Level, dtype: int64"
      ]
     },
     "execution_count": 108,
     "metadata": {},
     "output_type": "execute_result"
    }
   ],
   "source": [
    "df[\"Adaptivity Level\"].value_counts()"
   ]
  },
  {
   "cell_type": "markdown",
   "id": "2cea7b40-5742-4c26-a832-ae39761c7839",
   "metadata": {},
   "source": [
    "### Defining the Categorical Values:- \n",
    "#### Moderate = 0, \n",
    "#### Low =1, \n",
    "#### High = 2"
   ]
  },
  {
   "cell_type": "code",
   "execution_count": 109,
   "id": "d8393b1b-1331-4dd4-991b-9dc12e50f70d",
   "metadata": {},
   "outputs": [],
   "source": [
    "df[\"Adaptivity Level\"] = df[\"Adaptivity Level\"].replace({\"Moderate\":0,\n",
    "                               \"Low\":1,\n",
    "                               \"High\":2})"
   ]
  },
  {
   "cell_type": "markdown",
   "id": "6ab65088-78db-4f0c-80f4-f065864cdf5b",
   "metadata": {},
   "source": [
    "### Converting the Values where unique is less than 2 to dummy values (0 or 1)"
   ]
  },
  {
   "cell_type": "code",
   "execution_count": 110,
   "id": "9331f138-e823-4219-b17b-13521feb461c",
   "metadata": {},
   "outputs": [
    {
     "data": {
      "text/plain": [
       "Gender                  True\n",
       "Age                    False\n",
       "Education Level        False\n",
       "Institution Type        True\n",
       "IT Student              True\n",
       "Location                True\n",
       "Load-shedding           True\n",
       "Financial Condition    False\n",
       "Internet Type           True\n",
       "Network Type           False\n",
       "Class Duration         False\n",
       "Self Lms                True\n",
       "Device                 False\n",
       "Adaptivity Level       False\n",
       "dtype: bool"
      ]
     },
     "execution_count": 110,
     "metadata": {},
     "output_type": "execute_result"
    }
   ],
   "source": [
    "df.nunique()<3"
   ]
  },
  {
   "cell_type": "code",
   "execution_count": 115,
   "id": "4674e59c-5fe1-43a0-aa5f-e92e6fd1226d",
   "metadata": {},
   "outputs": [],
   "source": [
    "df = pd.get_dummies(df,columns=[\"Gender\",\"Institution Type\",\"IT Student\",\"Location\",\"Load-shedding\",\"Internet Type\",\"Self Lms\"],drop_first=True,)"
   ]
  },
  {
   "cell_type": "code",
   "execution_count": 116,
   "id": "22190e18-adfd-4e3c-bec0-e015b5389bdd",
   "metadata": {},
   "outputs": [
    {
     "name": "stdout",
     "output_type": "stream",
     "text": [
      "<class 'pandas.core.frame.DataFrame'>\n",
      "RangeIndex: 1205 entries, 0 to 1204\n",
      "Data columns (total 14 columns):\n",
      " #   Column                           Non-Null Count  Dtype \n",
      "---  ------                           --------------  ----- \n",
      " 0   Age                              1205 non-null   object\n",
      " 1   Education Level                  1205 non-null   object\n",
      " 2   Financial Condition              1205 non-null   object\n",
      " 3   Network Type                     1205 non-null   object\n",
      " 4   Class Duration                   1205 non-null   object\n",
      " 5   Device                           1205 non-null   object\n",
      " 6   Adaptivity Level                 1205 non-null   int64 \n",
      " 7   Gender_Girl                      1205 non-null   uint8 \n",
      " 8   Institution Type_Non Government  1205 non-null   uint8 \n",
      " 9   IT Student_Yes                   1205 non-null   uint8 \n",
      " 10  Location_Yes                     1205 non-null   uint8 \n",
      " 11  Load-shedding_Low                1205 non-null   uint8 \n",
      " 12  Internet Type_Wifi               1205 non-null   uint8 \n",
      " 13  Self Lms_Yes                     1205 non-null   uint8 \n",
      "dtypes: int64(1), object(6), uint8(7)\n",
      "memory usage: 74.3+ KB\n"
     ]
    }
   ],
   "source": [
    "df.info()"
   ]
  },
  {
   "cell_type": "markdown",
   "id": "908b7b74-9fe0-4348-ab61-6be8e229fe4e",
   "metadata": {},
   "source": [
    "### Using LabelEncoder where the Unique value is >3"
   ]
  },
  {
   "cell_type": "code",
   "execution_count": 117,
   "id": "4a3d8bc2-ef82-4156-93c9-f07a0b11b57f",
   "metadata": {},
   "outputs": [
    {
     "data": {
      "text/plain": [
       "Index(['Age', 'Education Level', 'Financial Condition', 'Network Type',\n",
       "       'Class Duration', 'Device'],\n",
       "      dtype='object')"
      ]
     },
     "execution_count": 117,
     "metadata": {},
     "output_type": "execute_result"
    }
   ],
   "source": [
    "df.select_dtypes(include=\"object\").columns"
   ]
  },
  {
   "cell_type": "code",
   "execution_count": 118,
   "id": "7bc416e5-1e86-41e4-81eb-9795da6e901f",
   "metadata": {},
   "outputs": [],
   "source": [
    "from sklearn.preprocessing import LabelEncoder\n",
    "le = LabelEncoder()\n",
    "df['Age'] = le.fit_transform(df['Age'])\n",
    "df['Education Level'] = le.fit_transform(df['Education Level'])\n",
    "df['Financial Condition'] = le.fit_transform(df['Financial Condition'])\n",
    "df['Network Type'] = le.fit_transform(df['Network Type'])\n",
    "df['Class Duration'] = le.fit_transform(df['Class Duration'])\n",
    "df['Device'] = le.fit_transform(df['Device'])"
   ]
  },
  {
   "cell_type": "markdown",
   "id": "8c8bb484-4032-4e71-b138-4770a995b95e",
   "metadata": {},
   "source": [
    "### Checking the DataSet"
   ]
  },
  {
   "cell_type": "code",
   "execution_count": 273,
   "id": "d15a70e6-1945-4fb9-9fbe-25b8d3902629",
   "metadata": {},
   "outputs": [
    {
     "name": "stdout",
     "output_type": "stream",
     "text": [
      "<class 'pandas.core.frame.DataFrame'>\n",
      "RangeIndex: 1205 entries, 0 to 1204\n",
      "Data columns (total 14 columns):\n",
      " #   Column                           Non-Null Count  Dtype\n",
      "---  ------                           --------------  -----\n",
      " 0   Age                              1205 non-null   int32\n",
      " 1   Education Level                  1205 non-null   int32\n",
      " 2   Financial Condition              1205 non-null   int32\n",
      " 3   Network Type                     1205 non-null   int32\n",
      " 4   Class Duration                   1205 non-null   int32\n",
      " 5   Device                           1205 non-null   int32\n",
      " 6   Adaptivity Level                 1205 non-null   int64\n",
      " 7   Gender_Girl                      1205 non-null   uint8\n",
      " 8   Institution Type_Non Government  1205 non-null   uint8\n",
      " 9   IT Student_Yes                   1205 non-null   uint8\n",
      " 10  Location_Yes                     1205 non-null   uint8\n",
      " 11  Load-shedding_Low                1205 non-null   uint8\n",
      " 12  Internet Type_Wifi               1205 non-null   uint8\n",
      " 13  Self Lms_Yes                     1205 non-null   uint8\n",
      "dtypes: int32(6), int64(1), uint8(7)\n",
      "memory usage: 46.0 KB\n"
     ]
    }
   ],
   "source": [
    "df.info()"
   ]
  },
  {
   "cell_type": "markdown",
   "id": "2576272c-dc69-41cd-bf15-2a601247ea54",
   "metadata": {},
   "source": [
    "### Calling Library that will be used for futher process"
   ]
  },
  {
   "cell_type": "code",
   "execution_count": 303,
   "id": "7352d6d6-2842-4fbb-a5c4-6901cb0e9313",
   "metadata": {},
   "outputs": [],
   "source": [
    "from sklearn.ensemble import RandomForestClassifier\n",
    "from xgboost import XGBClassifier\n",
    "from sklearn.model_selection import train_test_split\n",
    "from sklearn.model_selection import RandomizedSearchCV\n",
    "from sklearn.metrics import classification_report, confusion_matrix"
   ]
  },
  {
   "cell_type": "markdown",
   "id": "37e13529-2f04-4c2d-afdf-b494d8ee2984",
   "metadata": {},
   "source": [
    "##### Spliting the Dependent and Independent"
   ]
  },
  {
   "cell_type": "code",
   "execution_count": 277,
   "id": "b5835143-632f-4fcd-bff9-90bac756b446",
   "metadata": {},
   "outputs": [],
   "source": [
    "y = df['Adaptivity Level']\n",
    "x = df.drop(['Adaptivity Level','Load-shedding_Low'],axis=1)"
   ]
  },
  {
   "cell_type": "code",
   "execution_count": 278,
   "id": "e6ab90ff-28ce-4563-92b4-02a259231456",
   "metadata": {},
   "outputs": [
    {
     "data": {
      "text/plain": [
       "((1205, 12), (1205,))"
      ]
     },
     "execution_count": 278,
     "metadata": {},
     "output_type": "execute_result"
    }
   ],
   "source": [
    "x.shape,y.shape"
   ]
  },
  {
   "cell_type": "code",
   "execution_count": 279,
   "id": "9367f9eb-7550-4c99-94a4-d60af154974b",
   "metadata": {},
   "outputs": [
    {
     "data": {
      "text/plain": [
       "0    625\n",
       "1    480\n",
       "2    100\n",
       "Name: Adaptivity Level, dtype: int64"
      ]
     },
     "execution_count": 279,
     "metadata": {},
     "output_type": "execute_result"
    }
   ],
   "source": [
    "y.value_counts()"
   ]
  },
  {
   "cell_type": "markdown",
   "id": "ebdd4dce-570f-46b3-9458-efeceec2731b",
   "metadata": {},
   "source": [
    "###### Spliting the Training and Testing Dataset"
   ]
  },
  {
   "cell_type": "code",
   "execution_count": 280,
   "id": "f1fbdcc3-3143-4405-be6f-2bfb736c3bcb",
   "metadata": {},
   "outputs": [],
   "source": [
    "x_train, x_test, y_train, y_test = train_test_split(x, y, test_size=0.2, random_state=100)"
   ]
  },
  {
   "cell_type": "code",
   "execution_count": 281,
   "id": "556704be-9967-4c1a-b745-12c48a259488",
   "metadata": {},
   "outputs": [],
   "source": [
    "Rtree = RandomForestClassifier(n_estimators=1000)"
   ]
  },
  {
   "cell_type": "code",
   "execution_count": 282,
   "id": "4caa624f-e8be-4bd8-b066-aa1f57f2fcef",
   "metadata": {},
   "outputs": [
    {
     "data": {
      "text/plain": [
       "{'bootstrap': True,\n",
       " 'ccp_alpha': 0.0,\n",
       " 'class_weight': None,\n",
       " 'criterion': 'gini',\n",
       " 'max_depth': None,\n",
       " 'max_features': 'auto',\n",
       " 'max_leaf_nodes': None,\n",
       " 'max_samples': None,\n",
       " 'min_impurity_decrease': 0.0,\n",
       " 'min_impurity_split': None,\n",
       " 'min_samples_leaf': 1,\n",
       " 'min_samples_split': 2,\n",
       " 'min_weight_fraction_leaf': 0.0,\n",
       " 'n_estimators': 1000,\n",
       " 'n_jobs': None,\n",
       " 'oob_score': False,\n",
       " 'random_state': None,\n",
       " 'verbose': 0,\n",
       " 'warm_start': False}"
      ]
     },
     "execution_count": 282,
     "metadata": {},
     "output_type": "execute_result"
    }
   ],
   "source": [
    "Rtree.get_params()"
   ]
  },
  {
   "cell_type": "markdown",
   "id": "dcac095f-51ba-4b3c-8fce-09fc67aab684",
   "metadata": {},
   "source": [
    "### Using Hyperparameter Tuning for the RandomForest Model"
   ]
  },
  {
   "cell_type": "markdown",
   "id": "fa1b4458-a1a2-439a-8bf5-113308cdb398",
   "metadata": {},
   "source": [
    "##### n_estimators - Numbers of Trees\n",
    "##### max_depth - Max level of a tree\n",
    "##### min_samples_leaf - min number of data points allowed in a leaf node\n",
    "##### min_samples_split - min number of data point placed in a node before spliting"
   ]
  },
  {
   "cell_type": "code",
   "execution_count": 284,
   "id": "b7228fce-c1fc-4b32-91af-64980a02aab7",
   "metadata": {},
   "outputs": [],
   "source": [
    "n_estimators = [1000,1500,2000]\n",
    "max_depth = [2, 6, 8, 12, 14, 16]\n",
    "min_samples_split = [2, 5, 10, 12, 14]\n",
    "min_samples_leaf = [2, 4, 6, 8, 10, 12, 14]\n",
    "search = {'n_estimators': n_estimators,\n",
    "               'max_depth': max_depth,\n",
    "               'min_samples_split': min_samples_split,\n",
    "               'min_samples_leaf': min_samples_leaf,\n",
    "               }"
   ]
  },
  {
   "cell_type": "code",
   "execution_count": 285,
   "id": "ffce73e9-b389-415a-ac23-b5d2b0030005",
   "metadata": {},
   "outputs": [
    {
     "data": {
      "text/plain": [
       "RandomizedSearchCV(cv=5, estimator=RandomForestClassifier(), n_jobs=-1,\n",
       "                   param_distributions={'max_depth': [2, 6, 8, 12, 14, 16],\n",
       "                                        'min_samples_leaf': [2, 4, 6, 8, 10, 12,\n",
       "                                                             14],\n",
       "                                        'min_samples_split': [2, 5, 10, 12, 14],\n",
       "                                        'n_estimators': [1000, 1500, 2000]},\n",
       "                   random_state=50)"
      ]
     },
     "execution_count": 285,
     "metadata": {},
     "output_type": "execute_result"
    }
   ],
   "source": [
    "randomsearch = RandomForestClassifier() \n",
    "RF_S = RandomizedSearchCV(estimator=randomsearch,param_distributions=search,n_jobs=-1,random_state=50,cv=5)\n",
    "RF_S.fit(x_train, y_train)"
   ]
  },
  {
   "cell_type": "code",
   "execution_count": 286,
   "id": "74a32aa8-f47a-4265-a949-4c9123400429",
   "metadata": {},
   "outputs": [
    {
     "data": {
      "text/plain": [
       "{'n_estimators': 1000,\n",
       " 'min_samples_split': 5,\n",
       " 'min_samples_leaf': 2,\n",
       " 'max_depth': 14}"
      ]
     },
     "execution_count": 286,
     "metadata": {},
     "output_type": "execute_result"
    }
   ],
   "source": [
    "RF_S.best_params_"
   ]
  },
  {
   "cell_type": "markdown",
   "id": "2a5bf4da-4bbe-4983-af40-2a90975efe09",
   "metadata": {},
   "source": [
    "### Putting best parameter into final model"
   ]
  },
  {
   "cell_type": "code",
   "execution_count": 288,
   "id": "f21ebabd-baf1-431f-af26-8b9b357eed46",
   "metadata": {},
   "outputs": [],
   "source": [
    "Rtree = RandomForestClassifier(n_estimators=1000,min_samples_split=5,min_samples_leaf=2,max_depth=14)"
   ]
  },
  {
   "cell_type": "code",
   "execution_count": 289,
   "id": "b748f620-91e5-4f4a-9ae3-cf8a7a669f44",
   "metadata": {},
   "outputs": [
    {
     "data": {
      "text/plain": [
       "RandomForestClassifier(max_depth=14, min_samples_leaf=2, min_samples_split=5,\n",
       "                       n_estimators=1000)"
      ]
     },
     "execution_count": 289,
     "metadata": {},
     "output_type": "execute_result"
    }
   ],
   "source": [
    "Rtree.fit(x_train,y_train)"
   ]
  },
  {
   "cell_type": "code",
   "execution_count": 298,
   "id": "8bc5efdd-3036-4c85-b155-a7f601e7b0a3",
   "metadata": {},
   "outputs": [],
   "source": [
    "prediction = Rtree.predict(x_test)"
   ]
  },
  {
   "cell_type": "markdown",
   "id": "65d476d6-b27b-498c-9dad-f699ff0dc4e1",
   "metadata": {},
   "source": [
    "### Checing the Accuracy with Confusion Matrix and Classification Report"
   ]
  },
  {
   "cell_type": "code",
   "execution_count": 404,
   "id": "5f1fbac7-a323-4f9e-ae64-133677858951",
   "metadata": {},
   "outputs": [],
   "source": [
    "cm = confusion_matrix(prediction,y_test)"
   ]
  },
  {
   "cell_type": "code",
   "execution_count": 405,
   "id": "6305aec9-f6de-4957-a25f-54fcf235b5e2",
   "metadata": {},
   "outputs": [
    {
     "data": {
      "text/plain": [
       "array([[114,   8,   4],\n",
       "       [  9,  83,   0],\n",
       "       [  3,   1,  19]], dtype=int64)"
      ]
     },
     "execution_count": 405,
     "metadata": {},
     "output_type": "execute_result"
    }
   ],
   "source": [
    "cm"
   ]
  },
  {
   "cell_type": "code",
   "execution_count": 406,
   "id": "8e24e0dc-28fb-4adf-b44c-5cc06cb93722",
   "metadata": {},
   "outputs": [
    {
     "name": "stdout",
     "output_type": "stream",
     "text": [
      "              precision    recall  f1-score   support\n",
      "\n",
      "           0       0.90      0.90      0.90       126\n",
      "           1       0.90      0.90      0.90        92\n",
      "           2       0.83      0.83      0.83        23\n",
      "\n",
      "    accuracy                           0.90       241\n",
      "   macro avg       0.88      0.88      0.88       241\n",
      "weighted avg       0.90      0.90      0.90       241\n",
      "\n"
     ]
    }
   ],
   "source": [
    "print(classification_report(y_test,prediction))"
   ]
  },
  {
   "cell_type": "markdown",
   "id": "a31eda9d-0752-4bb7-9c29-26f00755563a",
   "metadata": {},
   "source": [
    "### Checking the most important Variable to be considered for the results"
   ]
  },
  {
   "cell_type": "code",
   "execution_count": 356,
   "id": "8bf8ad5f-5433-404a-8722-669ed412faaa",
   "metadata": {},
   "outputs": [],
   "source": [
    "RF_IMP = pd.DataFrame({\"Variable\":list(x.columns),\n",
    "              \"RTree Importance\":list(Rtree.feature_importances_)})"
   ]
  },
  {
   "cell_type": "code",
   "execution_count": 357,
   "id": "50a1dc66-8b76-42c4-8909-b7aa340dbc2d",
   "metadata": {},
   "outputs": [],
   "source": [
    "RF_IMP = RF_IMP.set_index([\"Variable\"])"
   ]
  },
  {
   "cell_type": "code",
   "execution_count": 358,
   "id": "31eb56d7-1cbb-446c-87e1-dbfeee174b64",
   "metadata": {},
   "outputs": [
    {
     "data": {
      "text/html": [
       "<div>\n",
       "<style scoped>\n",
       "    .dataframe tbody tr th:only-of-type {\n",
       "        vertical-align: middle;\n",
       "    }\n",
       "\n",
       "    .dataframe tbody tr th {\n",
       "        vertical-align: top;\n",
       "    }\n",
       "\n",
       "    .dataframe thead th {\n",
       "        text-align: right;\n",
       "    }\n",
       "</style>\n",
       "<table border=\"1\" class=\"dataframe\">\n",
       "  <thead>\n",
       "    <tr style=\"text-align: right;\">\n",
       "      <th></th>\n",
       "      <th>RTree Importance</th>\n",
       "    </tr>\n",
       "    <tr>\n",
       "      <th>Variable</th>\n",
       "      <th></th>\n",
       "    </tr>\n",
       "  </thead>\n",
       "  <tbody>\n",
       "    <tr>\n",
       "      <th>Class Duration</th>\n",
       "      <td>0.196465</td>\n",
       "    </tr>\n",
       "    <tr>\n",
       "      <th>Financial Condition</th>\n",
       "      <td>0.119567</td>\n",
       "    </tr>\n",
       "    <tr>\n",
       "      <th>Age</th>\n",
       "      <td>0.118258</td>\n",
       "    </tr>\n",
       "    <tr>\n",
       "      <th>Gender_Girl</th>\n",
       "      <td>0.085368</td>\n",
       "    </tr>\n",
       "    <tr>\n",
       "      <th>Institution Type_Non Government</th>\n",
       "      <td>0.082093</td>\n",
       "    </tr>\n",
       "    <tr>\n",
       "      <th>Education Level</th>\n",
       "      <td>0.068006</td>\n",
       "    </tr>\n",
       "    <tr>\n",
       "      <th>Network Type</th>\n",
       "      <td>0.063131</td>\n",
       "    </tr>\n",
       "    <tr>\n",
       "      <th>Internet Type_Wifi</th>\n",
       "      <td>0.060911</td>\n",
       "    </tr>\n",
       "    <tr>\n",
       "      <th>Location_Yes</th>\n",
       "      <td>0.056220</td>\n",
       "    </tr>\n",
       "    <tr>\n",
       "      <th>Device</th>\n",
       "      <td>0.050423</td>\n",
       "    </tr>\n",
       "    <tr>\n",
       "      <th>IT Student_Yes</th>\n",
       "      <td>0.050362</td>\n",
       "    </tr>\n",
       "    <tr>\n",
       "      <th>Self Lms_Yes</th>\n",
       "      <td>0.049196</td>\n",
       "    </tr>\n",
       "  </tbody>\n",
       "</table>\n",
       "</div>"
      ],
      "text/plain": [
       "                                 RTree Importance\n",
       "Variable                                         \n",
       "Class Duration                           0.196465\n",
       "Financial Condition                      0.119567\n",
       "Age                                      0.118258\n",
       "Gender_Girl                              0.085368\n",
       "Institution Type_Non Government          0.082093\n",
       "Education Level                          0.068006\n",
       "Network Type                             0.063131\n",
       "Internet Type_Wifi                       0.060911\n",
       "Location_Yes                             0.056220\n",
       "Device                                   0.050423\n",
       "IT Student_Yes                           0.050362\n",
       "Self Lms_Yes                             0.049196"
      ]
     },
     "execution_count": 358,
     "metadata": {},
     "output_type": "execute_result"
    }
   ],
   "source": [
    "RF_IMP.sort_values([\"RTree Importance\"],ascending=False)"
   ]
  },
  {
   "cell_type": "markdown",
   "id": "8e2eb9e5-afb4-4eec-b279-acec58e17751",
   "metadata": {},
   "source": [
    "### Using Hyperparameter Tuning for the XGBoost Model"
   ]
  },
  {
   "cell_type": "code",
   "execution_count": 314,
   "id": "5d8458c8-14c8-40a3-969d-da3c429f2cc2",
   "metadata": {},
   "outputs": [],
   "source": [
    "n_estimators = [1000,1500,2000]\n",
    "learning_rate = [0.1, 0.08, 0.06, 0.03, 0.01]\n",
    "max_depth = [2, 6, 8, 12, 14, 16]\n",
    "min_samples_split = [2, 5, 10, 12, 14]\n",
    "min_samples_leaf = [2, 4, 6, 8, 10, 12, 14]\n",
    "search = {'n_estimators': n_estimators,\n",
    "               'max_depth': max_depth,\n",
    "                'learning_rate' : learning_rate,\n",
    "               'min_samples_split': min_samples_split,\n",
    "               'min_samples_leaf': min_samples_leaf,\n",
    "               }"
   ]
  },
  {
   "cell_type": "code",
   "execution_count": 315,
   "id": "933dec00-f6a2-4605-879a-e1c6a96c44fb",
   "metadata": {},
   "outputs": [
    {
     "name": "stderr",
     "output_type": "stream",
     "text": [
      "D:\\Program\\lib\\site-packages\\xgboost\\sklearn.py:1224: UserWarning: The use of label encoder in XGBClassifier is deprecated and will be removed in a future release. To remove this warning, do the following: 1) Pass option use_label_encoder=False when constructing XGBClassifier object; and 2) Encode your labels (y) as integers starting with 0, i.e. 0, 1, 2, ..., [num_class - 1].\n",
      "  warnings.warn(label_encoder_deprecation_msg, UserWarning)\n"
     ]
    },
    {
     "name": "stdout",
     "output_type": "stream",
     "text": [
      "[11:38:17] WARNING: C:/Users/Administrator/workspace/xgboost-win64_release_1.5.1/src/learner.cc:576: \n",
      "Parameters: { \"min_samples_leaf\", \"min_samples_split\" } might not be used.\n",
      "\n",
      "  This could be a false alarm, with some parameters getting used by language bindings but\n",
      "  then being mistakenly passed down to XGBoost core, or some parameter actually being used\n",
      "  but getting flagged wrongly here. Please open an issue if you find any such cases.\n",
      "\n",
      "\n",
      "[11:38:17] WARNING: C:/Users/Administrator/workspace/xgboost-win64_release_1.5.1/src/learner.cc:1115: Starting in XGBoost 1.3.0, the default evaluation metric used with the objective 'multi:softprob' was changed from 'merror' to 'mlogloss'. Explicitly set eval_metric if you'd like to restore the old behavior.\n"
     ]
    },
    {
     "data": {
      "text/plain": [
       "RandomizedSearchCV(cv=5,\n",
       "                   estimator=XGBClassifier(base_score=None, booster=None,\n",
       "                                           colsample_bylevel=None,\n",
       "                                           colsample_bynode=None,\n",
       "                                           colsample_bytree=None,\n",
       "                                           enable_categorical=False, gamma=None,\n",
       "                                           gpu_id=None, importance_type=None,\n",
       "                                           interaction_constraints=None,\n",
       "                                           learning_rate=None,\n",
       "                                           max_delta_step=None, max_depth=None,\n",
       "                                           min_child_weight=None, missing=nan,\n",
       "                                           monotone_constraints...\n",
       "                                           reg_alpha=None, reg_lambda=None,\n",
       "                                           scale_pos_weight=None,\n",
       "                                           subsample=None, tree_method=None,\n",
       "                                           validate_parameters=None,\n",
       "                                           verbosity=None),\n",
       "                   n_jobs=-1,\n",
       "                   param_distributions={'learning_rate': [0.1, 0.08, 0.06, 0.03,\n",
       "                                                          0.01],\n",
       "                                        'max_depth': [2, 6, 8, 12, 14, 16],\n",
       "                                        'min_samples_leaf': [2, 4, 6, 8, 10, 12,\n",
       "                                                             14],\n",
       "                                        'min_samples_split': [2, 5, 10, 12, 14],\n",
       "                                        'n_estimators': [1000, 1500, 2000]},\n",
       "                   random_state=50)"
      ]
     },
     "execution_count": 315,
     "metadata": {},
     "output_type": "execute_result"
    }
   ],
   "source": [
    "randomsearch = XGBClassifier() \n",
    "XGB_S = RandomizedSearchCV(estimator=randomsearch,param_distributions=search,n_jobs=-1,random_state=50,cv=5)\n",
    "XGB_S.fit(x_train, y_train)"
   ]
  },
  {
   "cell_type": "code",
   "execution_count": 316,
   "id": "cbc6c594-df30-41e2-b9a5-1ab51d49a7b6",
   "metadata": {},
   "outputs": [
    {
     "data": {
      "text/plain": [
       "{'n_estimators': 1500,\n",
       " 'min_samples_split': 5,\n",
       " 'min_samples_leaf': 4,\n",
       " 'max_depth': 6,\n",
       " 'learning_rate': 0.03}"
      ]
     },
     "execution_count": 316,
     "metadata": {},
     "output_type": "execute_result"
    }
   ],
   "source": [
    "XGB_S.best_params_"
   ]
  },
  {
   "cell_type": "markdown",
   "id": "9e1ebe3e-c42e-4d34-897e-c38cc9e0b9d1",
   "metadata": {},
   "source": [
    "### Putting best parameter into final model"
   ]
  },
  {
   "cell_type": "code",
   "execution_count": 325,
   "id": "74d66329-739c-4c9d-86c6-e763fa1a1801",
   "metadata": {},
   "outputs": [],
   "source": [
    "XGB = XGBClassifier(n_estimators=1500,min_samples_split=5,min_samples_leaf=4,max_depth=6,learning_rate=0.03)"
   ]
  },
  {
   "cell_type": "code",
   "execution_count": 326,
   "id": "35c63b51-de3d-4b58-ab45-52038a68d7a5",
   "metadata": {},
   "outputs": [
    {
     "name": "stderr",
     "output_type": "stream",
     "text": [
      "D:\\Program\\lib\\site-packages\\xgboost\\sklearn.py:1224: UserWarning: The use of label encoder in XGBClassifier is deprecated and will be removed in a future release. To remove this warning, do the following: 1) Pass option use_label_encoder=False when constructing XGBClassifier object; and 2) Encode your labels (y) as integers starting with 0, i.e. 0, 1, 2, ..., [num_class - 1].\n",
      "  warnings.warn(label_encoder_deprecation_msg, UserWarning)\n"
     ]
    },
    {
     "name": "stdout",
     "output_type": "stream",
     "text": [
      "[11:41:52] WARNING: C:/Users/Administrator/workspace/xgboost-win64_release_1.5.1/src/learner.cc:576: \n",
      "Parameters: { \"min_samples_leaf\", \"min_samples_split\" } might not be used.\n",
      "\n",
      "  This could be a false alarm, with some parameters getting used by language bindings but\n",
      "  then being mistakenly passed down to XGBoost core, or some parameter actually being used\n",
      "  but getting flagged wrongly here. Please open an issue if you find any such cases.\n",
      "\n",
      "\n",
      "[11:41:52] WARNING: C:/Users/Administrator/workspace/xgboost-win64_release_1.5.1/src/learner.cc:1115: Starting in XGBoost 1.3.0, the default evaluation metric used with the objective 'multi:softprob' was changed from 'merror' to 'mlogloss'. Explicitly set eval_metric if you'd like to restore the old behavior.\n"
     ]
    },
    {
     "data": {
      "text/plain": [
       "XGBClassifier(base_score=0.5, booster='gbtree', colsample_bylevel=1,\n",
       "              colsample_bynode=1, colsample_bytree=1, enable_categorical=False,\n",
       "              gamma=0, gpu_id=-1, importance_type=None,\n",
       "              interaction_constraints='', learning_rate=0.03, max_delta_step=0,\n",
       "              max_depth=6, min_child_weight=1, min_samples_leaf=4,\n",
       "              min_samples_split=5, missing=nan, monotone_constraints='()',\n",
       "              n_estimators=1500, n_jobs=8, num_parallel_tree=1,\n",
       "              objective='multi:softprob', predictor='auto', random_state=0,\n",
       "              reg_alpha=0, reg_lambda=1, scale_pos_weight=None, subsample=1,\n",
       "              tree_method='exact', validate_parameters=1, ...)"
      ]
     },
     "execution_count": 326,
     "metadata": {},
     "output_type": "execute_result"
    }
   ],
   "source": [
    "XGB.fit(x_train,y_train)"
   ]
  },
  {
   "cell_type": "code",
   "execution_count": 327,
   "id": "abf6fbf4-33d9-4ffb-a658-669fe3f249c9",
   "metadata": {},
   "outputs": [],
   "source": [
    "predictXGB = XGB.predict(x_test)"
   ]
  },
  {
   "cell_type": "markdown",
   "id": "e805f062-93de-420a-9723-238a5f12dd24",
   "metadata": {},
   "source": [
    "### Checing the Accuracy with Confusion Matrix and Classification Report"
   ]
  },
  {
   "cell_type": "code",
   "execution_count": 402,
   "id": "05bf3c18-21bf-4a84-a60b-d76038af718a",
   "metadata": {},
   "outputs": [
    {
     "data": {
      "text/plain": [
       "array([[117,   9,   0],\n",
       "       [  5,  86,   1],\n",
       "       [  2,   0,  21]], dtype=int64)"
      ]
     },
     "execution_count": 402,
     "metadata": {},
     "output_type": "execute_result"
    }
   ],
   "source": [
    "confusion_matrix(y_test,predictXGB)"
   ]
  },
  {
   "cell_type": "code",
   "execution_count": 403,
   "id": "4b86d52d-30d5-4310-8899-6902db9cbe02",
   "metadata": {},
   "outputs": [
    {
     "name": "stdout",
     "output_type": "stream",
     "text": [
      "              precision    recall  f1-score   support\n",
      "\n",
      "           0       0.94      0.93      0.94       126\n",
      "           1       0.91      0.93      0.92        92\n",
      "           2       0.95      0.91      0.93        23\n",
      "\n",
      "    accuracy                           0.93       241\n",
      "   macro avg       0.93      0.93      0.93       241\n",
      "weighted avg       0.93      0.93      0.93       241\n",
      "\n"
     ]
    }
   ],
   "source": [
    "print(classification_report(y_test,predictXGB))"
   ]
  },
  {
   "cell_type": "markdown",
   "id": "c088d21a-3975-41d9-853b-71a5cfa7a3f1",
   "metadata": {},
   "source": [
    "### Checking the most important Variable to be considered for the results"
   ]
  },
  {
   "cell_type": "code",
   "execution_count": 336,
   "id": "1b4b551e-882c-4929-8140-d3ea26f3950d",
   "metadata": {},
   "outputs": [],
   "source": [
    "XGB_IMP = pd.DataFrame({\"Variable\":list(x.columns),\n",
    "              \"XGB Importance\":list(XGB.feature_importances_)})"
   ]
  },
  {
   "cell_type": "code",
   "execution_count": 354,
   "id": "47eb7567-2fb5-400b-b99c-f7c3f4f4a047",
   "metadata": {},
   "outputs": [],
   "source": [
    "XGB_IMP = XGB_IMP.set_index([\"Variable\"])"
   ]
  },
  {
   "cell_type": "code",
   "execution_count": 355,
   "id": "044a098b-1143-41b0-a68d-e5870dfdf341",
   "metadata": {},
   "outputs": [
    {
     "data": {
      "text/html": [
       "<div>\n",
       "<style scoped>\n",
       "    .dataframe tbody tr th:only-of-type {\n",
       "        vertical-align: middle;\n",
       "    }\n",
       "\n",
       "    .dataframe tbody tr th {\n",
       "        vertical-align: top;\n",
       "    }\n",
       "\n",
       "    .dataframe thead th {\n",
       "        text-align: right;\n",
       "    }\n",
       "</style>\n",
       "<table border=\"1\" class=\"dataframe\">\n",
       "  <thead>\n",
       "    <tr style=\"text-align: right;\">\n",
       "      <th></th>\n",
       "      <th>XGB Importance</th>\n",
       "    </tr>\n",
       "    <tr>\n",
       "      <th>Variable</th>\n",
       "      <th></th>\n",
       "    </tr>\n",
       "  </thead>\n",
       "  <tbody>\n",
       "    <tr>\n",
       "      <th>Class Duration</th>\n",
       "      <td>0.200049</td>\n",
       "    </tr>\n",
       "    <tr>\n",
       "      <th>Financial Condition</th>\n",
       "      <td>0.107436</td>\n",
       "    </tr>\n",
       "    <tr>\n",
       "      <th>Institution Type_Non Government</th>\n",
       "      <td>0.080265</td>\n",
       "    </tr>\n",
       "    <tr>\n",
       "      <th>Gender_Girl</th>\n",
       "      <td>0.077724</td>\n",
       "    </tr>\n",
       "    <tr>\n",
       "      <th>Education Level</th>\n",
       "      <td>0.077328</td>\n",
       "    </tr>\n",
       "    <tr>\n",
       "      <th>Device</th>\n",
       "      <td>0.070445</td>\n",
       "    </tr>\n",
       "    <tr>\n",
       "      <th>Age</th>\n",
       "      <td>0.069518</td>\n",
       "    </tr>\n",
       "    <tr>\n",
       "      <th>Internet Type_Wifi</th>\n",
       "      <td>0.066512</td>\n",
       "    </tr>\n",
       "    <tr>\n",
       "      <th>Network Type</th>\n",
       "      <td>0.065911</td>\n",
       "    </tr>\n",
       "    <tr>\n",
       "      <th>Location_Yes</th>\n",
       "      <td>0.065662</td>\n",
       "    </tr>\n",
       "    <tr>\n",
       "      <th>Self Lms_Yes</th>\n",
       "      <td>0.060390</td>\n",
       "    </tr>\n",
       "    <tr>\n",
       "      <th>IT Student_Yes</th>\n",
       "      <td>0.058759</td>\n",
       "    </tr>\n",
       "  </tbody>\n",
       "</table>\n",
       "</div>"
      ],
      "text/plain": [
       "                                 XGB Importance\n",
       "Variable                                       \n",
       "Class Duration                         0.200049\n",
       "Financial Condition                    0.107436\n",
       "Institution Type_Non Government        0.080265\n",
       "Gender_Girl                            0.077724\n",
       "Education Level                        0.077328\n",
       "Device                                 0.070445\n",
       "Age                                    0.069518\n",
       "Internet Type_Wifi                     0.066512\n",
       "Network Type                           0.065911\n",
       "Location_Yes                           0.065662\n",
       "Self Lms_Yes                           0.060390\n",
       "IT Student_Yes                         0.058759"
      ]
     },
     "execution_count": 355,
     "metadata": {},
     "output_type": "execute_result"
    }
   ],
   "source": [
    "XGB_IMP.sort_values([\"XGB Importance\"],ascending=False)"
   ]
  },
  {
   "cell_type": "markdown",
   "id": "c68a2680-417c-43ff-bbd5-a3379db2b51d",
   "metadata": {},
   "source": [
    "### Comparing Random Forest and XGB"
   ]
  },
  {
   "cell_type": "code",
   "execution_count": 359,
   "id": "9fd9e7c6-f2d7-4408-90de-0b4ee3bbbd3c",
   "metadata": {},
   "outputs": [],
   "source": [
    "combineresults = [XGB_IMP,RF_IMP]"
   ]
  },
  {
   "cell_type": "code",
   "execution_count": 361,
   "id": "3f6a1bd7-e98d-4413-89a1-6f04333fc30b",
   "metadata": {},
   "outputs": [],
   "source": [
    "combine = pd.concat(combineresults,axis=1)"
   ]
  },
  {
   "cell_type": "code",
   "execution_count": 449,
   "id": "d9878e0f-eb88-4fe6-955e-134bceeb42fb",
   "metadata": {},
   "outputs": [],
   "source": [
    "combine = combine.rename(index=\n",
    "                         {\n",
    "                             \"Gender_Girl\":\"Gender\",\n",
    "                             \"Institution Type_Non Government\":\"Institution Type\",\n",
    "                             \"IT Student_Yes\":\"IT Student\",\n",
    "                             \"Location_Yes\":\"Location\",\n",
    "                             \"Internet Type_Wifi\":\"Internet Type\",\n",
    "                             \"Self Lms_Yes\":\"Self Lms\"\n",
    "                         }\n",
    "                        )"
   ]
  },
  {
   "cell_type": "code",
   "execution_count": 478,
   "id": "4021cc19-26ca-451f-a680-6f60864072a3",
   "metadata": {},
   "outputs": [],
   "source": [
    "accu = pd.DataFrame({\"XGB Importance\":accuracy_score(y_test,predictXGB),\"RTree Importance\":accuracy_score(y_test,prediction)},index=[\"Accuracy\"])"
   ]
  },
  {
   "cell_type": "code",
   "execution_count": 482,
   "id": "21bef5c1-b0b1-4e56-a04b-142fe14b198a",
   "metadata": {},
   "outputs": [],
   "source": [
    "combine= pd.concat([accu,combine])"
   ]
  },
  {
   "cell_type": "code",
   "execution_count": 483,
   "id": "78310e09-36aa-451d-b0d3-f63ef72ffd20",
   "metadata": {},
   "outputs": [
    {
     "data": {
      "text/html": [
       "<div>\n",
       "<style scoped>\n",
       "    .dataframe tbody tr th:only-of-type {\n",
       "        vertical-align: middle;\n",
       "    }\n",
       "\n",
       "    .dataframe tbody tr th {\n",
       "        vertical-align: top;\n",
       "    }\n",
       "\n",
       "    .dataframe thead th {\n",
       "        text-align: right;\n",
       "    }\n",
       "</style>\n",
       "<table border=\"1\" class=\"dataframe\">\n",
       "  <thead>\n",
       "    <tr style=\"text-align: right;\">\n",
       "      <th></th>\n",
       "      <th>XGB Importance</th>\n",
       "      <th>RTree Importance</th>\n",
       "    </tr>\n",
       "  </thead>\n",
       "  <tbody>\n",
       "    <tr>\n",
       "      <th>Accuracy</th>\n",
       "      <td>0.929461</td>\n",
       "      <td>0.896266</td>\n",
       "    </tr>\n",
       "    <tr>\n",
       "      <th>Age</th>\n",
       "      <td>0.069518</td>\n",
       "      <td>0.118258</td>\n",
       "    </tr>\n",
       "    <tr>\n",
       "      <th>Education Level</th>\n",
       "      <td>0.077328</td>\n",
       "      <td>0.068006</td>\n",
       "    </tr>\n",
       "    <tr>\n",
       "      <th>Financial Condition</th>\n",
       "      <td>0.107436</td>\n",
       "      <td>0.119567</td>\n",
       "    </tr>\n",
       "    <tr>\n",
       "      <th>Network Type</th>\n",
       "      <td>0.065911</td>\n",
       "      <td>0.063131</td>\n",
       "    </tr>\n",
       "    <tr>\n",
       "      <th>Class Duration</th>\n",
       "      <td>0.200049</td>\n",
       "      <td>0.196465</td>\n",
       "    </tr>\n",
       "    <tr>\n",
       "      <th>Device</th>\n",
       "      <td>0.070445</td>\n",
       "      <td>0.050423</td>\n",
       "    </tr>\n",
       "    <tr>\n",
       "      <th>Gender</th>\n",
       "      <td>0.077724</td>\n",
       "      <td>0.085368</td>\n",
       "    </tr>\n",
       "    <tr>\n",
       "      <th>Institution Type</th>\n",
       "      <td>0.080265</td>\n",
       "      <td>0.082093</td>\n",
       "    </tr>\n",
       "    <tr>\n",
       "      <th>IT Student</th>\n",
       "      <td>0.058759</td>\n",
       "      <td>0.050362</td>\n",
       "    </tr>\n",
       "    <tr>\n",
       "      <th>Location</th>\n",
       "      <td>0.065662</td>\n",
       "      <td>0.056220</td>\n",
       "    </tr>\n",
       "    <tr>\n",
       "      <th>Internet Type</th>\n",
       "      <td>0.066512</td>\n",
       "      <td>0.060911</td>\n",
       "    </tr>\n",
       "    <tr>\n",
       "      <th>Self Lms</th>\n",
       "      <td>0.060390</td>\n",
       "      <td>0.049196</td>\n",
       "    </tr>\n",
       "  </tbody>\n",
       "</table>\n",
       "</div>"
      ],
      "text/plain": [
       "                     XGB Importance  RTree Importance\n",
       "Accuracy                   0.929461          0.896266\n",
       "Age                        0.069518          0.118258\n",
       "Education Level            0.077328          0.068006\n",
       "Financial Condition        0.107436          0.119567\n",
       "Network Type               0.065911          0.063131\n",
       "Class Duration             0.200049          0.196465\n",
       "Device                     0.070445          0.050423\n",
       "Gender                     0.077724          0.085368\n",
       "Institution Type           0.080265          0.082093\n",
       "IT Student                 0.058759          0.050362\n",
       "Location                   0.065662          0.056220\n",
       "Internet Type              0.066512          0.060911\n",
       "Self Lms                   0.060390          0.049196"
      ]
     },
     "execution_count": 483,
     "metadata": {},
     "output_type": "execute_result"
    }
   ],
   "source": [
    "combine"
   ]
  },
  {
   "cell_type": "code",
   "execution_count": 484,
   "id": "f5533b61-82ea-49df-9dae-d660fc03303a",
   "metadata": {},
   "outputs": [
    {
     "data": {
      "text/plain": [
       "<AxesSubplot:>"
      ]
     },
     "execution_count": 484,
     "metadata": {},
     "output_type": "execute_result"
    },
    {
     "data": {
      "image/png": "[encoded data removed]",
      "text/plain": [
       "<Figure size 1080x216 with 1 Axes>"
      ]
     },
     "metadata": {
      "needs_background": "light"
     },
     "output_type": "display_data"
    }
   ],
   "source": [
    "combine.plot(kind=\"bar\",figsize=(15,3))"
   ]
  },
  {
   "cell_type": "code",
   "execution_count": null,
   "id": "4c27e644-4376-4775-99e7-4aee5864a8a2",
   "metadata": {},
   "outputs": [],
   "source": []
  },
  {
   "cell_type": "code",
   "execution_count": null,
   "id": "706268ef-d72f-426b-b141-fcfbeec5ad23",
   "metadata": {},
   "outputs": [],
   "source": []
  },
  {
   "cell_type": "code",
   "execution_count": null,
   "id": "912542e0-1c9c-4977-bce6-f062ab7b9a27",
   "metadata": {},
   "outputs": [],
   "source": []
  },
  {
   "cell_type": "code",
   "execution_count": null,
   "id": "ed38e410-5ae0-4205-9300-a1f674f13f12",
   "metadata": {},
   "outputs": [],
   "source": []
  },
  {
   "cell_type": "code",
   "execution_count": null,
   "id": "6e3e4d52-b3b5-4921-a193-b033f42ae8ae",
   "metadata": {},
   "outputs": [],
   "source": []
  }
 ],
 "metadata": {
  "kernelspec": {
   "display_name": "Python 3 (ipykernel)",
   "language": "python",
   "name": "python3"
  },
  "language_info": {
   "codemirror_mode": {
    "name": "ipython",
    "version": 3
   },
   "file_extension": ".py",
   "mimetype": "text/x-python",
   "name": "python",
   "nbconvert_exporter": "python",
   "pygments_lexer": "ipython3",
   "version": "3.9.7"
  }
 },
 "nbformat": 4,
 "nbformat_minor": 5
}
