{
 "cells": [
  {
   "cell_type": "code",
   "execution_count": 157,
   "id": "dae20be1-afec-42f0-bfb1-e467436b7b8d",
   "metadata": {},
   "outputs": [],
   "source": [
    "import pandas as pd\n",
    "import numpy as np\n",
    "import matplotlib.pyplot as plt\n",
    "import seaborn as sns"
   ]
  },
  {
   "cell_type": "markdown",
   "id": "91e6cf0b-21b5-4da1-8c6c-618d65a39a3e",
   "metadata": {},
   "source": [
    "### Importing the Data"
   ]
  },
  {
   "cell_type": "code",
   "execution_count": 365,
   "id": "19166733-78ca-4769-8337-28879b5e7274",
   "metadata": {},
   "outputs": [],
   "source": [
    "df = pd.read_csv(r\"D:\\Study\\BA\\TEST\\Students Adaptability Level in Online Education\\students_adaptability_level_online_education.csv\")"
   ]
  },
  {
   "cell_type": "markdown",
   "id": "bba325ac-8221-43ab-bb26-553afd671c8f",
   "metadata": {},
   "source": [
    "### Basic Check on data"
   ]
  },
  {
   "cell_type": "code",
   "execution_count": 366,
   "id": "ca905785-cb85-4d3e-802f-d657d0521c7b",
   "metadata": {},
   "outputs": [
    {
     "data": {
      "text/html": [
       "<div>\n",
       "<style scoped>\n",
       "    .dataframe tbody tr th:only-of-type {\n",
       "        vertical-align: middle;\n",
       "    }\n",
       "\n",
       "    .dataframe tbody tr th {\n",
       "        vertical-align: top;\n",
       "    }\n",
       "\n",
       "    .dataframe thead th {\n",
       "        text-align: right;\n",
       "    }\n",
       "</style>\n",
       "<table border=\"1\" class=\"dataframe\">\n",
       "  <thead>\n",
       "    <tr style=\"text-align: right;\">\n",
       "      <th></th>\n",
       "      <th>Gender</th>\n",
       "      <th>Age</th>\n",
       "      <th>Education Level</th>\n",
       "      <th>Institution Type</th>\n",
       "      <th>IT Student</th>\n",
       "      <th>Location</th>\n",
       "      <th>Load-shedding</th>\n",
       "      <th>Financial Condition</th>\n",
       "      <th>Internet Type</th>\n",
       "      <th>Network Type</th>\n",
       "      <th>Class Duration</th>\n",
       "      <th>Self Lms</th>\n",
       "      <th>Device</th>\n",
       "      <th>Adaptivity Level</th>\n",
       "    </tr>\n",
       "  </thead>\n",
       "  <tbody>\n",
       "    <tr>\n",
       "      <th>0</th>\n",
       "      <td>Boy</td>\n",
       "      <td>21-25</td>\n",
       "      <td>University</td>\n",
       "      <td>Non Government</td>\n",
       "      <td>No</td>\n",
       "      <td>Yes</td>\n",
       "      <td>Low</td>\n",
       "      <td>Mid</td>\n",
       "      <td>Wifi</td>\n",
       "      <td>4G</td>\n",
       "      <td>3-6</td>\n",
       "      <td>No</td>\n",
       "      <td>Tab</td>\n",
       "      <td>Moderate</td>\n",
       "    </tr>\n",
       "    <tr>\n",
       "      <th>1</th>\n",
       "      <td>Girl</td>\n",
       "      <td>21-25</td>\n",
       "      <td>University</td>\n",
       "      <td>Non Government</td>\n",
       "      <td>No</td>\n",
       "      <td>Yes</td>\n",
       "      <td>High</td>\n",
       "      <td>Mid</td>\n",
       "      <td>Mobile Data</td>\n",
       "      <td>4G</td>\n",
       "      <td>1-3</td>\n",
       "      <td>Yes</td>\n",
       "      <td>Mobile</td>\n",
       "      <td>Moderate</td>\n",
       "    </tr>\n",
       "    <tr>\n",
       "      <th>2</th>\n",
       "      <td>Girl</td>\n",
       "      <td>16-20</td>\n",
       "      <td>College</td>\n",
       "      <td>Government</td>\n",
       "      <td>No</td>\n",
       "      <td>Yes</td>\n",
       "      <td>Low</td>\n",
       "      <td>Mid</td>\n",
       "      <td>Wifi</td>\n",
       "      <td>4G</td>\n",
       "      <td>1-3</td>\n",
       "      <td>No</td>\n",
       "      <td>Mobile</td>\n",
       "      <td>Moderate</td>\n",
       "    </tr>\n",
       "    <tr>\n",
       "      <th>3</th>\n",
       "      <td>Girl</td>\n",
       "      <td>11-15</td>\n",
       "      <td>School</td>\n",
       "      <td>Non Government</td>\n",
       "      <td>No</td>\n",
       "      <td>Yes</td>\n",
       "      <td>Low</td>\n",
       "      <td>Mid</td>\n",
       "      <td>Mobile Data</td>\n",
       "      <td>4G</td>\n",
       "      <td>1-3</td>\n",
       "      <td>No</td>\n",
       "      <td>Mobile</td>\n",
       "      <td>Moderate</td>\n",
       "    </tr>\n",
       "    <tr>\n",
       "      <th>4</th>\n",
       "      <td>Girl</td>\n",
       "      <td>16-20</td>\n",
       "      <td>School</td>\n",
       "      <td>Non Government</td>\n",
       "      <td>No</td>\n",
       "      <td>Yes</td>\n",
       "      <td>Low</td>\n",
       "      <td>Poor</td>\n",
       "      <td>Mobile Data</td>\n",
       "      <td>3G</td>\n",
       "      <td>0</td>\n",
       "      <td>No</td>\n",
       "      <td>Mobile</td>\n",
       "      <td>Low</td>\n",
       "    </tr>\n",
       "  </tbody>\n",
       "</table>\n",
       "</div>"
      ],
      "text/plain": [
       "  Gender    Age Education Level Institution Type IT Student Location  \\\n",
       "0    Boy  21-25      University   Non Government         No      Yes   \n",
       "1   Girl  21-25      University   Non Government         No      Yes   \n",
       "2   Girl  16-20         College       Government         No      Yes   \n",
       "3   Girl  11-15          School   Non Government         No      Yes   \n",
       "4   Girl  16-20          School   Non Government         No      Yes   \n",
       "\n",
       "  Load-shedding Financial Condition Internet Type Network Type Class Duration  \\\n",
       "0           Low                 Mid          Wifi           4G            3-6   \n",
       "1          High                 Mid   Mobile Data           4G            1-3   \n",
       "2           Low                 Mid          Wifi           4G            1-3   \n",
       "3           Low                 Mid   Mobile Data           4G            1-3   \n",
       "4           Low                Poor   Mobile Data           3G              0   \n",
       "\n",
       "  Self Lms  Device Adaptivity Level  \n",
       "0       No     Tab         Moderate  \n",
       "1      Yes  Mobile         Moderate  \n",
       "2       No  Mobile         Moderate  \n",
       "3       No  Mobile         Moderate  \n",
       "4       No  Mobile              Low  "
      ]
     },
     "execution_count": 366,
     "metadata": {},
     "output_type": "execute_result"
    }
   ],
   "source": [
    "df.head()"
   ]
  },
  {
   "cell_type": "code",
   "execution_count": 367,
   "id": "18da6fdc-748c-47f1-a1f5-74a6f4c7ae49",
   "metadata": {},
   "outputs": [
    {
     "name": "stdout",
     "output_type": "stream",
     "text": [
      "<class 'pandas.core.frame.DataFrame'>\n",
      "RangeIndex: 1205 entries, 0 to 1204\n",
      "Data columns (total 14 columns):\n",
      " #   Column               Non-Null Count  Dtype \n",
      "---  ------               --------------  ----- \n",
      " 0   Gender               1205 non-null   object\n",
      " 1   Age                  1205 non-null   object\n",
      " 2   Education Level      1205 non-null   object\n",
      " 3   Institution Type     1205 non-null   object\n",
      " 4   IT Student           1205 non-null   object\n",
      " 5   Location             1205 non-null   object\n",
      " 6   Load-shedding        1205 non-null   object\n",
      " 7   Financial Condition  1205 non-null   object\n",
      " 8   Internet Type        1205 non-null   object\n",
      " 9   Network Type         1205 non-null   object\n",
      " 10  Class Duration       1205 non-null   object\n",
      " 11  Self Lms             1205 non-null   object\n",
      " 12  Device               1205 non-null   object\n",
      " 13  Adaptivity Level     1205 non-null   object\n",
      "dtypes: object(14)\n",
      "memory usage: 131.9+ KB\n"
     ]
    }
   ],
   "source": [
    "df.info()"
   ]
  },
  {
   "cell_type": "code",
   "execution_count": 368,
   "id": "8186abab-878a-4f2c-b1ff-7d48618aa8be",
   "metadata": {},
   "outputs": [
    {
     "data": {
      "text/plain": [
       "Gender                 0\n",
       "Age                    0\n",
       "Education Level        0\n",
       "Institution Type       0\n",
       "IT Student             0\n",
       "Location               0\n",
       "Load-shedding          0\n",
       "Financial Condition    0\n",
       "Internet Type          0\n",
       "Network Type           0\n",
       "Class Duration         0\n",
       "Self Lms               0\n",
       "Device                 0\n",
       "Adaptivity Level       0\n",
       "dtype: int64"
      ]
     },
     "execution_count": 368,
     "metadata": {},
     "output_type": "execute_result"
    }
   ],
   "source": [
    "df.isna().sum()"
   ]
  },
  {
   "cell_type": "code",
   "execution_count": 369,
   "id": "aafcb8e5-828a-4767-aae5-93978d36231d",
   "metadata": {},
   "outputs": [
    {
     "data": {
      "text/plain": [
       "Gender                 2\n",
       "Age                    6\n",
       "Education Level        3\n",
       "Institution Type       2\n",
       "IT Student             2\n",
       "Location               2\n",
       "Load-shedding          2\n",
       "Financial Condition    3\n",
       "Internet Type          2\n",
       "Network Type           3\n",
       "Class Duration         3\n",
       "Self Lms               2\n",
       "Device                 3\n",
       "Adaptivity Level       3\n",
       "dtype: int64"
      ]
     },
     "execution_count": 369,
     "metadata": {},
     "output_type": "execute_result"
    }
   ],
   "source": [
    "df.nunique()"
   ]
  },
  {
   "cell_type": "markdown",
   "id": "035984ac-179b-4e84-bc0d-848ce4cd009f",
   "metadata": {},
   "source": [
    "### Checking P-Value"
   ]
  },
  {
   "cell_type": "code",
   "execution_count": 370,
   "id": "06fe4375-ac03-4cc9-9a6d-47841fdb8c76",
   "metadata": {},
   "outputs": [
    {
     "name": "stdout",
     "output_type": "stream",
     "text": [
      "Gender p-value = 0.0364\n",
      "Age p-value = 0.0\n",
      "Education Level p-value = 0.0\n",
      "Institution Type p-value = 0.0\n",
      "IT Student p-value = 0.0033\n",
      "Location p-value = 0.0\n",
      "Load-shedding p-value = 0.1258\n",
      "Financial Condition p-value = 0.0\n",
      "Internet Type p-value = 0.0018\n",
      "Network Type p-value = 0.0004\n",
      "Class Duration p-value = 0.0\n",
      "Self Lms p-value = 0.0\n",
      "Device p-value = 0.0\n"
     ]
    }
   ],
   "source": [
    "from scipy.stats import chi2_contingency\n",
    "for col in df.columns:\n",
    "    if col not in ['weight','Adaptivity Level']:\n",
    "        table = pd.crosstab(index=df[col], columns=df['Adaptivity Level'], margins=True)\n",
    "        result = chi2_contingency(table)\n",
    "        print(col,'p-value =',result[1].round(4))"
   ]
  },
  {
   "cell_type": "markdown",
   "id": "1a292082-b7ff-4f1e-9d3b-27a893c85768",
   "metadata": {},
   "source": [
    "##### Load-shedding having a p-Value above 0.05"
   ]
  },
  {
   "cell_type": "markdown",
   "id": "4320eb5c-e18f-4dcd-badf-47f8763e12cc",
   "metadata": {},
   "source": [
    "### Checking the Unique Values within the columns"
   ]
  },
  {
   "cell_type": "code",
   "execution_count": 371,
   "id": "83a6b9d1-928b-4f2b-b7c7-354eeac58dc4",
   "metadata": {},
   "outputs": [
    {
     "data": {
      "text/plain": [
       "Boy     663\n",
       "Girl    542\n",
       "Name: Gender, dtype: int64"
      ]
     },
     "execution_count": 371,
     "metadata": {},
     "output_type": "execute_result"
    }
   ],
   "source": [
    "df[\"Gender\"].value_counts()"
   ]
  },
  {
   "cell_type": "code",
   "execution_count": 372,
   "id": "3aac8065-fa16-4484-b605-fded355a07c1",
   "metadata": {},
   "outputs": [
    {
     "data": {
      "text/plain": [
       "21-25    374\n",
       "11-15    353\n",
       "16-20    278\n",
       "1-5       81\n",
       "26-30     68\n",
       "6-10      51\n",
       "Name: Age, dtype: int64"
      ]
     },
     "execution_count": 372,
     "metadata": {},
     "output_type": "execute_result"
    }
   ],
   "source": [
    "df[\"Age\"].value_counts()"
   ]
  },
  {
   "cell_type": "code",
   "execution_count": 373,
   "id": "098eb931-d73f-4326-abac-d6c5104a0bef",
   "metadata": {},
   "outputs": [
    {
     "data": {
      "text/plain": [
       "School        530\n",
       "University    456\n",
       "College       219\n",
       "Name: Education Level, dtype: int64"
      ]
     },
     "execution_count": 373,
     "metadata": {},
     "output_type": "execute_result"
    }
   ],
   "source": [
    "df[\"Education Level\"].value_counts()"
   ]
  },
  {
   "cell_type": "code",
   "execution_count": 374,
   "id": "7b953d08-356d-4d17-b1cc-ef583d5c2421",
   "metadata": {},
   "outputs": [
    {
     "data": {
      "text/plain": [
       "Non Government    823\n",
       "Government        382\n",
       "Name: Institution Type, dtype: int64"
      ]
     },
     "execution_count": 374,
     "metadata": {},
     "output_type": "execute_result"
    }
   ],
   "source": [
    "df[\"Institution Type\"].value_counts()"
   ]
  },
  {
   "cell_type": "code",
   "execution_count": 375,
   "id": "c3d709ed-d642-4e98-9a80-ade1caf636e9",
   "metadata": {},
   "outputs": [
    {
     "data": {
      "text/plain": [
       "No     901\n",
       "Yes    304\n",
       "Name: IT Student, dtype: int64"
      ]
     },
     "execution_count": 375,
     "metadata": {},
     "output_type": "execute_result"
    }
   ],
   "source": [
    "df[\"IT Student\"].value_counts()"
   ]
  },
  {
   "cell_type": "code",
   "execution_count": 376,
   "id": "e4ffce6d-a401-4183-9063-4efb1f3846ca",
   "metadata": {},
   "outputs": [
    {
     "data": {
      "text/plain": [
       "Yes    935\n",
       "No     270\n",
       "Name: Location, dtype: int64"
      ]
     },
     "execution_count": 376,
     "metadata": {},
     "output_type": "execute_result"
    }
   ],
   "source": [
    "df[\"Location\"].value_counts()"
   ]
  },
  {
   "cell_type": "code",
   "execution_count": 377,
   "id": "6b5b532e-c8bc-408d-9299-bd3cfb6039fe",
   "metadata": {},
   "outputs": [
    {
     "data": {
      "text/plain": [
       "Low     1004\n",
       "High     201\n",
       "Name: Load-shedding, dtype: int64"
      ]
     },
     "execution_count": 377,
     "metadata": {},
     "output_type": "execute_result"
    }
   ],
   "source": [
    "df[\"Load-shedding\"].value_counts()"
   ]
  },
  {
   "cell_type": "code",
   "execution_count": 378,
   "id": "a2dc7d1b-00ff-4320-83ff-15f079652bbb",
   "metadata": {},
   "outputs": [
    {
     "data": {
      "text/plain": [
       "Mid     878\n",
       "Poor    242\n",
       "Rich     85\n",
       "Name: Financial Condition, dtype: int64"
      ]
     },
     "execution_count": 378,
     "metadata": {},
     "output_type": "execute_result"
    }
   ],
   "source": [
    "df[\"Financial Condition\"].value_counts()"
   ]
  },
  {
   "cell_type": "code",
   "execution_count": 379,
   "id": "f41060f4-82d4-4dc5-a288-a17a156b6a1b",
   "metadata": {},
   "outputs": [
    {
     "data": {
      "text/plain": [
       "Mobile Data    695\n",
       "Wifi           510\n",
       "Name: Internet Type, dtype: int64"
      ]
     },
     "execution_count": 379,
     "metadata": {},
     "output_type": "execute_result"
    }
   ],
   "source": [
    "df[\"Internet Type\"].value_counts()"
   ]
  },
  {
   "cell_type": "code",
   "execution_count": 380,
   "id": "a19e83dc-afed-42c5-b517-8b74945b857d",
   "metadata": {},
   "outputs": [
    {
     "data": {
      "text/plain": [
       "4G    775\n",
       "3G    411\n",
       "2G     19\n",
       "Name: Network Type, dtype: int64"
      ]
     },
     "execution_count": 380,
     "metadata": {},
     "output_type": "execute_result"
    }
   ],
   "source": [
    "df[\"Network Type\"].value_counts()"
   ]
  },
  {
   "cell_type": "code",
   "execution_count": 381,
   "id": "08a2f73e-d443-4783-97f0-9527a0b0043c",
   "metadata": {},
   "outputs": [
    {
     "data": {
      "text/plain": [
       "1-3    840\n",
       "3-6    211\n",
       "0      154\n",
       "Name: Class Duration, dtype: int64"
      ]
     },
     "execution_count": 381,
     "metadata": {},
     "output_type": "execute_result"
    }
   ],
   "source": [
    "df[\"Class Duration\"].value_counts()"
   ]
  },
  {
   "cell_type": "code",
   "execution_count": 382,
   "id": "55c17d40-7fe1-40e8-8f46-0ab46908b138",
   "metadata": {},
   "outputs": [
    {
     "data": {
      "text/plain": [
       "Mobile      1013\n",
       "Computer     162\n",
       "Tab           30\n",
       "Name: Device, dtype: int64"
      ]
     },
     "execution_count": 382,
     "metadata": {},
     "output_type": "execute_result"
    }
   ],
   "source": [
    "df[\"Device\"].value_counts()"
   ]
  },
  {
   "cell_type": "markdown",
   "id": "76f2388e-ead8-426a-b874-688d5acb49d0",
   "metadata": {},
   "source": [
    "### Target Variable"
   ]
  },
  {
   "cell_type": "code",
   "execution_count": 383,
   "id": "acd20bb4-b54b-40a4-a6cb-790a6c7113d9",
   "metadata": {},
   "outputs": [
    {
     "data": {
      "text/plain": [
       "Moderate    625\n",
       "Low         480\n",
       "High        100\n",
       "Name: Adaptivity Level, dtype: int64"
      ]
     },
     "execution_count": 383,
     "metadata": {},
     "output_type": "execute_result"
    }
   ],
   "source": [
    "df[\"Adaptivity Level\"].value_counts()"
   ]
  },
  {
   "cell_type": "markdown",
   "id": "6ab65088-78db-4f0c-80f4-f065864cdf5b",
   "metadata": {},
   "source": [
    "### Converting the Values where unique is less than 2 to dummy values (0 or 1)"
   ]
  },
  {
   "cell_type": "code",
   "execution_count": 384,
   "id": "9331f138-e823-4219-b17b-13521feb461c",
   "metadata": {},
   "outputs": [
    {
     "data": {
      "text/plain": [
       "Gender                  True\n",
       "Age                    False\n",
       "Education Level        False\n",
       "Institution Type        True\n",
       "IT Student              True\n",
       "Location                True\n",
       "Load-shedding           True\n",
       "Financial Condition    False\n",
       "Internet Type           True\n",
       "Network Type           False\n",
       "Class Duration         False\n",
       "Self Lms                True\n",
       "Device                 False\n",
       "Adaptivity Level       False\n",
       "dtype: bool"
      ]
     },
     "execution_count": 384,
     "metadata": {},
     "output_type": "execute_result"
    }
   ],
   "source": [
    "df.nunique()<3"
   ]
  },
  {
   "cell_type": "code",
   "execution_count": 385,
   "id": "4674e59c-5fe1-43a0-aa5f-e92e6fd1226d",
   "metadata": {},
   "outputs": [],
   "source": [
    "df = pd.get_dummies(df,columns=[\"Gender\",\"Institution Type\",\"IT Student\",\"Location\",\"Load-shedding\",\"Internet Type\",\"Self Lms\"],drop_first=True)"
   ]
  },
  {
   "cell_type": "code",
   "execution_count": 386,
   "id": "22190e18-adfd-4e3c-bec0-e015b5389bdd",
   "metadata": {},
   "outputs": [
    {
     "name": "stdout",
     "output_type": "stream",
     "text": [
      "<class 'pandas.core.frame.DataFrame'>\n",
      "RangeIndex: 1205 entries, 0 to 1204\n",
      "Data columns (total 14 columns):\n",
      " #   Column                           Non-Null Count  Dtype \n",
      "---  ------                           --------------  ----- \n",
      " 0   Age                              1205 non-null   object\n",
      " 1   Education Level                  1205 non-null   object\n",
      " 2   Financial Condition              1205 non-null   object\n",
      " 3   Network Type                     1205 non-null   object\n",
      " 4   Class Duration                   1205 non-null   object\n",
      " 5   Device                           1205 non-null   object\n",
      " 6   Adaptivity Level                 1205 non-null   object\n",
      " 7   Gender_Girl                      1205 non-null   uint8 \n",
      " 8   Institution Type_Non Government  1205 non-null   uint8 \n",
      " 9   IT Student_Yes                   1205 non-null   uint8 \n",
      " 10  Location_Yes                     1205 non-null   uint8 \n",
      " 11  Load-shedding_Low                1205 non-null   uint8 \n",
      " 12  Internet Type_Wifi               1205 non-null   uint8 \n",
      " 13  Self Lms_Yes                     1205 non-null   uint8 \n",
      "dtypes: object(7), uint8(7)\n",
      "memory usage: 74.3+ KB\n"
     ]
    }
   ],
   "source": [
    "df.info()"
   ]
  },
  {
   "cell_type": "markdown",
   "id": "908b7b74-9fe0-4348-ab61-6be8e229fe4e",
   "metadata": {},
   "source": [
    "### Using LabelEncoder where the value is >3"
   ]
  },
  {
   "cell_type": "code",
   "execution_count": 387,
   "id": "4a3d8bc2-ef82-4156-93c9-f07a0b11b57f",
   "metadata": {},
   "outputs": [
    {
     "data": {
      "text/plain": [
       "Index(['Age', 'Education Level', 'Financial Condition', 'Network Type',\n",
       "       'Class Duration', 'Device', 'Adaptivity Level'],\n",
       "      dtype='object')"
      ]
     },
     "execution_count": 387,
     "metadata": {},
     "output_type": "execute_result"
    }
   ],
   "source": [
    "df.select_dtypes(include=\"object\").columns"
   ]
  },
  {
   "cell_type": "code",
   "execution_count": 388,
   "id": "7bc416e5-1e86-41e4-81eb-9795da6e901f",
   "metadata": {},
   "outputs": [],
   "source": [
    "from sklearn.preprocessing import LabelEncoder\n",
    "le = LabelEncoder()\n",
    "df['Age'] = le.fit_transform(df['Age'])\n",
    "df['Education Level'] = le.fit_transform(df['Education Level'])\n",
    "df['Financial Condition'] = le.fit_transform(df['Financial Condition'])\n",
    "df['Network Type'] = le.fit_transform(df['Network Type'])\n",
    "df['Class Duration'] = le.fit_transform(df['Class Duration'])\n",
    "df['Device'] = le.fit_transform(df['Device'])\n",
    "df['Adaptivity Level'] = le.fit_transform(df['Adaptivity Level'])"
   ]
  },
  {
   "cell_type": "code",
   "execution_count": 390,
   "id": "d15a70e6-1945-4fb9-9fbe-25b8d3902629",
   "metadata": {},
   "outputs": [
    {
     "name": "stdout",
     "output_type": "stream",
     "text": [
      "<class 'pandas.core.frame.DataFrame'>\n",
      "RangeIndex: 1205 entries, 0 to 1204\n",
      "Data columns (total 14 columns):\n",
      " #   Column                           Non-Null Count  Dtype\n",
      "---  ------                           --------------  -----\n",
      " 0   Age                              1205 non-null   int32\n",
      " 1   Education Level                  1205 non-null   int32\n",
      " 2   Financial Condition              1205 non-null   int32\n",
      " 3   Network Type                     1205 non-null   int32\n",
      " 4   Class Duration                   1205 non-null   int32\n",
      " 5   Device                           1205 non-null   int32\n",
      " 6   Adaptivity Level                 1205 non-null   int32\n",
      " 7   Gender_Girl                      1205 non-null   uint8\n",
      " 8   Institution Type_Non Government  1205 non-null   uint8\n",
      " 9   IT Student_Yes                   1205 non-null   uint8\n",
      " 10  Location_Yes                     1205 non-null   uint8\n",
      " 11  Load-shedding_Low                1205 non-null   uint8\n",
      " 12  Internet Type_Wifi               1205 non-null   uint8\n",
      " 13  Self Lms_Yes                     1205 non-null   uint8\n",
      "dtypes: int32(7), uint8(7)\n",
      "memory usage: 41.3 KB\n"
     ]
    }
   ],
   "source": [
    "df.info()"
   ]
  },
  {
   "cell_type": "code",
   "execution_count": 391,
   "id": "7352d6d6-2842-4fbb-a5c4-6901cb0e9313",
   "metadata": {},
   "outputs": [],
   "source": [
    "from sklearn.ensemble import RandomForestClassifier\n",
    "from sklearn.model_selection import train_test_split\n",
    "from sklearn.metrics import classification_report, confusion_matrix"
   ]
  },
  {
   "cell_type": "code",
   "execution_count": 392,
   "id": "b5835143-632f-4fcd-bff9-90bac756b446",
   "metadata": {},
   "outputs": [],
   "source": [
    "y = df['Adaptivity Level']\n",
    "x = df.drop(['Adaptivity Level','Load-shedding_Low'],axis=1)"
   ]
  },
  {
   "cell_type": "code",
   "execution_count": 393,
   "id": "e6ab90ff-28ce-4563-92b4-02a259231456",
   "metadata": {},
   "outputs": [
    {
     "data": {
      "text/plain": [
       "((1205, 12), (1205,))"
      ]
     },
     "execution_count": 393,
     "metadata": {},
     "output_type": "execute_result"
    }
   ],
   "source": [
    "x.shape,y.shape"
   ]
  },
  {
   "cell_type": "code",
   "execution_count": 394,
   "id": "9367f9eb-7550-4c99-94a4-d60af154974b",
   "metadata": {},
   "outputs": [
    {
     "data": {
      "text/plain": [
       "2    625\n",
       "1    480\n",
       "0    100\n",
       "Name: Adaptivity Level, dtype: int64"
      ]
     },
     "execution_count": 394,
     "metadata": {},
     "output_type": "execute_result"
    }
   ],
   "source": [
    "y.value_counts()"
   ]
  },
  {
   "cell_type": "code",
   "execution_count": 395,
   "id": "f1fbdcc3-3143-4405-be6f-2bfb736c3bcb",
   "metadata": {},
   "outputs": [],
   "source": [
    "x_train, x_test, y_train, y_test = train_test_split(x, y, test_size=0.2, random_state=100)"
   ]
  },
  {
   "cell_type": "code",
   "execution_count": 396,
   "id": "556704be-9967-4c1a-b745-12c48a259488",
   "metadata": {},
   "outputs": [],
   "source": [
    "Rtree = RandomForestClassifier(n_estimators=1000)"
   ]
  },
  {
   "cell_type": "code",
   "execution_count": 397,
   "id": "b748f620-91e5-4f4a-9ae3-cf8a7a669f44",
   "metadata": {},
   "outputs": [
    {
     "data": {
      "text/plain": [
       "RandomForestClassifier(n_estimators=1000)"
      ]
     },
     "execution_count": 397,
     "metadata": {},
     "output_type": "execute_result"
    }
   ],
   "source": [
    "Rtree.fit(x_train,y_train)"
   ]
  },
  {
   "cell_type": "code",
   "execution_count": 398,
   "id": "764e3857-c7d9-4c59-9a00-d8439a965d50",
   "metadata": {},
   "outputs": [],
   "source": [
    "prediction = Rtree.predict(x_test)"
   ]
  },
  {
   "cell_type": "code",
   "execution_count": 399,
   "id": "5f1fbac7-a323-4f9e-ae64-133677858951",
   "metadata": {},
   "outputs": [],
   "source": [
    "cm = confusion_matrix(y_test, prediction)"
   ]
  },
  {
   "cell_type": "code",
   "execution_count": 400,
   "id": "6305aec9-f6de-4957-a25f-54fcf235b5e2",
   "metadata": {},
   "outputs": [
    {
     "data": {
      "text/plain": [
       "array([[ 21,   0,   2],\n",
       "       [  1,  86,   5],\n",
       "       [  0,   8, 118]], dtype=int64)"
      ]
     },
     "execution_count": 400,
     "metadata": {},
     "output_type": "execute_result"
    }
   ],
   "source": [
    "cm"
   ]
  },
  {
   "cell_type": "code",
   "execution_count": 402,
   "id": "8e24e0dc-28fb-4adf-b44c-5cc06cb93722",
   "metadata": {},
   "outputs": [
    {
     "name": "stdout",
     "output_type": "stream",
     "text": [
      "              precision    recall  f1-score   support\n",
      "\n",
      "           0       0.95      0.91      0.93        23\n",
      "           1       0.91      0.93      0.92        92\n",
      "           2       0.94      0.94      0.94       126\n",
      "\n",
      "    accuracy                           0.93       241\n",
      "   macro avg       0.94      0.93      0.93       241\n",
      "weighted avg       0.93      0.93      0.93       241\n",
      "\n"
     ]
    }
   ],
   "source": [
    "print(classification_report(y_test,prediction))"
   ]
  },
  {
   "cell_type": "code",
   "execution_count": null,
   "id": "9612171f-8f39-4dfa-bc23-09e28cd40ddc",
   "metadata": {},
   "outputs": [],
   "source": []
  },
  {
   "cell_type": "code",
   "execution_count": null,
   "id": "74d66329-739c-4c9d-86c6-e763fa1a1801",
   "metadata": {},
   "outputs": [],
   "source": []
  }
 ],
 "metadata": {
  "kernelspec": {
   "display_name": "Python 3 (ipykernel)",
   "language": "python",
   "name": "python3"
  },
  "language_info": {
   "codemirror_mode": {
    "name": "ipython",
    "version": 3
   },
   "file_extension": ".py",
   "mimetype": "text/x-python",
   "name": "python",
   "nbconvert_exporter": "python",
   "pygments_lexer": "ipython3",
   "version": "3.9.7"
  }
 },
 "nbformat": 4,
 "nbformat_minor": 5
}
